{
 "cells": [
  {
   "cell_type": "markdown",
   "id": "a1818696",
   "metadata": {},
   "source": [
    "# Retail project"
   ]
  },
  {
   "cell_type": "markdown",
   "id": "a2b24637",
   "metadata": {},
   "source": [
    "## Part 1 - Data loading and preprocessing"
   ]
  },
  {
   "cell_type": "code",
   "execution_count": 1107,
   "id": "471eec6d",
   "metadata": {},
   "outputs": [],
   "source": [
    "import pandas as pd\n",
    "import seaborn as sns\n",
    "from matplotlib import pyplot as plt\n",
    "import numpy as np\n",
    "import scipy.stats as st\n",
    "from plotly import graph_objects as go"
   ]
  },
  {
   "cell_type": "code",
   "execution_count": 1108,
   "id": "28429e5c",
   "metadata": {},
   "outputs": [],
   "source": [
    "try:\n",
    "    retail = pd.read_csv('/Users/user/Downloads/retail_dataset_us.csv')\n",
    "    \n",
    "except:\n",
    "    retail = pd.read_csv('/datasets/retail_dataset_us.csv')"
   ]
  },
  {
   "cell_type": "code",
   "execution_count": 1109,
   "id": "095a75be",
   "metadata": {},
   "outputs": [],
   "source": [
    "try:\n",
    "    products = pd.read_csv('/Users/user/Downloads/product_codes_us.csv', sep = ';')\n",
    "    \n",
    "except:\n",
    "    products = pd.read_csv('/datasets/product_codes_us.csv', sep = ';')"
   ]
  },
  {
   "cell_type": "code",
   "execution_count": 1110,
   "id": "70222e7c",
   "metadata": {},
   "outputs": [],
   "source": [
    "datasets = ['retail', 'products']"
   ]
  },
  {
   "cell_type": "code",
   "execution_count": 1111,
   "id": "25e16451",
   "metadata": {},
   "outputs": [
    {
     "name": "stdout",
     "output_type": "stream",
     "text": [
      "-----retail-----\n",
      "           \n",
      "  purchaseid item_ID  Quantity         purchasedate  CustomerID  \\\n",
      "0     538280   21873        11  2016-12-10 12:50:00     18427.0   \n",
      "1     538862   22195         0  2016-12-14 14:11:00     22389.0   \n",
      "2     538855   21239         7  2016-12-14 13:50:00     22182.0   \n",
      "3     543543   22271         0  2017-02-09 15:33:00     23522.0   \n",
      "4     543812   79321         0  2017-02-13 14:40:00     23151.0   \n",
      "\n",
      "   loyalty_program   ShopID  \n",
      "0                0   Shop 3  \n",
      "1                1   Shop 2  \n",
      "2                1   Shop 3  \n",
      "3                1  Shop 28  \n",
      "4                1  Shop 28  \n",
      "           \n",
      "Info:\n",
      "<class 'pandas.core.frame.DataFrame'>\n",
      "RangeIndex: 105335 entries, 0 to 105334\n",
      "Data columns (total 7 columns):\n",
      " #   Column           Non-Null Count   Dtype  \n",
      "---  ------           --------------   -----  \n",
      " 0   purchaseid       105335 non-null  object \n",
      " 1   item_ID          105335 non-null  object \n",
      " 2   Quantity         105335 non-null  int64  \n",
      " 3   purchasedate     105335 non-null  object \n",
      " 4   CustomerID       69125 non-null   float64\n",
      " 5   loyalty_program  105335 non-null  int64  \n",
      " 6   ShopID           105335 non-null  object \n",
      "dtypes: float64(1), int64(2), object(4)\n",
      "memory usage: 5.6+ MB\n",
      "None\n",
      "           \n",
      "Shape:\n",
      "(105335, 7)\n",
      "           \n",
      "Missing values:\n",
      "purchaseid             0\n",
      "item_ID                0\n",
      "Quantity               0\n",
      "purchasedate           0\n",
      "CustomerID         36210\n",
      "loyalty_program        0\n",
      "ShopID                 0\n",
      "dtype: int64\n",
      "           \n",
      "Duplicates:\n",
      "1033\n",
      "          \n",
      "-----products-----\n",
      "           \n",
      "  productID  price_per_one\n",
      "0     10002           0.85\n",
      "1     10080           0.85\n",
      "2     10120           0.21\n",
      "3    10123C           0.65\n",
      "4    10124A           0.42\n",
      "           \n",
      "Info:\n",
      "<class 'pandas.core.frame.DataFrame'>\n",
      "RangeIndex: 3159 entries, 0 to 3158\n",
      "Data columns (total 2 columns):\n",
      " #   Column         Non-Null Count  Dtype  \n",
      "---  ------         --------------  -----  \n",
      " 0   productID      3159 non-null   object \n",
      " 1   price_per_one  3159 non-null   float64\n",
      "dtypes: float64(1), object(1)\n",
      "memory usage: 49.5+ KB\n",
      "None\n",
      "           \n",
      "Shape:\n",
      "(3159, 2)\n",
      "           \n",
      "Missing values:\n",
      "productID        0\n",
      "price_per_one    0\n",
      "dtype: int64\n",
      "           \n",
      "Duplicates:\n",
      "0\n",
      "          \n"
     ]
    }
   ],
   "source": [
    "for d in datasets:\n",
    "    print('-----{}-----'.format(d))\n",
    "    print('           ')\n",
    "    print(vars()[d].head())\n",
    "    print('           ')\n",
    "    print('Info:')\n",
    "    print(vars()[d].info())\n",
    "    print('           ')\n",
    "    print('Shape:')\n",
    "    print(vars()[d].shape)\n",
    "    print('           ')\n",
    "    print('Missing values:')\n",
    "    print(vars()[d].isna().sum())\n",
    "    print('           ')\n",
    "    print('Duplicates:')\n",
    "    print(vars()[d].duplicated().sum())\n",
    "    print('          ')"
   ]
  },
  {
   "cell_type": "markdown",
   "id": "5b134a64",
   "metadata": {},
   "source": [
    "### Description of the datasets: \n",
    "\n",
    "`retail_dataset_us.csv` contains:\n",
    "\n",
    "- `purchaseId`\n",
    "- `item_ID`\n",
    "- `purchasedate`\n",
    "- `Quantity` — the number of items in the purchase\n",
    "- `CustomerID`\n",
    "- `ShopID`\n",
    "- `loyalty_program` — whether the customer is a member of the loyalty program\n",
    "\n",
    "`product_codes_us.csv` contains:\n",
    "\n",
    "- `productID`\n",
    "- `price_per_one`"
   ]
  },
  {
   "cell_type": "markdown",
   "id": "9be11353",
   "metadata": {},
   "source": [
    "We have 1033 duplicated rows at the \"retail\" dataset. As this is realy very small part of our data (les han 1%), I will simply remove it: "
   ]
  },
  {
   "cell_type": "code",
   "execution_count": 1112,
   "id": "a44569ba",
   "metadata": {},
   "outputs": [
    {
     "data": {
      "text/plain": [
       "0"
      ]
     },
     "execution_count": 1112,
     "metadata": {},
     "output_type": "execute_result"
    }
   ],
   "source": [
    "retail.drop_duplicates(inplace=True)\n",
    "retail.duplicated().sum()"
   ]
  },
  {
   "cell_type": "markdown",
   "id": "39419159",
   "metadata": {},
   "source": [
    "More problamtic issue is the amount of rows with missing values at CustomerID column in the \"retail\" dataset. There are 36210 missing values there, more than 1/3 of our data! \n",
    "\n",
    "Let's investigate those rows:"
   ]
  },
  {
   "cell_type": "code",
   "execution_count": 1113,
   "id": "ac0ef1e7",
   "metadata": {},
   "outputs": [
    {
     "data": {
      "text/html": [
       "<div>\n",
       "<style scoped>\n",
       "    .dataframe tbody tr th:only-of-type {\n",
       "        vertical-align: middle;\n",
       "    }\n",
       "\n",
       "    .dataframe tbody tr th {\n",
       "        vertical-align: top;\n",
       "    }\n",
       "\n",
       "    .dataframe thead th {\n",
       "        text-align: right;\n",
       "    }\n",
       "</style>\n",
       "<table border=\"1\" class=\"dataframe\">\n",
       "  <thead>\n",
       "    <tr style=\"text-align: right;\">\n",
       "      <th></th>\n",
       "      <th>purchaseid</th>\n",
       "      <th>item_ID</th>\n",
       "      <th>Quantity</th>\n",
       "      <th>purchasedate</th>\n",
       "      <th>CustomerID</th>\n",
       "      <th>loyalty_program</th>\n",
       "      <th>ShopID</th>\n",
       "    </tr>\n",
       "  </thead>\n",
       "  <tbody>\n",
       "    <tr>\n",
       "      <th>6</th>\n",
       "      <td>540468</td>\n",
       "      <td>22189</td>\n",
       "      <td>0</td>\n",
       "      <td>2017-01-07 13:55:00</td>\n",
       "      <td>NaN</td>\n",
       "      <td>0</td>\n",
       "      <td>Shop 0</td>\n",
       "    </tr>\n",
       "    <tr>\n",
       "      <th>7</th>\n",
       "      <td>541424</td>\n",
       "      <td>79321</td>\n",
       "      <td>1</td>\n",
       "      <td>2017-01-17 17:57:00</td>\n",
       "      <td>NaN</td>\n",
       "      <td>0</td>\n",
       "      <td>Shop 0</td>\n",
       "    </tr>\n",
       "    <tr>\n",
       "      <th>8</th>\n",
       "      <td>538883</td>\n",
       "      <td>22891</td>\n",
       "      <td>0</td>\n",
       "      <td>2016-12-14 15:56:00</td>\n",
       "      <td>NaN</td>\n",
       "      <td>0</td>\n",
       "      <td>Shop 0</td>\n",
       "    </tr>\n",
       "    <tr>\n",
       "      <th>11</th>\n",
       "      <td>541696</td>\n",
       "      <td>22197</td>\n",
       "      <td>4</td>\n",
       "      <td>2017-01-20 18:08:00</td>\n",
       "      <td>NaN</td>\n",
       "      <td>0</td>\n",
       "      <td>Shop 0</td>\n",
       "    </tr>\n",
       "    <tr>\n",
       "      <th>16</th>\n",
       "      <td>539744</td>\n",
       "      <td>22300</td>\n",
       "      <td>5</td>\n",
       "      <td>2016-12-21 15:21:00</td>\n",
       "      <td>NaN</td>\n",
       "      <td>0</td>\n",
       "      <td>Shop 0</td>\n",
       "    </tr>\n",
       "  </tbody>\n",
       "</table>\n",
       "</div>"
      ],
      "text/plain": [
       "   purchaseid item_ID  Quantity         purchasedate  CustomerID  \\\n",
       "6      540468   22189         0  2017-01-07 13:55:00         NaN   \n",
       "7      541424   79321         1  2017-01-17 17:57:00         NaN   \n",
       "8      538883   22891         0  2016-12-14 15:56:00         NaN   \n",
       "11     541696   22197         4  2017-01-20 18:08:00         NaN   \n",
       "16     539744   22300         5  2016-12-21 15:21:00         NaN   \n",
       "\n",
       "    loyalty_program  ShopID  \n",
       "6                 0  Shop 0  \n",
       "7                 0  Shop 0  \n",
       "8                 0  Shop 0  \n",
       "11                0  Shop 0  \n",
       "16                0  Shop 0  "
      ]
     },
     "execution_count": 1113,
     "metadata": {},
     "output_type": "execute_result"
    }
   ],
   "source": [
    "retail[retail['CustomerID'].isnull()].head()"
   ]
  },
  {
   "cell_type": "markdown",
   "id": "548c081a",
   "metadata": {},
   "source": [
    "It's seems that it might be that all the rows with missing value at the CustomerID column have no loyalty program, and their shop is Shop 0. Let's check it: "
   ]
  },
  {
   "cell_type": "code",
   "execution_count": 1114,
   "id": "52f90df4",
   "metadata": {},
   "outputs": [
    {
     "data": {
      "text/plain": [
       "0"
      ]
     },
     "execution_count": 1114,
     "metadata": {},
     "output_type": "execute_result"
    }
   ],
   "source": [
    "retail[retail['CustomerID'].isnull()]['loyalty_program'].sum()"
   ]
  },
  {
   "cell_type": "markdown",
   "id": "adcdb26a",
   "metadata": {},
   "source": [
    "Yep!"
   ]
  },
  {
   "cell_type": "code",
   "execution_count": 1115,
   "id": "20583f41",
   "metadata": {},
   "outputs": [
    {
     "data": {
      "text/plain": [
       "Shop 0     35952\n",
       "Shop 6       127\n",
       "Shop 25       53\n",
       "Shop 21       14\n",
       "Shop 23        2\n",
       "Name: ShopID, dtype: int64"
      ]
     },
     "execution_count": 1115,
     "metadata": {},
     "output_type": "execute_result"
    }
   ],
   "source": [
    "retail[retail['CustomerID'].isnull()]['ShopID'].value_counts()"
   ]
  },
  {
   "cell_type": "markdown",
   "id": "f716b79c",
   "metadata": {},
   "source": [
    "Not all 'CustomerID's missing values have Shop 0, But almost all of them. "
   ]
  },
  {
   "cell_type": "markdown",
   "id": "3db7255c",
   "metadata": {},
   "source": [
    "I think that missing values in the 'CustomerID' might mean random customers, with simply no customer id. That can explain also why they have no loyalty program. \n",
    "If that the case, We should have no purchase id's that have both ar row with a value in their 'CustomerID' cell, and a row with no value their. If we will find such purchase id's, it will disprove our theory.\n",
    "\n",
    "Let's check it:"
   ]
  },
  {
   "cell_type": "code",
   "execution_count": 1116,
   "id": "9ea24c82",
   "metadata": {},
   "outputs": [
    {
     "data": {
      "text/html": [
       "<div>\n",
       "<style scoped>\n",
       "    .dataframe tbody tr th:only-of-type {\n",
       "        vertical-align: middle;\n",
       "    }\n",
       "\n",
       "    .dataframe tbody tr th {\n",
       "        vertical-align: top;\n",
       "    }\n",
       "\n",
       "    .dataframe thead th {\n",
       "        text-align: right;\n",
       "    }\n",
       "</style>\n",
       "<table border=\"1\" class=\"dataframe\">\n",
       "  <thead>\n",
       "    <tr style=\"text-align: right;\">\n",
       "      <th></th>\n",
       "      <th>purchaseid</th>\n",
       "      <th>CustomerID</th>\n",
       "    </tr>\n",
       "  </thead>\n",
       "  <tbody>\n",
       "    <tr>\n",
       "      <th>0</th>\n",
       "      <td>536365</td>\n",
       "      <td>1</td>\n",
       "    </tr>\n",
       "    <tr>\n",
       "      <th>1</th>\n",
       "      <td>543373</td>\n",
       "      <td>1</td>\n",
       "    </tr>\n",
       "    <tr>\n",
       "      <th>2</th>\n",
       "      <td>543380</td>\n",
       "      <td>1</td>\n",
       "    </tr>\n",
       "    <tr>\n",
       "      <th>3</th>\n",
       "      <td>543379</td>\n",
       "      <td>1</td>\n",
       "    </tr>\n",
       "    <tr>\n",
       "      <th>4</th>\n",
       "      <td>543378</td>\n",
       "      <td>1</td>\n",
       "    </tr>\n",
       "    <tr>\n",
       "      <th>...</th>\n",
       "      <td>...</td>\n",
       "      <td>...</td>\n",
       "    </tr>\n",
       "    <tr>\n",
       "      <th>4889</th>\n",
       "      <td>539631</td>\n",
       "      <td>0</td>\n",
       "    </tr>\n",
       "    <tr>\n",
       "      <th>4890</th>\n",
       "      <td>542532</td>\n",
       "      <td>0</td>\n",
       "    </tr>\n",
       "    <tr>\n",
       "      <th>4891</th>\n",
       "      <td>542531</td>\n",
       "      <td>0</td>\n",
       "    </tr>\n",
       "    <tr>\n",
       "      <th>4892</th>\n",
       "      <td>542529</td>\n",
       "      <td>0</td>\n",
       "    </tr>\n",
       "    <tr>\n",
       "      <th>4893</th>\n",
       "      <td>C537572</td>\n",
       "      <td>0</td>\n",
       "    </tr>\n",
       "  </tbody>\n",
       "</table>\n",
       "<p>4894 rows × 2 columns</p>\n",
       "</div>"
      ],
      "text/plain": [
       "     purchaseid  CustomerID\n",
       "0        536365           1\n",
       "1        543373           1\n",
       "2        543380           1\n",
       "3        543379           1\n",
       "4        543378           1\n",
       "...         ...         ...\n",
       "4889     539631           0\n",
       "4890     542532           0\n",
       "4891     542531           0\n",
       "4892     542529           0\n",
       "4893    C537572           0\n",
       "\n",
       "[4894 rows x 2 columns]"
      ]
     },
     "execution_count": 1116,
     "metadata": {},
     "output_type": "execute_result"
    }
   ],
   "source": [
    "x = retail.groupby('purchaseid')['CustomerID'].nunique().sort_values(ascending=False).reset_index()\n",
    "x"
   ]
  },
  {
   "cell_type": "code",
   "execution_count": 1117,
   "id": "8417b2b2",
   "metadata": {},
   "outputs": [
    {
     "data": {
      "text/html": [
       "<div>\n",
       "<style scoped>\n",
       "    .dataframe tbody tr th:only-of-type {\n",
       "        vertical-align: middle;\n",
       "    }\n",
       "\n",
       "    .dataframe tbody tr th {\n",
       "        vertical-align: top;\n",
       "    }\n",
       "\n",
       "    .dataframe thead th {\n",
       "        text-align: right;\n",
       "    }\n",
       "</style>\n",
       "<table border=\"1\" class=\"dataframe\">\n",
       "  <thead>\n",
       "    <tr style=\"text-align: right;\">\n",
       "      <th></th>\n",
       "      <th>purchaseid</th>\n",
       "      <th>CustomerID</th>\n",
       "    </tr>\n",
       "  </thead>\n",
       "  <tbody>\n",
       "    <tr>\n",
       "      <th>4146</th>\n",
       "      <td>C541492</td>\n",
       "      <td>0</td>\n",
       "    </tr>\n",
       "    <tr>\n",
       "      <th>4147</th>\n",
       "      <td>536995</td>\n",
       "      <td>0</td>\n",
       "    </tr>\n",
       "    <tr>\n",
       "      <th>4148</th>\n",
       "      <td>536920</td>\n",
       "      <td>0</td>\n",
       "    </tr>\n",
       "    <tr>\n",
       "      <th>4149</th>\n",
       "      <td>536991</td>\n",
       "      <td>0</td>\n",
       "    </tr>\n",
       "    <tr>\n",
       "      <th>4150</th>\n",
       "      <td>540683</td>\n",
       "      <td>0</td>\n",
       "    </tr>\n",
       "    <tr>\n",
       "      <th>...</th>\n",
       "      <td>...</td>\n",
       "      <td>...</td>\n",
       "    </tr>\n",
       "    <tr>\n",
       "      <th>4889</th>\n",
       "      <td>539631</td>\n",
       "      <td>0</td>\n",
       "    </tr>\n",
       "    <tr>\n",
       "      <th>4890</th>\n",
       "      <td>542532</td>\n",
       "      <td>0</td>\n",
       "    </tr>\n",
       "    <tr>\n",
       "      <th>4891</th>\n",
       "      <td>542531</td>\n",
       "      <td>0</td>\n",
       "    </tr>\n",
       "    <tr>\n",
       "      <th>4892</th>\n",
       "      <td>542529</td>\n",
       "      <td>0</td>\n",
       "    </tr>\n",
       "    <tr>\n",
       "      <th>4893</th>\n",
       "      <td>C537572</td>\n",
       "      <td>0</td>\n",
       "    </tr>\n",
       "  </tbody>\n",
       "</table>\n",
       "<p>748 rows × 2 columns</p>\n",
       "</div>"
      ],
      "text/plain": [
       "     purchaseid  CustomerID\n",
       "4146    C541492           0\n",
       "4147     536995           0\n",
       "4148     536920           0\n",
       "4149     536991           0\n",
       "4150     540683           0\n",
       "...         ...         ...\n",
       "4889     539631           0\n",
       "4890     542532           0\n",
       "4891     542531           0\n",
       "4892     542529           0\n",
       "4893    C537572           0\n",
       "\n",
       "[748 rows x 2 columns]"
      ]
     },
     "execution_count": 1117,
     "metadata": {},
     "output_type": "execute_result"
    }
   ],
   "source": [
    "x = x[x['CustomerID'] == 0]\n",
    "x"
   ]
  },
  {
   "cell_type": "code",
   "execution_count": 1118,
   "id": "80604e70",
   "metadata": {},
   "outputs": [
    {
     "data": {
      "text/html": [
       "<div>\n",
       "<style scoped>\n",
       "    .dataframe tbody tr th:only-of-type {\n",
       "        vertical-align: middle;\n",
       "    }\n",
       "\n",
       "    .dataframe tbody tr th {\n",
       "        vertical-align: top;\n",
       "    }\n",
       "\n",
       "    .dataframe thead th {\n",
       "        text-align: right;\n",
       "    }\n",
       "</style>\n",
       "<table border=\"1\" class=\"dataframe\">\n",
       "  <thead>\n",
       "    <tr style=\"text-align: right;\">\n",
       "      <th></th>\n",
       "      <th>purchaseid</th>\n",
       "      <th>item_ID</th>\n",
       "      <th>Quantity</th>\n",
       "      <th>purchasedate</th>\n",
       "      <th>CustomerID</th>\n",
       "      <th>loyalty_program</th>\n",
       "      <th>ShopID</th>\n",
       "    </tr>\n",
       "  </thead>\n",
       "  <tbody>\n",
       "    <tr>\n",
       "      <th>6</th>\n",
       "      <td>540468</td>\n",
       "      <td>22189</td>\n",
       "      <td>0</td>\n",
       "      <td>2017-01-07 13:55:00</td>\n",
       "      <td>NaN</td>\n",
       "      <td>0</td>\n",
       "      <td>Shop 0</td>\n",
       "    </tr>\n",
       "    <tr>\n",
       "      <th>7</th>\n",
       "      <td>541424</td>\n",
       "      <td>79321</td>\n",
       "      <td>1</td>\n",
       "      <td>2017-01-17 17:57:00</td>\n",
       "      <td>NaN</td>\n",
       "      <td>0</td>\n",
       "      <td>Shop 0</td>\n",
       "    </tr>\n",
       "    <tr>\n",
       "      <th>8</th>\n",
       "      <td>538883</td>\n",
       "      <td>22891</td>\n",
       "      <td>0</td>\n",
       "      <td>2016-12-14 15:56:00</td>\n",
       "      <td>NaN</td>\n",
       "      <td>0</td>\n",
       "      <td>Shop 0</td>\n",
       "    </tr>\n",
       "    <tr>\n",
       "      <th>11</th>\n",
       "      <td>541696</td>\n",
       "      <td>22197</td>\n",
       "      <td>4</td>\n",
       "      <td>2017-01-20 18:08:00</td>\n",
       "      <td>NaN</td>\n",
       "      <td>0</td>\n",
       "      <td>Shop 0</td>\n",
       "    </tr>\n",
       "    <tr>\n",
       "      <th>16</th>\n",
       "      <td>539744</td>\n",
       "      <td>22300</td>\n",
       "      <td>5</td>\n",
       "      <td>2016-12-21 15:21:00</td>\n",
       "      <td>NaN</td>\n",
       "      <td>0</td>\n",
       "      <td>Shop 0</td>\n",
       "    </tr>\n",
       "    <tr>\n",
       "      <th>...</th>\n",
       "      <td>...</td>\n",
       "      <td>...</td>\n",
       "      <td>...</td>\n",
       "      <td>...</td>\n",
       "      <td>...</td>\n",
       "      <td>...</td>\n",
       "      <td>...</td>\n",
       "    </tr>\n",
       "    <tr>\n",
       "      <th>105325</th>\n",
       "      <td>536982</td>\n",
       "      <td>20719</td>\n",
       "      <td>69</td>\n",
       "      <td>2016-12-03 14:27:00</td>\n",
       "      <td>NaN</td>\n",
       "      <td>0</td>\n",
       "      <td>Shop 0</td>\n",
       "    </tr>\n",
       "    <tr>\n",
       "      <th>105326</th>\n",
       "      <td>540681</td>\n",
       "      <td>22227</td>\n",
       "      <td>1</td>\n",
       "      <td>2017-01-10 16:25:00</td>\n",
       "      <td>NaN</td>\n",
       "      <td>0</td>\n",
       "      <td>Shop 0</td>\n",
       "    </tr>\n",
       "    <tr>\n",
       "      <th>105327</th>\n",
       "      <td>538349</td>\n",
       "      <td>22625</td>\n",
       "      <td>0</td>\n",
       "      <td>2016-12-10 14:59:00</td>\n",
       "      <td>NaN</td>\n",
       "      <td>0</td>\n",
       "      <td>Shop 0</td>\n",
       "    </tr>\n",
       "    <tr>\n",
       "      <th>105329</th>\n",
       "      <td>540154</td>\n",
       "      <td>22134</td>\n",
       "      <td>3</td>\n",
       "      <td>2017-01-05 11:30:00</td>\n",
       "      <td>NaN</td>\n",
       "      <td>0</td>\n",
       "      <td>Shop 0</td>\n",
       "    </tr>\n",
       "    <tr>\n",
       "      <th>105330</th>\n",
       "      <td>538566</td>\n",
       "      <td>21826</td>\n",
       "      <td>1</td>\n",
       "      <td>2016-12-13 11:21:00</td>\n",
       "      <td>NaN</td>\n",
       "      <td>0</td>\n",
       "      <td>Shop 0</td>\n",
       "    </tr>\n",
       "  </tbody>\n",
       "</table>\n",
       "<p>36148 rows × 7 columns</p>\n",
       "</div>"
      ],
      "text/plain": [
       "       purchaseid item_ID  Quantity         purchasedate  CustomerID  \\\n",
       "6          540468   22189         0  2017-01-07 13:55:00         NaN   \n",
       "7          541424   79321         1  2017-01-17 17:57:00         NaN   \n",
       "8          538883   22891         0  2016-12-14 15:56:00         NaN   \n",
       "11         541696   22197         4  2017-01-20 18:08:00         NaN   \n",
       "16         539744   22300         5  2016-12-21 15:21:00         NaN   \n",
       "...           ...     ...       ...                  ...         ...   \n",
       "105325     536982   20719        69  2016-12-03 14:27:00         NaN   \n",
       "105326     540681   22227         1  2017-01-10 16:25:00         NaN   \n",
       "105327     538349   22625         0  2016-12-10 14:59:00         NaN   \n",
       "105329     540154   22134         3  2017-01-05 11:30:00         NaN   \n",
       "105330     538566   21826         1  2016-12-13 11:21:00         NaN   \n",
       "\n",
       "        loyalty_program  ShopID  \n",
       "6                     0  Shop 0  \n",
       "7                     0  Shop 0  \n",
       "8                     0  Shop 0  \n",
       "11                    0  Shop 0  \n",
       "16                    0  Shop 0  \n",
       "...                 ...     ...  \n",
       "105325                0  Shop 0  \n",
       "105326                0  Shop 0  \n",
       "105327                0  Shop 0  \n",
       "105329                0  Shop 0  \n",
       "105330                0  Shop 0  \n",
       "\n",
       "[36148 rows x 7 columns]"
      ]
     },
     "execution_count": 1118,
     "metadata": {},
     "output_type": "execute_result"
    }
   ],
   "source": [
    "y = retail[retail['CustomerID'].isna()]\n",
    "y"
   ]
  },
  {
   "cell_type": "code",
   "execution_count": 1119,
   "id": "213ffbd0",
   "metadata": {},
   "outputs": [
    {
     "data": {
      "text/html": [
       "<div>\n",
       "<style scoped>\n",
       "    .dataframe tbody tr th:only-of-type {\n",
       "        vertical-align: middle;\n",
       "    }\n",
       "\n",
       "    .dataframe tbody tr th {\n",
       "        vertical-align: top;\n",
       "    }\n",
       "\n",
       "    .dataframe thead th {\n",
       "        text-align: right;\n",
       "    }\n",
       "</style>\n",
       "<table border=\"1\" class=\"dataframe\">\n",
       "  <thead>\n",
       "    <tr style=\"text-align: right;\">\n",
       "      <th></th>\n",
       "      <th>purchaseid</th>\n",
       "      <th>item_ID</th>\n",
       "      <th>Quantity</th>\n",
       "      <th>purchasedate</th>\n",
       "      <th>CustomerID</th>\n",
       "      <th>loyalty_program</th>\n",
       "      <th>ShopID</th>\n",
       "    </tr>\n",
       "  </thead>\n",
       "  <tbody>\n",
       "    <tr>\n",
       "      <th>6</th>\n",
       "      <td>540468</td>\n",
       "      <td>22189</td>\n",
       "      <td>0</td>\n",
       "      <td>2017-01-07 13:55:00</td>\n",
       "      <td>NaN</td>\n",
       "      <td>0</td>\n",
       "      <td>Shop 0</td>\n",
       "    </tr>\n",
       "    <tr>\n",
       "      <th>7</th>\n",
       "      <td>541424</td>\n",
       "      <td>79321</td>\n",
       "      <td>1</td>\n",
       "      <td>2017-01-17 17:57:00</td>\n",
       "      <td>NaN</td>\n",
       "      <td>0</td>\n",
       "      <td>Shop 0</td>\n",
       "    </tr>\n",
       "    <tr>\n",
       "      <th>8</th>\n",
       "      <td>538883</td>\n",
       "      <td>22891</td>\n",
       "      <td>0</td>\n",
       "      <td>2016-12-14 15:56:00</td>\n",
       "      <td>NaN</td>\n",
       "      <td>0</td>\n",
       "      <td>Shop 0</td>\n",
       "    </tr>\n",
       "    <tr>\n",
       "      <th>11</th>\n",
       "      <td>541696</td>\n",
       "      <td>22197</td>\n",
       "      <td>4</td>\n",
       "      <td>2017-01-20 18:08:00</td>\n",
       "      <td>NaN</td>\n",
       "      <td>0</td>\n",
       "      <td>Shop 0</td>\n",
       "    </tr>\n",
       "    <tr>\n",
       "      <th>16</th>\n",
       "      <td>539744</td>\n",
       "      <td>22300</td>\n",
       "      <td>5</td>\n",
       "      <td>2016-12-21 15:21:00</td>\n",
       "      <td>NaN</td>\n",
       "      <td>0</td>\n",
       "      <td>Shop 0</td>\n",
       "    </tr>\n",
       "    <tr>\n",
       "      <th>...</th>\n",
       "      <td>...</td>\n",
       "      <td>...</td>\n",
       "      <td>...</td>\n",
       "      <td>...</td>\n",
       "      <td>...</td>\n",
       "      <td>...</td>\n",
       "      <td>...</td>\n",
       "    </tr>\n",
       "    <tr>\n",
       "      <th>105325</th>\n",
       "      <td>536982</td>\n",
       "      <td>20719</td>\n",
       "      <td>69</td>\n",
       "      <td>2016-12-03 14:27:00</td>\n",
       "      <td>NaN</td>\n",
       "      <td>0</td>\n",
       "      <td>Shop 0</td>\n",
       "    </tr>\n",
       "    <tr>\n",
       "      <th>105326</th>\n",
       "      <td>540681</td>\n",
       "      <td>22227</td>\n",
       "      <td>1</td>\n",
       "      <td>2017-01-10 16:25:00</td>\n",
       "      <td>NaN</td>\n",
       "      <td>0</td>\n",
       "      <td>Shop 0</td>\n",
       "    </tr>\n",
       "    <tr>\n",
       "      <th>105327</th>\n",
       "      <td>538349</td>\n",
       "      <td>22625</td>\n",
       "      <td>0</td>\n",
       "      <td>2016-12-10 14:59:00</td>\n",
       "      <td>NaN</td>\n",
       "      <td>0</td>\n",
       "      <td>Shop 0</td>\n",
       "    </tr>\n",
       "    <tr>\n",
       "      <th>105329</th>\n",
       "      <td>540154</td>\n",
       "      <td>22134</td>\n",
       "      <td>3</td>\n",
       "      <td>2017-01-05 11:30:00</td>\n",
       "      <td>NaN</td>\n",
       "      <td>0</td>\n",
       "      <td>Shop 0</td>\n",
       "    </tr>\n",
       "    <tr>\n",
       "      <th>105330</th>\n",
       "      <td>538566</td>\n",
       "      <td>21826</td>\n",
       "      <td>1</td>\n",
       "      <td>2016-12-13 11:21:00</td>\n",
       "      <td>NaN</td>\n",
       "      <td>0</td>\n",
       "      <td>Shop 0</td>\n",
       "    </tr>\n",
       "  </tbody>\n",
       "</table>\n",
       "<p>36148 rows × 7 columns</p>\n",
       "</div>"
      ],
      "text/plain": [
       "       purchaseid item_ID  Quantity         purchasedate  CustomerID  \\\n",
       "6          540468   22189         0  2017-01-07 13:55:00         NaN   \n",
       "7          541424   79321         1  2017-01-17 17:57:00         NaN   \n",
       "8          538883   22891         0  2016-12-14 15:56:00         NaN   \n",
       "11         541696   22197         4  2017-01-20 18:08:00         NaN   \n",
       "16         539744   22300         5  2016-12-21 15:21:00         NaN   \n",
       "...           ...     ...       ...                  ...         ...   \n",
       "105325     536982   20719        69  2016-12-03 14:27:00         NaN   \n",
       "105326     540681   22227         1  2017-01-10 16:25:00         NaN   \n",
       "105327     538349   22625         0  2016-12-10 14:59:00         NaN   \n",
       "105329     540154   22134         3  2017-01-05 11:30:00         NaN   \n",
       "105330     538566   21826         1  2016-12-13 11:21:00         NaN   \n",
       "\n",
       "        loyalty_program  ShopID  \n",
       "6                     0  Shop 0  \n",
       "7                     0  Shop 0  \n",
       "8                     0  Shop 0  \n",
       "11                    0  Shop 0  \n",
       "16                    0  Shop 0  \n",
       "...                 ...     ...  \n",
       "105325                0  Shop 0  \n",
       "105326                0  Shop 0  \n",
       "105327                0  Shop 0  \n",
       "105329                0  Shop 0  \n",
       "105330                0  Shop 0  \n",
       "\n",
       "[36148 rows x 7 columns]"
      ]
     },
     "execution_count": 1119,
     "metadata": {},
     "output_type": "execute_result"
    }
   ],
   "source": [
    "z = y[y['purchaseid'].isin(x['purchaseid'])]\n",
    "z"
   ]
  },
  {
   "cell_type": "markdown",
   "id": "68b901e2",
   "metadata": {},
   "source": [
    "We see that all the purchase id's of the rows with the missing values at the 'CustomerID' column have no rows that have a value their. That's support our theory!\n",
    "\n",
    "If that the case, I will fill in the missing values of the 'CustomerID' column simply with their puchase id (the value in the 'purchaseid' column). For these rows, the purchase id will function as customer id as well. We can know for sure that each purcase have been made by the same customer, so it's good that all rows with same purchase id will have the same customer id as well. It's true that it might be that the same rendom customer made several purchases (with different purchase id), but we have no way to know it. Filling in the missing customer id's with their purchase id seems like the best approach we have.\n",
    "\n",
    "Let's do it:"
   ]
  },
  {
   "cell_type": "code",
   "execution_count": 1120,
   "id": "eb9b50e8",
   "metadata": {},
   "outputs": [
    {
     "name": "stdout",
     "output_type": "stream",
     "text": [
      "<class 'pandas.core.frame.DataFrame'>\n",
      "Int64Index: 104302 entries, 0 to 105334\n",
      "Data columns (total 7 columns):\n",
      " #   Column           Non-Null Count   Dtype \n",
      "---  ------           --------------   ----- \n",
      " 0   purchaseid       104302 non-null  object\n",
      " 1   item_ID          104302 non-null  object\n",
      " 2   Quantity         104302 non-null  int64 \n",
      " 3   purchasedate     104302 non-null  object\n",
      " 4   CustomerID       104302 non-null  object\n",
      " 5   loyalty_program  104302 non-null  int64 \n",
      " 6   ShopID           104302 non-null  object\n",
      "dtypes: int64(2), object(5)\n",
      "memory usage: 6.4+ MB\n"
     ]
    }
   ],
   "source": [
    "retail['CustomerID'] = retail['CustomerID'].fillna(retail['purchaseid'])\n",
    "retail.info()"
   ]
  },
  {
   "cell_type": "markdown",
   "id": "1bd6ec1f",
   "metadata": {},
   "source": [
    "Good!\n",
    "\n",
    "Now let's merge our data for best analysis:"
   ]
  },
  {
   "cell_type": "code",
   "execution_count": 1121,
   "id": "06fa8cc7",
   "metadata": {},
   "outputs": [
    {
     "data": {
      "text/html": [
       "<div>\n",
       "<style scoped>\n",
       "    .dataframe tbody tr th:only-of-type {\n",
       "        vertical-align: middle;\n",
       "    }\n",
       "\n",
       "    .dataframe tbody tr th {\n",
       "        vertical-align: top;\n",
       "    }\n",
       "\n",
       "    .dataframe thead th {\n",
       "        text-align: right;\n",
       "    }\n",
       "</style>\n",
       "<table border=\"1\" class=\"dataframe\">\n",
       "  <thead>\n",
       "    <tr style=\"text-align: right;\">\n",
       "      <th></th>\n",
       "      <th>purchaseid</th>\n",
       "      <th>item_ID</th>\n",
       "      <th>Quantity</th>\n",
       "      <th>purchasedate</th>\n",
       "      <th>CustomerID</th>\n",
       "      <th>loyalty_program</th>\n",
       "      <th>ShopID</th>\n",
       "      <th>productID</th>\n",
       "      <th>price_per_one</th>\n",
       "    </tr>\n",
       "  </thead>\n",
       "  <tbody>\n",
       "    <tr>\n",
       "      <th>0</th>\n",
       "      <td>538280</td>\n",
       "      <td>21873</td>\n",
       "      <td>11</td>\n",
       "      <td>2016-12-10 12:50:00</td>\n",
       "      <td>18427.0</td>\n",
       "      <td>0</td>\n",
       "      <td>Shop 3</td>\n",
       "      <td>21873</td>\n",
       "      <td>0.42</td>\n",
       "    </tr>\n",
       "    <tr>\n",
       "      <th>1</th>\n",
       "      <td>538862</td>\n",
       "      <td>22195</td>\n",
       "      <td>0</td>\n",
       "      <td>2016-12-14 14:11:00</td>\n",
       "      <td>22389.0</td>\n",
       "      <td>1</td>\n",
       "      <td>Shop 2</td>\n",
       "      <td>22195</td>\n",
       "      <td>1.65</td>\n",
       "    </tr>\n",
       "    <tr>\n",
       "      <th>2</th>\n",
       "      <td>538855</td>\n",
       "      <td>21239</td>\n",
       "      <td>7</td>\n",
       "      <td>2016-12-14 13:50:00</td>\n",
       "      <td>22182.0</td>\n",
       "      <td>1</td>\n",
       "      <td>Shop 3</td>\n",
       "      <td>21239</td>\n",
       "      <td>0.72</td>\n",
       "    </tr>\n",
       "    <tr>\n",
       "      <th>3</th>\n",
       "      <td>543543</td>\n",
       "      <td>22271</td>\n",
       "      <td>0</td>\n",
       "      <td>2017-02-09 15:33:00</td>\n",
       "      <td>23522.0</td>\n",
       "      <td>1</td>\n",
       "      <td>Shop 28</td>\n",
       "      <td>22271</td>\n",
       "      <td>2.55</td>\n",
       "    </tr>\n",
       "    <tr>\n",
       "      <th>4</th>\n",
       "      <td>543812</td>\n",
       "      <td>79321</td>\n",
       "      <td>0</td>\n",
       "      <td>2017-02-13 14:40:00</td>\n",
       "      <td>23151.0</td>\n",
       "      <td>1</td>\n",
       "      <td>Shop 28</td>\n",
       "      <td>79321</td>\n",
       "      <td>0.00</td>\n",
       "    </tr>\n",
       "  </tbody>\n",
       "</table>\n",
       "</div>"
      ],
      "text/plain": [
       "  purchaseid item_ID  Quantity         purchasedate CustomerID  \\\n",
       "0     538280   21873        11  2016-12-10 12:50:00    18427.0   \n",
       "1     538862   22195         0  2016-12-14 14:11:00    22389.0   \n",
       "2     538855   21239         7  2016-12-14 13:50:00    22182.0   \n",
       "3     543543   22271         0  2017-02-09 15:33:00    23522.0   \n",
       "4     543812   79321         0  2017-02-13 14:40:00    23151.0   \n",
       "\n",
       "   loyalty_program   ShopID productID  price_per_one  \n",
       "0                0   Shop 3     21873           0.42  \n",
       "1                1   Shop 2     22195           1.65  \n",
       "2                1   Shop 3     21239           0.72  \n",
       "3                1  Shop 28     22271           2.55  \n",
       "4                1  Shop 28     79321           0.00  "
      ]
     },
     "execution_count": 1121,
     "metadata": {},
     "output_type": "execute_result"
    }
   ],
   "source": [
    "merged_data = pd.merge(retail, products, how=\"left\", left_on='item_ID', right_on='productID')\n",
    "merged_data.head()"
   ]
  },
  {
   "cell_type": "code",
   "execution_count": 1122,
   "id": "99223f9f",
   "metadata": {},
   "outputs": [
    {
     "name": "stderr",
     "output_type": "stream",
     "text": [
      "C:\\Users\\user\\AppData\\Local\\Temp/ipykernel_10960/78572246.py:1: FutureWarning:\n",
      "\n",
      "In a future version of pandas all arguments of DataFrame.drop except for the argument 'labels' will be keyword-only\n",
      "\n"
     ]
    },
    {
     "data": {
      "text/html": [
       "<div>\n",
       "<style scoped>\n",
       "    .dataframe tbody tr th:only-of-type {\n",
       "        vertical-align: middle;\n",
       "    }\n",
       "\n",
       "    .dataframe tbody tr th {\n",
       "        vertical-align: top;\n",
       "    }\n",
       "\n",
       "    .dataframe thead th {\n",
       "        text-align: right;\n",
       "    }\n",
       "</style>\n",
       "<table border=\"1\" class=\"dataframe\">\n",
       "  <thead>\n",
       "    <tr style=\"text-align: right;\">\n",
       "      <th></th>\n",
       "      <th>purchaseid</th>\n",
       "      <th>item_ID</th>\n",
       "      <th>Quantity</th>\n",
       "      <th>purchasedate</th>\n",
       "      <th>CustomerID</th>\n",
       "      <th>loyalty_program</th>\n",
       "      <th>ShopID</th>\n",
       "      <th>price_per_one</th>\n",
       "    </tr>\n",
       "  </thead>\n",
       "  <tbody>\n",
       "    <tr>\n",
       "      <th>0</th>\n",
       "      <td>538280</td>\n",
       "      <td>21873</td>\n",
       "      <td>11</td>\n",
       "      <td>2016-12-10 12:50:00</td>\n",
       "      <td>18427.0</td>\n",
       "      <td>0</td>\n",
       "      <td>Shop 3</td>\n",
       "      <td>0.42</td>\n",
       "    </tr>\n",
       "    <tr>\n",
       "      <th>1</th>\n",
       "      <td>538862</td>\n",
       "      <td>22195</td>\n",
       "      <td>0</td>\n",
       "      <td>2016-12-14 14:11:00</td>\n",
       "      <td>22389.0</td>\n",
       "      <td>1</td>\n",
       "      <td>Shop 2</td>\n",
       "      <td>1.65</td>\n",
       "    </tr>\n",
       "    <tr>\n",
       "      <th>2</th>\n",
       "      <td>538855</td>\n",
       "      <td>21239</td>\n",
       "      <td>7</td>\n",
       "      <td>2016-12-14 13:50:00</td>\n",
       "      <td>22182.0</td>\n",
       "      <td>1</td>\n",
       "      <td>Shop 3</td>\n",
       "      <td>0.72</td>\n",
       "    </tr>\n",
       "    <tr>\n",
       "      <th>3</th>\n",
       "      <td>543543</td>\n",
       "      <td>22271</td>\n",
       "      <td>0</td>\n",
       "      <td>2017-02-09 15:33:00</td>\n",
       "      <td>23522.0</td>\n",
       "      <td>1</td>\n",
       "      <td>Shop 28</td>\n",
       "      <td>2.55</td>\n",
       "    </tr>\n",
       "    <tr>\n",
       "      <th>4</th>\n",
       "      <td>543812</td>\n",
       "      <td>79321</td>\n",
       "      <td>0</td>\n",
       "      <td>2017-02-13 14:40:00</td>\n",
       "      <td>23151.0</td>\n",
       "      <td>1</td>\n",
       "      <td>Shop 28</td>\n",
       "      <td>0.00</td>\n",
       "    </tr>\n",
       "    <tr>\n",
       "      <th>...</th>\n",
       "      <td>...</td>\n",
       "      <td>...</td>\n",
       "      <td>...</td>\n",
       "      <td>...</td>\n",
       "      <td>...</td>\n",
       "      <td>...</td>\n",
       "      <td>...</td>\n",
       "      <td>...</td>\n",
       "    </tr>\n",
       "    <tr>\n",
       "      <th>104297</th>\n",
       "      <td>538566</td>\n",
       "      <td>21826</td>\n",
       "      <td>1</td>\n",
       "      <td>2016-12-13 11:21:00</td>\n",
       "      <td>538566</td>\n",
       "      <td>0</td>\n",
       "      <td>Shop 0</td>\n",
       "      <td>1.25</td>\n",
       "    </tr>\n",
       "    <tr>\n",
       "      <th>104298</th>\n",
       "      <td>540247</td>\n",
       "      <td>21742</td>\n",
       "      <td>0</td>\n",
       "      <td>2017-01-05 15:56:00</td>\n",
       "      <td>21143.0</td>\n",
       "      <td>0</td>\n",
       "      <td>Shop 24</td>\n",
       "      <td>5.95</td>\n",
       "    </tr>\n",
       "    <tr>\n",
       "      <th>104299</th>\n",
       "      <td>538068</td>\n",
       "      <td>85048</td>\n",
       "      <td>1</td>\n",
       "      <td>2016-12-09 14:05:00</td>\n",
       "      <td>23657.0</td>\n",
       "      <td>1</td>\n",
       "      <td>Shop 16</td>\n",
       "      <td>6.95</td>\n",
       "    </tr>\n",
       "    <tr>\n",
       "      <th>104300</th>\n",
       "      <td>538207</td>\n",
       "      <td>22818</td>\n",
       "      <td>11</td>\n",
       "      <td>2016-12-10 11:33:00</td>\n",
       "      <td>18427.0</td>\n",
       "      <td>0</td>\n",
       "      <td>Shop 29</td>\n",
       "      <td>0.42</td>\n",
       "    </tr>\n",
       "    <tr>\n",
       "      <th>104301</th>\n",
       "      <td>543977</td>\n",
       "      <td>22384</td>\n",
       "      <td>9</td>\n",
       "      <td>2017-02-14 15:35:00</td>\n",
       "      <td>21294.0</td>\n",
       "      <td>0</td>\n",
       "      <td>Shop 19</td>\n",
       "      <td>1.45</td>\n",
       "    </tr>\n",
       "  </tbody>\n",
       "</table>\n",
       "<p>104302 rows × 8 columns</p>\n",
       "</div>"
      ],
      "text/plain": [
       "       purchaseid item_ID  Quantity         purchasedate CustomerID  \\\n",
       "0          538280   21873        11  2016-12-10 12:50:00    18427.0   \n",
       "1          538862   22195         0  2016-12-14 14:11:00    22389.0   \n",
       "2          538855   21239         7  2016-12-14 13:50:00    22182.0   \n",
       "3          543543   22271         0  2017-02-09 15:33:00    23522.0   \n",
       "4          543812   79321         0  2017-02-13 14:40:00    23151.0   \n",
       "...           ...     ...       ...                  ...        ...   \n",
       "104297     538566   21826         1  2016-12-13 11:21:00     538566   \n",
       "104298     540247   21742         0  2017-01-05 15:56:00    21143.0   \n",
       "104299     538068   85048         1  2016-12-09 14:05:00    23657.0   \n",
       "104300     538207   22818        11  2016-12-10 11:33:00    18427.0   \n",
       "104301     543977   22384         9  2017-02-14 15:35:00    21294.0   \n",
       "\n",
       "        loyalty_program   ShopID  price_per_one  \n",
       "0                     0   Shop 3           0.42  \n",
       "1                     1   Shop 2           1.65  \n",
       "2                     1   Shop 3           0.72  \n",
       "3                     1  Shop 28           2.55  \n",
       "4                     1  Shop 28           0.00  \n",
       "...                 ...      ...            ...  \n",
       "104297                0   Shop 0           1.25  \n",
       "104298                0  Shop 24           5.95  \n",
       "104299                1  Shop 16           6.95  \n",
       "104300                0  Shop 29           0.42  \n",
       "104301                0  Shop 19           1.45  \n",
       "\n",
       "[104302 rows x 8 columns]"
      ]
     },
     "execution_count": 1122,
     "metadata": {},
     "output_type": "execute_result"
    }
   ],
   "source": [
    "merged_data = merged_data.drop('productID', 1)\n",
    "merged_data"
   ]
  },
  {
   "cell_type": "code",
   "execution_count": 1123,
   "id": "2e83f6d2",
   "metadata": {},
   "outputs": [
    {
     "name": "stdout",
     "output_type": "stream",
     "text": [
      "<class 'pandas.core.frame.DataFrame'>\n",
      "Int64Index: 104302 entries, 0 to 104301\n",
      "Data columns (total 8 columns):\n",
      " #   Column           Non-Null Count   Dtype  \n",
      "---  ------           --------------   -----  \n",
      " 0   purchaseid       104302 non-null  object \n",
      " 1   item_ID          104302 non-null  object \n",
      " 2   Quantity         104302 non-null  int64  \n",
      " 3   purchasedate     104302 non-null  object \n",
      " 4   CustomerID       104302 non-null  object \n",
      " 5   loyalty_program  104302 non-null  int64  \n",
      " 6   ShopID           104302 non-null  object \n",
      " 7   price_per_one    104302 non-null  float64\n",
      "dtypes: float64(1), int64(2), object(5)\n",
      "memory usage: 7.2+ MB\n"
     ]
    }
   ],
   "source": [
    "merged_data.info()"
   ]
  },
  {
   "cell_type": "markdown",
   "id": "840738d2",
   "metadata": {},
   "source": [
    "Let's change the columns name in to one style:"
   ]
  },
  {
   "cell_type": "code",
   "execution_count": 1124,
   "id": "51e844e8",
   "metadata": {},
   "outputs": [
    {
     "name": "stdout",
     "output_type": "stream",
     "text": [
      "<class 'pandas.core.frame.DataFrame'>\n",
      "Int64Index: 104302 entries, 0 to 104301\n",
      "Data columns (total 8 columns):\n",
      " #   Column           Non-Null Count   Dtype  \n",
      "---  ------           --------------   -----  \n",
      " 0   purchase_id      104302 non-null  object \n",
      " 1   item_id          104302 non-null  object \n",
      " 2   quantity         104302 non-null  int64  \n",
      " 3   purchase_date    104302 non-null  object \n",
      " 4   customer_id      104302 non-null  object \n",
      " 5   loyalty_program  104302 non-null  int64  \n",
      " 6   shop_id          104302 non-null  object \n",
      " 7   price_per_one    104302 non-null  float64\n",
      "dtypes: float64(1), int64(2), object(5)\n",
      "memory usage: 7.2+ MB\n"
     ]
    }
   ],
   "source": [
    "merged_data.columns = ['purchase_id', 'item_id', 'quantity', 'purchase_date', 'customer_id', 'loyalty_program', 'shop_id', 'price_per_one']\n",
    "merged_data.info()"
   ]
  },
  {
   "cell_type": "markdown",
   "id": "b6629671",
   "metadata": {},
   "source": [
    "Let's convert the purchase date column to date datatype:"
   ]
  },
  {
   "cell_type": "code",
   "execution_count": 1125,
   "id": "3e0f4358",
   "metadata": {},
   "outputs": [
    {
     "name": "stdout",
     "output_type": "stream",
     "text": [
      "<class 'pandas.core.frame.DataFrame'>\n",
      "Int64Index: 104302 entries, 0 to 104301\n",
      "Data columns (total 8 columns):\n",
      " #   Column           Non-Null Count   Dtype         \n",
      "---  ------           --------------   -----         \n",
      " 0   purchase_id      104302 non-null  object        \n",
      " 1   item_id          104302 non-null  object        \n",
      " 2   quantity         104302 non-null  int64         \n",
      " 3   purchase_date    104302 non-null  datetime64[ns]\n",
      " 4   customer_id      104302 non-null  object        \n",
      " 5   loyalty_program  104302 non-null  int64         \n",
      " 6   shop_id          104302 non-null  object        \n",
      " 7   price_per_one    104302 non-null  float64       \n",
      "dtypes: datetime64[ns](1), float64(1), int64(2), object(4)\n",
      "memory usage: 7.2+ MB\n"
     ]
    }
   ],
   "source": [
    "merged_data['purchase_date'] = pd.to_datetime(merged_data['purchase_date'])\n",
    "merged_data.info()"
   ]
  },
  {
   "cell_type": "markdown",
   "id": "3ea3363c",
   "metadata": {},
   "source": [
    "Some additional \"cosmetic\" changes and additions for more convinient analysis:"
   ]
  },
  {
   "cell_type": "code",
   "execution_count": 1126,
   "id": "3e30b7ca",
   "metadata": {},
   "outputs": [
    {
     "data": {
      "text/html": [
       "<div>\n",
       "<style scoped>\n",
       "    .dataframe tbody tr th:only-of-type {\n",
       "        vertical-align: middle;\n",
       "    }\n",
       "\n",
       "    .dataframe tbody tr th {\n",
       "        vertical-align: top;\n",
       "    }\n",
       "\n",
       "    .dataframe thead th {\n",
       "        text-align: right;\n",
       "    }\n",
       "</style>\n",
       "<table border=\"1\" class=\"dataframe\">\n",
       "  <thead>\n",
       "    <tr style=\"text-align: right;\">\n",
       "      <th></th>\n",
       "      <th>purchase_id</th>\n",
       "      <th>item_id</th>\n",
       "      <th>quantity</th>\n",
       "      <th>purchase_date</th>\n",
       "      <th>customer_id</th>\n",
       "      <th>loyalty_program</th>\n",
       "      <th>shop_id</th>\n",
       "      <th>price_per_one</th>\n",
       "    </tr>\n",
       "  </thead>\n",
       "  <tbody>\n",
       "    <tr>\n",
       "      <th>0</th>\n",
       "      <td>538280</td>\n",
       "      <td>21873</td>\n",
       "      <td>11</td>\n",
       "      <td>2016-12-10 12:50:00</td>\n",
       "      <td>18427.0</td>\n",
       "      <td>0</td>\n",
       "      <td>3</td>\n",
       "      <td>0.42</td>\n",
       "    </tr>\n",
       "    <tr>\n",
       "      <th>1</th>\n",
       "      <td>538862</td>\n",
       "      <td>22195</td>\n",
       "      <td>0</td>\n",
       "      <td>2016-12-14 14:11:00</td>\n",
       "      <td>22389.0</td>\n",
       "      <td>1</td>\n",
       "      <td>2</td>\n",
       "      <td>1.65</td>\n",
       "    </tr>\n",
       "    <tr>\n",
       "      <th>2</th>\n",
       "      <td>538855</td>\n",
       "      <td>21239</td>\n",
       "      <td>7</td>\n",
       "      <td>2016-12-14 13:50:00</td>\n",
       "      <td>22182.0</td>\n",
       "      <td>1</td>\n",
       "      <td>3</td>\n",
       "      <td>0.72</td>\n",
       "    </tr>\n",
       "    <tr>\n",
       "      <th>3</th>\n",
       "      <td>543543</td>\n",
       "      <td>22271</td>\n",
       "      <td>0</td>\n",
       "      <td>2017-02-09 15:33:00</td>\n",
       "      <td>23522.0</td>\n",
       "      <td>1</td>\n",
       "      <td>28</td>\n",
       "      <td>2.55</td>\n",
       "    </tr>\n",
       "    <tr>\n",
       "      <th>4</th>\n",
       "      <td>543812</td>\n",
       "      <td>79321</td>\n",
       "      <td>0</td>\n",
       "      <td>2017-02-13 14:40:00</td>\n",
       "      <td>23151.0</td>\n",
       "      <td>1</td>\n",
       "      <td>28</td>\n",
       "      <td>0.00</td>\n",
       "    </tr>\n",
       "  </tbody>\n",
       "</table>\n",
       "</div>"
      ],
      "text/plain": [
       "  purchase_id item_id  quantity       purchase_date customer_id  \\\n",
       "0      538280   21873        11 2016-12-10 12:50:00     18427.0   \n",
       "1      538862   22195         0 2016-12-14 14:11:00     22389.0   \n",
       "2      538855   21239         7 2016-12-14 13:50:00     22182.0   \n",
       "3      543543   22271         0 2017-02-09 15:33:00     23522.0   \n",
       "4      543812   79321         0 2017-02-13 14:40:00     23151.0   \n",
       "\n",
       "   loyalty_program shop_id  price_per_one  \n",
       "0                0       3           0.42  \n",
       "1                1       2           1.65  \n",
       "2                1       3           0.72  \n",
       "3                1      28           2.55  \n",
       "4                1      28           0.00  "
      ]
     },
     "execution_count": 1126,
     "metadata": {},
     "output_type": "execute_result"
    }
   ],
   "source": [
    "merged_data['shop_id'] = merged_data['shop_id'].str.replace('Shop', '')\n",
    "merged_data.head()"
   ]
  },
  {
   "cell_type": "code",
   "execution_count": 1127,
   "id": "d1ed46dd",
   "metadata": {},
   "outputs": [
    {
     "data": {
      "text/html": [
       "<div>\n",
       "<style scoped>\n",
       "    .dataframe tbody tr th:only-of-type {\n",
       "        vertical-align: middle;\n",
       "    }\n",
       "\n",
       "    .dataframe tbody tr th {\n",
       "        vertical-align: top;\n",
       "    }\n",
       "\n",
       "    .dataframe thead th {\n",
       "        text-align: right;\n",
       "    }\n",
       "</style>\n",
       "<table border=\"1\" class=\"dataframe\">\n",
       "  <thead>\n",
       "    <tr style=\"text-align: right;\">\n",
       "      <th></th>\n",
       "      <th>purchase_id</th>\n",
       "      <th>item_id</th>\n",
       "      <th>quantity</th>\n",
       "      <th>purchase_date</th>\n",
       "      <th>customer_id</th>\n",
       "      <th>loyalty_program</th>\n",
       "      <th>shop_id</th>\n",
       "      <th>price_per_one</th>\n",
       "      <th>month</th>\n",
       "    </tr>\n",
       "  </thead>\n",
       "  <tbody>\n",
       "    <tr>\n",
       "      <th>0</th>\n",
       "      <td>538280</td>\n",
       "      <td>21873</td>\n",
       "      <td>11</td>\n",
       "      <td>2016-12-10 12:50:00</td>\n",
       "      <td>18427.0</td>\n",
       "      <td>0</td>\n",
       "      <td>3</td>\n",
       "      <td>0.42</td>\n",
       "      <td>2016-12</td>\n",
       "    </tr>\n",
       "    <tr>\n",
       "      <th>1</th>\n",
       "      <td>538862</td>\n",
       "      <td>22195</td>\n",
       "      <td>0</td>\n",
       "      <td>2016-12-14 14:11:00</td>\n",
       "      <td>22389.0</td>\n",
       "      <td>1</td>\n",
       "      <td>2</td>\n",
       "      <td>1.65</td>\n",
       "      <td>2016-12</td>\n",
       "    </tr>\n",
       "    <tr>\n",
       "      <th>2</th>\n",
       "      <td>538855</td>\n",
       "      <td>21239</td>\n",
       "      <td>7</td>\n",
       "      <td>2016-12-14 13:50:00</td>\n",
       "      <td>22182.0</td>\n",
       "      <td>1</td>\n",
       "      <td>3</td>\n",
       "      <td>0.72</td>\n",
       "      <td>2016-12</td>\n",
       "    </tr>\n",
       "    <tr>\n",
       "      <th>3</th>\n",
       "      <td>543543</td>\n",
       "      <td>22271</td>\n",
       "      <td>0</td>\n",
       "      <td>2017-02-09 15:33:00</td>\n",
       "      <td>23522.0</td>\n",
       "      <td>1</td>\n",
       "      <td>28</td>\n",
       "      <td>2.55</td>\n",
       "      <td>2017-02</td>\n",
       "    </tr>\n",
       "    <tr>\n",
       "      <th>4</th>\n",
       "      <td>543812</td>\n",
       "      <td>79321</td>\n",
       "      <td>0</td>\n",
       "      <td>2017-02-13 14:40:00</td>\n",
       "      <td>23151.0</td>\n",
       "      <td>1</td>\n",
       "      <td>28</td>\n",
       "      <td>0.00</td>\n",
       "      <td>2017-02</td>\n",
       "    </tr>\n",
       "  </tbody>\n",
       "</table>\n",
       "</div>"
      ],
      "text/plain": [
       "  purchase_id item_id  quantity       purchase_date customer_id  \\\n",
       "0      538280   21873        11 2016-12-10 12:50:00     18427.0   \n",
       "1      538862   22195         0 2016-12-14 14:11:00     22389.0   \n",
       "2      538855   21239         7 2016-12-14 13:50:00     22182.0   \n",
       "3      543543   22271         0 2017-02-09 15:33:00     23522.0   \n",
       "4      543812   79321         0 2017-02-13 14:40:00     23151.0   \n",
       "\n",
       "   loyalty_program shop_id  price_per_one    month  \n",
       "0                0       3           0.42  2016-12  \n",
       "1                1       2           1.65  2016-12  \n",
       "2                1       3           0.72  2016-12  \n",
       "3                1      28           2.55  2017-02  \n",
       "4                1      28           0.00  2017-02  "
      ]
     },
     "execution_count": 1127,
     "metadata": {},
     "output_type": "execute_result"
    }
   ],
   "source": [
    "merged_data['month'] = merged_data['purchase_date'].dt.to_period(\"M\")\n",
    "merged_data.head()"
   ]
  },
  {
   "cell_type": "markdown",
   "id": "72abf5bf",
   "metadata": {},
   "source": [
    "Finaly, let's add \"revenue\" column to our data:"
   ]
  },
  {
   "cell_type": "code",
   "execution_count": 1128,
   "id": "6d1d0d04",
   "metadata": {},
   "outputs": [
    {
     "data": {
      "text/html": [
       "<div>\n",
       "<style scoped>\n",
       "    .dataframe tbody tr th:only-of-type {\n",
       "        vertical-align: middle;\n",
       "    }\n",
       "\n",
       "    .dataframe tbody tr th {\n",
       "        vertical-align: top;\n",
       "    }\n",
       "\n",
       "    .dataframe thead th {\n",
       "        text-align: right;\n",
       "    }\n",
       "</style>\n",
       "<table border=\"1\" class=\"dataframe\">\n",
       "  <thead>\n",
       "    <tr style=\"text-align: right;\">\n",
       "      <th></th>\n",
       "      <th>purchase_id</th>\n",
       "      <th>item_id</th>\n",
       "      <th>quantity</th>\n",
       "      <th>purchase_date</th>\n",
       "      <th>customer_id</th>\n",
       "      <th>loyalty_program</th>\n",
       "      <th>shop_id</th>\n",
       "      <th>price_per_one</th>\n",
       "      <th>month</th>\n",
       "      <th>revenue</th>\n",
       "    </tr>\n",
       "  </thead>\n",
       "  <tbody>\n",
       "    <tr>\n",
       "      <th>0</th>\n",
       "      <td>538280</td>\n",
       "      <td>21873</td>\n",
       "      <td>11</td>\n",
       "      <td>2016-12-10 12:50:00</td>\n",
       "      <td>18427.0</td>\n",
       "      <td>0</td>\n",
       "      <td>3</td>\n",
       "      <td>0.42</td>\n",
       "      <td>2016-12</td>\n",
       "      <td>4.62</td>\n",
       "    </tr>\n",
       "    <tr>\n",
       "      <th>1</th>\n",
       "      <td>538862</td>\n",
       "      <td>22195</td>\n",
       "      <td>0</td>\n",
       "      <td>2016-12-14 14:11:00</td>\n",
       "      <td>22389.0</td>\n",
       "      <td>1</td>\n",
       "      <td>2</td>\n",
       "      <td>1.65</td>\n",
       "      <td>2016-12</td>\n",
       "      <td>0.00</td>\n",
       "    </tr>\n",
       "    <tr>\n",
       "      <th>2</th>\n",
       "      <td>538855</td>\n",
       "      <td>21239</td>\n",
       "      <td>7</td>\n",
       "      <td>2016-12-14 13:50:00</td>\n",
       "      <td>22182.0</td>\n",
       "      <td>1</td>\n",
       "      <td>3</td>\n",
       "      <td>0.72</td>\n",
       "      <td>2016-12</td>\n",
       "      <td>5.04</td>\n",
       "    </tr>\n",
       "    <tr>\n",
       "      <th>3</th>\n",
       "      <td>543543</td>\n",
       "      <td>22271</td>\n",
       "      <td>0</td>\n",
       "      <td>2017-02-09 15:33:00</td>\n",
       "      <td>23522.0</td>\n",
       "      <td>1</td>\n",
       "      <td>28</td>\n",
       "      <td>2.55</td>\n",
       "      <td>2017-02</td>\n",
       "      <td>0.00</td>\n",
       "    </tr>\n",
       "    <tr>\n",
       "      <th>4</th>\n",
       "      <td>543812</td>\n",
       "      <td>79321</td>\n",
       "      <td>0</td>\n",
       "      <td>2017-02-13 14:40:00</td>\n",
       "      <td>23151.0</td>\n",
       "      <td>1</td>\n",
       "      <td>28</td>\n",
       "      <td>0.00</td>\n",
       "      <td>2017-02</td>\n",
       "      <td>0.00</td>\n",
       "    </tr>\n",
       "    <tr>\n",
       "      <th>...</th>\n",
       "      <td>...</td>\n",
       "      <td>...</td>\n",
       "      <td>...</td>\n",
       "      <td>...</td>\n",
       "      <td>...</td>\n",
       "      <td>...</td>\n",
       "      <td>...</td>\n",
       "      <td>...</td>\n",
       "      <td>...</td>\n",
       "      <td>...</td>\n",
       "    </tr>\n",
       "    <tr>\n",
       "      <th>104297</th>\n",
       "      <td>538566</td>\n",
       "      <td>21826</td>\n",
       "      <td>1</td>\n",
       "      <td>2016-12-13 11:21:00</td>\n",
       "      <td>538566</td>\n",
       "      <td>0</td>\n",
       "      <td>0</td>\n",
       "      <td>1.25</td>\n",
       "      <td>2016-12</td>\n",
       "      <td>1.25</td>\n",
       "    </tr>\n",
       "    <tr>\n",
       "      <th>104298</th>\n",
       "      <td>540247</td>\n",
       "      <td>21742</td>\n",
       "      <td>0</td>\n",
       "      <td>2017-01-05 15:56:00</td>\n",
       "      <td>21143.0</td>\n",
       "      <td>0</td>\n",
       "      <td>24</td>\n",
       "      <td>5.95</td>\n",
       "      <td>2017-01</td>\n",
       "      <td>0.00</td>\n",
       "    </tr>\n",
       "    <tr>\n",
       "      <th>104299</th>\n",
       "      <td>538068</td>\n",
       "      <td>85048</td>\n",
       "      <td>1</td>\n",
       "      <td>2016-12-09 14:05:00</td>\n",
       "      <td>23657.0</td>\n",
       "      <td>1</td>\n",
       "      <td>16</td>\n",
       "      <td>6.95</td>\n",
       "      <td>2016-12</td>\n",
       "      <td>6.95</td>\n",
       "    </tr>\n",
       "    <tr>\n",
       "      <th>104300</th>\n",
       "      <td>538207</td>\n",
       "      <td>22818</td>\n",
       "      <td>11</td>\n",
       "      <td>2016-12-10 11:33:00</td>\n",
       "      <td>18427.0</td>\n",
       "      <td>0</td>\n",
       "      <td>29</td>\n",
       "      <td>0.42</td>\n",
       "      <td>2016-12</td>\n",
       "      <td>4.62</td>\n",
       "    </tr>\n",
       "    <tr>\n",
       "      <th>104301</th>\n",
       "      <td>543977</td>\n",
       "      <td>22384</td>\n",
       "      <td>9</td>\n",
       "      <td>2017-02-14 15:35:00</td>\n",
       "      <td>21294.0</td>\n",
       "      <td>0</td>\n",
       "      <td>19</td>\n",
       "      <td>1.45</td>\n",
       "      <td>2017-02</td>\n",
       "      <td>13.05</td>\n",
       "    </tr>\n",
       "  </tbody>\n",
       "</table>\n",
       "<p>104302 rows × 10 columns</p>\n",
       "</div>"
      ],
      "text/plain": [
       "       purchase_id item_id  quantity       purchase_date customer_id  \\\n",
       "0           538280   21873        11 2016-12-10 12:50:00     18427.0   \n",
       "1           538862   22195         0 2016-12-14 14:11:00     22389.0   \n",
       "2           538855   21239         7 2016-12-14 13:50:00     22182.0   \n",
       "3           543543   22271         0 2017-02-09 15:33:00     23522.0   \n",
       "4           543812   79321         0 2017-02-13 14:40:00     23151.0   \n",
       "...            ...     ...       ...                 ...         ...   \n",
       "104297      538566   21826         1 2016-12-13 11:21:00      538566   \n",
       "104298      540247   21742         0 2017-01-05 15:56:00     21143.0   \n",
       "104299      538068   85048         1 2016-12-09 14:05:00     23657.0   \n",
       "104300      538207   22818        11 2016-12-10 11:33:00     18427.0   \n",
       "104301      543977   22384         9 2017-02-14 15:35:00     21294.0   \n",
       "\n",
       "        loyalty_program shop_id  price_per_one    month  revenue  \n",
       "0                     0       3           0.42  2016-12     4.62  \n",
       "1                     1       2           1.65  2016-12     0.00  \n",
       "2                     1       3           0.72  2016-12     5.04  \n",
       "3                     1      28           2.55  2017-02     0.00  \n",
       "4                     1      28           0.00  2017-02     0.00  \n",
       "...                 ...     ...            ...      ...      ...  \n",
       "104297                0       0           1.25  2016-12     1.25  \n",
       "104298                0      24           5.95  2017-01     0.00  \n",
       "104299                1      16           6.95  2016-12     6.95  \n",
       "104300                0      29           0.42  2016-12     4.62  \n",
       "104301                0      19           1.45  2017-02    13.05  \n",
       "\n",
       "[104302 rows x 10 columns]"
      ]
     },
     "execution_count": 1128,
     "metadata": {},
     "output_type": "execute_result"
    }
   ],
   "source": [
    "merged_data['revenue'] = merged_data['quantity']*merged_data['price_per_one']\n",
    "merged_data"
   ]
  },
  {
   "cell_type": "markdown",
   "id": "0eb217d0",
   "metadata": {},
   "source": [
    "2 notes about the revenue calculation:\n",
    "1. We didn't add any data in regard to the revenue from the loyalty program fee ($20 per month). We will want to carry out our exploratory data analysis and test our first hypothesis based on product sales only. We will add this info later, when it will be needed.\n",
    "2. We have no data about the discounts and gifts that's loyalty programs gives. As such, we should take in consideration that our revenue calculation is not fully accurate for the loyalty program purchases."
   ]
  },
  {
   "cell_type": "markdown",
   "id": "b38d99ea",
   "metadata": {},
   "source": [
    "now our data is prepared for analysis!"
   ]
  },
  {
   "cell_type": "markdown",
   "id": "28eee34f",
   "metadata": {},
   "source": [
    "## Part 2 - Exploratory data analysis:"
   ]
  },
  {
   "cell_type": "markdown",
   "id": "6f896245",
   "metadata": {},
   "source": [
    "#### Study of the parameters: 'price_per_one' and 'quantity' :\n",
    " - Plot histograms \n",
    " - Study how outliers affect the form and readability of the histograms"
   ]
  },
  {
   "cell_type": "code",
   "execution_count": 1129,
   "id": "05d214e2",
   "metadata": {},
   "outputs": [],
   "source": [
    "parameters = ['price_per_one', 'quantity']"
   ]
  },
  {
   "cell_type": "code",
   "execution_count": 1130,
   "id": "251fd8ce",
   "metadata": {},
   "outputs": [
    {
     "name": "stdout",
     "output_type": "stream",
     "text": [
      "-----price_per_one-----\n",
      "          \n",
      "count    104302.000000\n",
      "mean          2.065705\n",
      "std           3.726409\n",
      "min           0.000000\n",
      "25%           0.420000\n",
      "50%           1.250000\n",
      "75%           2.550000\n",
      "max         175.000000\n",
      "Name: price_per_one, dtype: float64\n",
      "          \n",
      "-----quantity-----\n",
      "          \n",
      "count    104302.000000\n",
      "mean          7.883003\n",
      "std         329.565540\n",
      "min      -74216.000000\n",
      "25%           0.000000\n",
      "50%           2.000000\n",
      "75%           7.000000\n",
      "max       74214.000000\n",
      "Name: quantity, dtype: float64\n",
      "          \n"
     ]
    },
    {
     "data": {
      "image/png": "[encoded data removed]",
      "text/plain": [
       "<Figure size 936x360 with 1 Axes>"
      ]
     },
     "metadata": {
      "needs_background": "light"
     },
     "output_type": "display_data"
    },
    {
     "data": {
      "image/png": "[encoded data removed]",
      "text/plain": [
       "<Figure size 936x360 with 1 Axes>"
      ]
     },
     "metadata": {
      "needs_background": "light"
     },
     "output_type": "display_data"
    }
   ],
   "source": [
    "for p in parameters:\n",
    "    print('-----{}-----'.format(p))\n",
    "    print('          ')\n",
    "    print(merged_data[p].describe())\n",
    "    print('          ')\n",
    "    plt.figure(figsize=(13, 5))\n",
    "    merged_data[p].hist()\n",
    "    plt.title(p)"
   ]
  },
  {
   "cell_type": "markdown",
   "id": "f366a18d",
   "metadata": {},
   "source": [
    "Let's identify and outliers for those 2 parameters, and see how much of our data  will be removed if we will remove them:"
   ]
  },
  {
   "cell_type": "code",
   "execution_count": 1131,
   "id": "063f3f0a",
   "metadata": {},
   "outputs": [],
   "source": [
    "border_list=[]\n",
    "for p in parameters:\n",
    "    Q1 = merged_data[p].quantile(0.25)\n",
    "    Q3 = merged_data[p].quantile(0.75)\n",
    "    IQR = Q3 - Q1\n",
    "    min_iqr=Q1-1.5*IQR\n",
    "    max_iqr=Q3+1.5*IQR\n",
    "    border_list.append([p,min_iqr,max_iqr])"
   ]
  },
  {
   "cell_type": "code",
   "execution_count": 1132,
   "id": "af089417",
   "metadata": {},
   "outputs": [
    {
     "data": {
      "text/plain": [
       "[['price_per_one', -2.775, 5.744999999999999], ['quantity', -10.5, 17.5]]"
      ]
     },
     "execution_count": 1132,
     "metadata": {},
     "output_type": "execute_result"
    }
   ],
   "source": [
    "border_list"
   ]
  },
  {
   "cell_type": "code",
   "execution_count": 1133,
   "id": "fc4f876d",
   "metadata": {},
   "outputs": [
    {
     "data": {
      "text/html": [
       "<div>\n",
       "<style scoped>\n",
       "    .dataframe tbody tr th:only-of-type {\n",
       "        vertical-align: middle;\n",
       "    }\n",
       "\n",
       "    .dataframe tbody tr th {\n",
       "        vertical-align: top;\n",
       "    }\n",
       "\n",
       "    .dataframe thead th {\n",
       "        text-align: right;\n",
       "    }\n",
       "</style>\n",
       "<table border=\"1\" class=\"dataframe\">\n",
       "  <thead>\n",
       "    <tr style=\"text-align: right;\">\n",
       "      <th></th>\n",
       "      <th>parameter</th>\n",
       "      <th>min_border</th>\n",
       "      <th>max_border</th>\n",
       "    </tr>\n",
       "  </thead>\n",
       "  <tbody>\n",
       "    <tr>\n",
       "      <th>0</th>\n",
       "      <td>price_per_one</td>\n",
       "      <td>-2.775</td>\n",
       "      <td>5.745</td>\n",
       "    </tr>\n",
       "    <tr>\n",
       "      <th>1</th>\n",
       "      <td>quantity</td>\n",
       "      <td>-10.500</td>\n",
       "      <td>17.500</td>\n",
       "    </tr>\n",
       "  </tbody>\n",
       "</table>\n",
       "</div>"
      ],
      "text/plain": [
       "       parameter  min_border  max_border\n",
       "0  price_per_one      -2.775       5.745\n",
       "1       quantity     -10.500      17.500"
      ]
     },
     "execution_count": 1133,
     "metadata": {},
     "output_type": "execute_result"
    }
   ],
   "source": [
    "border_data=pd.DataFrame(border_list,columns=['parameter','min_border','max_border'])\n",
    "border_data"
   ]
  },
  {
   "cell_type": "code",
   "execution_count": 1134,
   "id": "4ace5616",
   "metadata": {},
   "outputs": [
    {
     "data": {
      "text/html": [
       "<div>\n",
       "<style scoped>\n",
       "    .dataframe tbody tr th:only-of-type {\n",
       "        vertical-align: middle;\n",
       "    }\n",
       "\n",
       "    .dataframe tbody tr th {\n",
       "        vertical-align: top;\n",
       "    }\n",
       "\n",
       "    .dataframe thead th {\n",
       "        text-align: right;\n",
       "    }\n",
       "</style>\n",
       "<table border=\"1\" class=\"dataframe\">\n",
       "  <thead>\n",
       "    <tr style=\"text-align: right;\">\n",
       "      <th></th>\n",
       "      <th>purchase_id</th>\n",
       "      <th>item_id</th>\n",
       "      <th>quantity</th>\n",
       "      <th>purchase_date</th>\n",
       "      <th>customer_id</th>\n",
       "      <th>loyalty_program</th>\n",
       "      <th>shop_id</th>\n",
       "      <th>price_per_one</th>\n",
       "      <th>month</th>\n",
       "      <th>revenue</th>\n",
       "    </tr>\n",
       "  </thead>\n",
       "  <tbody>\n",
       "    <tr>\n",
       "      <th>0</th>\n",
       "      <td>538280</td>\n",
       "      <td>21873</td>\n",
       "      <td>11</td>\n",
       "      <td>2016-12-10 12:50:00</td>\n",
       "      <td>18427.0</td>\n",
       "      <td>0</td>\n",
       "      <td>3</td>\n",
       "      <td>0.42</td>\n",
       "      <td>2016-12</td>\n",
       "      <td>4.62</td>\n",
       "    </tr>\n",
       "    <tr>\n",
       "      <th>1</th>\n",
       "      <td>538862</td>\n",
       "      <td>22195</td>\n",
       "      <td>0</td>\n",
       "      <td>2016-12-14 14:11:00</td>\n",
       "      <td>22389.0</td>\n",
       "      <td>1</td>\n",
       "      <td>2</td>\n",
       "      <td>1.65</td>\n",
       "      <td>2016-12</td>\n",
       "      <td>0.00</td>\n",
       "    </tr>\n",
       "    <tr>\n",
       "      <th>2</th>\n",
       "      <td>538855</td>\n",
       "      <td>21239</td>\n",
       "      <td>7</td>\n",
       "      <td>2016-12-14 13:50:00</td>\n",
       "      <td>22182.0</td>\n",
       "      <td>1</td>\n",
       "      <td>3</td>\n",
       "      <td>0.72</td>\n",
       "      <td>2016-12</td>\n",
       "      <td>5.04</td>\n",
       "    </tr>\n",
       "    <tr>\n",
       "      <th>3</th>\n",
       "      <td>543543</td>\n",
       "      <td>22271</td>\n",
       "      <td>0</td>\n",
       "      <td>2017-02-09 15:33:00</td>\n",
       "      <td>23522.0</td>\n",
       "      <td>1</td>\n",
       "      <td>28</td>\n",
       "      <td>2.55</td>\n",
       "      <td>2017-02</td>\n",
       "      <td>0.00</td>\n",
       "    </tr>\n",
       "    <tr>\n",
       "      <th>4</th>\n",
       "      <td>543812</td>\n",
       "      <td>79321</td>\n",
       "      <td>0</td>\n",
       "      <td>2017-02-13 14:40:00</td>\n",
       "      <td>23151.0</td>\n",
       "      <td>1</td>\n",
       "      <td>28</td>\n",
       "      <td>0.00</td>\n",
       "      <td>2017-02</td>\n",
       "      <td>0.00</td>\n",
       "    </tr>\n",
       "    <tr>\n",
       "      <th>...</th>\n",
       "      <td>...</td>\n",
       "      <td>...</td>\n",
       "      <td>...</td>\n",
       "      <td>...</td>\n",
       "      <td>...</td>\n",
       "      <td>...</td>\n",
       "      <td>...</td>\n",
       "      <td>...</td>\n",
       "      <td>...</td>\n",
       "      <td>...</td>\n",
       "    </tr>\n",
       "    <tr>\n",
       "      <th>104295</th>\n",
       "      <td>537886</td>\n",
       "      <td>22158</td>\n",
       "      <td>7</td>\n",
       "      <td>2016-12-09 09:49:00</td>\n",
       "      <td>21339.0</td>\n",
       "      <td>0</td>\n",
       "      <td>13</td>\n",
       "      <td>0.00</td>\n",
       "      <td>2016-12</td>\n",
       "      <td>0.00</td>\n",
       "    </tr>\n",
       "    <tr>\n",
       "      <th>104296</th>\n",
       "      <td>540154</td>\n",
       "      <td>22134</td>\n",
       "      <td>3</td>\n",
       "      <td>2017-01-05 11:30:00</td>\n",
       "      <td>540154</td>\n",
       "      <td>0</td>\n",
       "      <td>0</td>\n",
       "      <td>0.42</td>\n",
       "      <td>2017-01</td>\n",
       "      <td>1.26</td>\n",
       "    </tr>\n",
       "    <tr>\n",
       "      <th>104297</th>\n",
       "      <td>538566</td>\n",
       "      <td>21826</td>\n",
       "      <td>1</td>\n",
       "      <td>2016-12-13 11:21:00</td>\n",
       "      <td>538566</td>\n",
       "      <td>0</td>\n",
       "      <td>0</td>\n",
       "      <td>1.25</td>\n",
       "      <td>2016-12</td>\n",
       "      <td>1.25</td>\n",
       "    </tr>\n",
       "    <tr>\n",
       "      <th>104300</th>\n",
       "      <td>538207</td>\n",
       "      <td>22818</td>\n",
       "      <td>11</td>\n",
       "      <td>2016-12-10 11:33:00</td>\n",
       "      <td>18427.0</td>\n",
       "      <td>0</td>\n",
       "      <td>29</td>\n",
       "      <td>0.42</td>\n",
       "      <td>2016-12</td>\n",
       "      <td>4.62</td>\n",
       "    </tr>\n",
       "    <tr>\n",
       "      <th>104301</th>\n",
       "      <td>543977</td>\n",
       "      <td>22384</td>\n",
       "      <td>9</td>\n",
       "      <td>2017-02-14 15:35:00</td>\n",
       "      <td>21294.0</td>\n",
       "      <td>0</td>\n",
       "      <td>19</td>\n",
       "      <td>1.45</td>\n",
       "      <td>2017-02</td>\n",
       "      <td>13.05</td>\n",
       "    </tr>\n",
       "  </tbody>\n",
       "</table>\n",
       "<p>85351 rows × 10 columns</p>\n",
       "</div>"
      ],
      "text/plain": [
       "       purchase_id item_id  quantity       purchase_date customer_id  \\\n",
       "0           538280   21873        11 2016-12-10 12:50:00     18427.0   \n",
       "1           538862   22195         0 2016-12-14 14:11:00     22389.0   \n",
       "2           538855   21239         7 2016-12-14 13:50:00     22182.0   \n",
       "3           543543   22271         0 2017-02-09 15:33:00     23522.0   \n",
       "4           543812   79321         0 2017-02-13 14:40:00     23151.0   \n",
       "...            ...     ...       ...                 ...         ...   \n",
       "104295      537886   22158         7 2016-12-09 09:49:00     21339.0   \n",
       "104296      540154   22134         3 2017-01-05 11:30:00      540154   \n",
       "104297      538566   21826         1 2016-12-13 11:21:00      538566   \n",
       "104300      538207   22818        11 2016-12-10 11:33:00     18427.0   \n",
       "104301      543977   22384         9 2017-02-14 15:35:00     21294.0   \n",
       "\n",
       "        loyalty_program shop_id  price_per_one    month  revenue  \n",
       "0                     0       3           0.42  2016-12     4.62  \n",
       "1                     1       2           1.65  2016-12     0.00  \n",
       "2                     1       3           0.72  2016-12     5.04  \n",
       "3                     1      28           2.55  2017-02     0.00  \n",
       "4                     1      28           0.00  2017-02     0.00  \n",
       "...                 ...     ...            ...      ...      ...  \n",
       "104295                0      13           0.00  2016-12     0.00  \n",
       "104296                0       0           0.42  2017-01     1.26  \n",
       "104297                0       0           1.25  2016-12     1.25  \n",
       "104300                0      29           0.42  2016-12     4.62  \n",
       "104301                0      19           1.45  2017-02    13.05  \n",
       "\n",
       "[85351 rows x 10 columns]"
      ]
     },
     "execution_count": 1134,
     "metadata": {},
     "output_type": "execute_result"
    }
   ],
   "source": [
    "filter_1=(merged_data['price_per_one']>-2.775)&(merged_data['price_per_one']<5.745)&(merged_data['quantity']>-10.5)&(merged_data['quantity']<17.5)\n",
    "merged_data[filter_1]"
   ]
  },
  {
   "cell_type": "code",
   "execution_count": 1135,
   "id": "7ddfde6c",
   "metadata": {},
   "outputs": [
    {
     "data": {
      "text/plain": [
       "0.18169354374796265"
      ]
     },
     "execution_count": 1135,
     "metadata": {},
     "output_type": "execute_result"
    }
   ],
   "source": [
    "(len(merged_data)-len(merged_data[filter_1]))/len(merged_data)"
   ]
  },
  {
   "cell_type": "markdown",
   "id": "e98c5d85",
   "metadata": {},
   "source": [
    "If we remove the outliers, 18% of our data will be deleted. This is reasonable. \n",
    "\n",
    "Let's do it:"
   ]
  },
  {
   "cell_type": "code",
   "execution_count": 1136,
   "id": "8e55372b",
   "metadata": {},
   "outputs": [
    {
     "data": {
      "text/html": [
       "<div>\n",
       "<style scoped>\n",
       "    .dataframe tbody tr th:only-of-type {\n",
       "        vertical-align: middle;\n",
       "    }\n",
       "\n",
       "    .dataframe tbody tr th {\n",
       "        vertical-align: top;\n",
       "    }\n",
       "\n",
       "    .dataframe thead th {\n",
       "        text-align: right;\n",
       "    }\n",
       "</style>\n",
       "<table border=\"1\" class=\"dataframe\">\n",
       "  <thead>\n",
       "    <tr style=\"text-align: right;\">\n",
       "      <th></th>\n",
       "      <th>purchase_id</th>\n",
       "      <th>item_id</th>\n",
       "      <th>quantity</th>\n",
       "      <th>purchase_date</th>\n",
       "      <th>customer_id</th>\n",
       "      <th>loyalty_program</th>\n",
       "      <th>shop_id</th>\n",
       "      <th>price_per_one</th>\n",
       "      <th>month</th>\n",
       "      <th>revenue</th>\n",
       "    </tr>\n",
       "  </thead>\n",
       "  <tbody>\n",
       "    <tr>\n",
       "      <th>0</th>\n",
       "      <td>538280</td>\n",
       "      <td>21873</td>\n",
       "      <td>11</td>\n",
       "      <td>2016-12-10 12:50:00</td>\n",
       "      <td>18427.0</td>\n",
       "      <td>0</td>\n",
       "      <td>3</td>\n",
       "      <td>0.42</td>\n",
       "      <td>2016-12</td>\n",
       "      <td>4.62</td>\n",
       "    </tr>\n",
       "    <tr>\n",
       "      <th>1</th>\n",
       "      <td>538862</td>\n",
       "      <td>22195</td>\n",
       "      <td>0</td>\n",
       "      <td>2016-12-14 14:11:00</td>\n",
       "      <td>22389.0</td>\n",
       "      <td>1</td>\n",
       "      <td>2</td>\n",
       "      <td>1.65</td>\n",
       "      <td>2016-12</td>\n",
       "      <td>0.00</td>\n",
       "    </tr>\n",
       "    <tr>\n",
       "      <th>2</th>\n",
       "      <td>538855</td>\n",
       "      <td>21239</td>\n",
       "      <td>7</td>\n",
       "      <td>2016-12-14 13:50:00</td>\n",
       "      <td>22182.0</td>\n",
       "      <td>1</td>\n",
       "      <td>3</td>\n",
       "      <td>0.72</td>\n",
       "      <td>2016-12</td>\n",
       "      <td>5.04</td>\n",
       "    </tr>\n",
       "    <tr>\n",
       "      <th>3</th>\n",
       "      <td>543543</td>\n",
       "      <td>22271</td>\n",
       "      <td>0</td>\n",
       "      <td>2017-02-09 15:33:00</td>\n",
       "      <td>23522.0</td>\n",
       "      <td>1</td>\n",
       "      <td>28</td>\n",
       "      <td>2.55</td>\n",
       "      <td>2017-02</td>\n",
       "      <td>0.00</td>\n",
       "    </tr>\n",
       "    <tr>\n",
       "      <th>4</th>\n",
       "      <td>543812</td>\n",
       "      <td>79321</td>\n",
       "      <td>0</td>\n",
       "      <td>2017-02-13 14:40:00</td>\n",
       "      <td>23151.0</td>\n",
       "      <td>1</td>\n",
       "      <td>28</td>\n",
       "      <td>0.00</td>\n",
       "      <td>2017-02</td>\n",
       "      <td>0.00</td>\n",
       "    </tr>\n",
       "  </tbody>\n",
       "</table>\n",
       "</div>"
      ],
      "text/plain": [
       "  purchase_id item_id  quantity       purchase_date customer_id  \\\n",
       "0      538280   21873        11 2016-12-10 12:50:00     18427.0   \n",
       "1      538862   22195         0 2016-12-14 14:11:00     22389.0   \n",
       "2      538855   21239         7 2016-12-14 13:50:00     22182.0   \n",
       "3      543543   22271         0 2017-02-09 15:33:00     23522.0   \n",
       "4      543812   79321         0 2017-02-13 14:40:00     23151.0   \n",
       "\n",
       "   loyalty_program shop_id  price_per_one    month  revenue  \n",
       "0                0       3           0.42  2016-12     4.62  \n",
       "1                1       2           1.65  2016-12     0.00  \n",
       "2                1       3           0.72  2016-12     5.04  \n",
       "3                1      28           2.55  2017-02     0.00  \n",
       "4                1      28           0.00  2017-02     0.00  "
      ]
     },
     "execution_count": 1136,
     "metadata": {},
     "output_type": "execute_result"
    }
   ],
   "source": [
    "merged_data = merged_data[filter_1]\n",
    "merged_data.head()"
   ]
  },
  {
   "cell_type": "markdown",
   "id": "11967298",
   "metadata": {},
   "source": [
    "Now let's study again the parameters at the filtered data:"
   ]
  },
  {
   "cell_type": "code",
   "execution_count": 1137,
   "id": "a9680689",
   "metadata": {},
   "outputs": [
    {
     "name": "stdout",
     "output_type": "stream",
     "text": [
      "-----price_per_one-----\n",
      "          \n",
      "count    85351.000000\n",
      "mean         1.526004\n",
      "std          1.317251\n",
      "min          0.000000\n",
      "25%          0.420000\n",
      "50%          1.250000\n",
      "75%          2.250000\n",
      "max          5.550000\n",
      "Name: price_per_one, dtype: float64\n",
      "          \n",
      "-----quantity-----\n",
      "          \n",
      "count    85351.000000\n",
      "mean         3.222411\n",
      "std          4.093204\n",
      "min        -10.000000\n",
      "25%          0.000000\n",
      "50%          1.000000\n",
      "75%          5.000000\n",
      "max         17.000000\n",
      "Name: quantity, dtype: float64\n",
      "          \n"
     ]
    },
    {
     "data": {
      "image/png": "[encoded data removed]",
      "text/plain": [
       "<Figure size 936x360 with 1 Axes>"
      ]
     },
     "metadata": {
      "needs_background": "light"
     },
     "output_type": "display_data"
    },
    {
     "data": {
      "image/png": "[encoded data removed]",
      "text/plain": [
       "<Figure size 936x360 with 1 Axes>"
      ]
     },
     "metadata": {
      "needs_background": "light"
     },
     "output_type": "display_data"
    }
   ],
   "source": [
    "for p in parameters:\n",
    "    print('-----{}-----'.format(p))\n",
    "    print('          ')\n",
    "    print(merged_data[p].describe())\n",
    "    print('          ')\n",
    "    plt.figure(figsize=(13, 5))\n",
    "    merged_data[p].hist(bins=30)\n",
    "    plt.title(p)"
   ]
  },
  {
   "cell_type": "markdown",
   "id": "44bb95f1",
   "metadata": {},
   "source": [
    "Notes:\n",
    " - Cheap items (prices of USD0-1.5, especially up to price of USD0.2) seems to have much more sells. \n",
    " - The majority of sells seems to have small quantities. \n",
    " - There are negetive quantities. I assume these are cancellations/ credits."
   ]
  },
  {
   "cell_type": "markdown",
   "id": "257bba35",
   "metadata": {},
   "source": [
    "#### Let's plot sales graphs:\n",
    " - Sales per month\n",
    " - Sales per outlet\n",
    " - Sales per product\n",
    "\n",
    "For each of them we will plot 2 graphs:\n",
    " - Sales as the number of transactions\n",
    " - Sales as revenue\n",
    " \n",
    "We will plot each graph for 3 datasets: \n",
    "1. The all data.\n",
    "2. The data for loyalty program's purchases\n",
    "3. The data for non loyalty program's purchases"
   ]
  },
  {
   "cell_type": "markdown",
   "id": "53c26fd8",
   "metadata": {},
   "source": [
    "First, let's create the 2 datasets of loyalty program's purchases and non loyalty program's purchases:"
   ]
  },
  {
   "cell_type": "code",
   "execution_count": 1138,
   "id": "0a03f0d9",
   "metadata": {},
   "outputs": [
    {
     "data": {
      "text/html": [
       "<div>\n",
       "<style scoped>\n",
       "    .dataframe tbody tr th:only-of-type {\n",
       "        vertical-align: middle;\n",
       "    }\n",
       "\n",
       "    .dataframe tbody tr th {\n",
       "        vertical-align: top;\n",
       "    }\n",
       "\n",
       "    .dataframe thead th {\n",
       "        text-align: right;\n",
       "    }\n",
       "</style>\n",
       "<table border=\"1\" class=\"dataframe\">\n",
       "  <thead>\n",
       "    <tr style=\"text-align: right;\">\n",
       "      <th></th>\n",
       "      <th>purchase_id</th>\n",
       "      <th>item_id</th>\n",
       "      <th>quantity</th>\n",
       "      <th>purchase_date</th>\n",
       "      <th>customer_id</th>\n",
       "      <th>loyalty_program</th>\n",
       "      <th>shop_id</th>\n",
       "      <th>price_per_one</th>\n",
       "      <th>month</th>\n",
       "      <th>revenue</th>\n",
       "    </tr>\n",
       "  </thead>\n",
       "  <tbody>\n",
       "    <tr>\n",
       "      <th>1</th>\n",
       "      <td>538862</td>\n",
       "      <td>22195</td>\n",
       "      <td>0</td>\n",
       "      <td>2016-12-14 14:11:00</td>\n",
       "      <td>22389.0</td>\n",
       "      <td>1</td>\n",
       "      <td>2</td>\n",
       "      <td>1.65</td>\n",
       "      <td>2016-12</td>\n",
       "      <td>0.00</td>\n",
       "    </tr>\n",
       "    <tr>\n",
       "      <th>2</th>\n",
       "      <td>538855</td>\n",
       "      <td>21239</td>\n",
       "      <td>7</td>\n",
       "      <td>2016-12-14 13:50:00</td>\n",
       "      <td>22182.0</td>\n",
       "      <td>1</td>\n",
       "      <td>3</td>\n",
       "      <td>0.72</td>\n",
       "      <td>2016-12</td>\n",
       "      <td>5.04</td>\n",
       "    </tr>\n",
       "    <tr>\n",
       "      <th>3</th>\n",
       "      <td>543543</td>\n",
       "      <td>22271</td>\n",
       "      <td>0</td>\n",
       "      <td>2017-02-09 15:33:00</td>\n",
       "      <td>23522.0</td>\n",
       "      <td>1</td>\n",
       "      <td>28</td>\n",
       "      <td>2.55</td>\n",
       "      <td>2017-02</td>\n",
       "      <td>0.00</td>\n",
       "    </tr>\n",
       "    <tr>\n",
       "      <th>4</th>\n",
       "      <td>543812</td>\n",
       "      <td>79321</td>\n",
       "      <td>0</td>\n",
       "      <td>2017-02-13 14:40:00</td>\n",
       "      <td>23151.0</td>\n",
       "      <td>1</td>\n",
       "      <td>28</td>\n",
       "      <td>0.00</td>\n",
       "      <td>2017-02</td>\n",
       "      <td>0.00</td>\n",
       "    </tr>\n",
       "    <tr>\n",
       "      <th>5</th>\n",
       "      <td>538379</td>\n",
       "      <td>22965</td>\n",
       "      <td>0</td>\n",
       "      <td>2016-12-12 11:26:00</td>\n",
       "      <td>22805.0</td>\n",
       "      <td>1</td>\n",
       "      <td>20</td>\n",
       "      <td>1.85</td>\n",
       "      <td>2016-12</td>\n",
       "      <td>0.00</td>\n",
       "    </tr>\n",
       "  </tbody>\n",
       "</table>\n",
       "</div>"
      ],
      "text/plain": [
       "  purchase_id item_id  quantity       purchase_date customer_id  \\\n",
       "1      538862   22195         0 2016-12-14 14:11:00     22389.0   \n",
       "2      538855   21239         7 2016-12-14 13:50:00     22182.0   \n",
       "3      543543   22271         0 2017-02-09 15:33:00     23522.0   \n",
       "4      543812   79321         0 2017-02-13 14:40:00     23151.0   \n",
       "5      538379   22965         0 2016-12-12 11:26:00     22805.0   \n",
       "\n",
       "   loyalty_program shop_id  price_per_one    month  revenue  \n",
       "1                1       2           1.65  2016-12     0.00  \n",
       "2                1       3           0.72  2016-12     5.04  \n",
       "3                1      28           2.55  2017-02     0.00  \n",
       "4                1      28           0.00  2017-02     0.00  \n",
       "5                1      20           1.85  2016-12     0.00  "
      ]
     },
     "execution_count": 1138,
     "metadata": {},
     "output_type": "execute_result"
    }
   ],
   "source": [
    "lp_data = merged_data[merged_data['loyalty_program'] == 1]\n",
    "lp_data.head() "
   ]
  },
  {
   "cell_type": "code",
   "execution_count": 1139,
   "id": "541bdb3c",
   "metadata": {},
   "outputs": [
    {
     "data": {
      "text/html": [
       "<div>\n",
       "<style scoped>\n",
       "    .dataframe tbody tr th:only-of-type {\n",
       "        vertical-align: middle;\n",
       "    }\n",
       "\n",
       "    .dataframe tbody tr th {\n",
       "        vertical-align: top;\n",
       "    }\n",
       "\n",
       "    .dataframe thead th {\n",
       "        text-align: right;\n",
       "    }\n",
       "</style>\n",
       "<table border=\"1\" class=\"dataframe\">\n",
       "  <thead>\n",
       "    <tr style=\"text-align: right;\">\n",
       "      <th></th>\n",
       "      <th>purchase_id</th>\n",
       "      <th>item_id</th>\n",
       "      <th>quantity</th>\n",
       "      <th>purchase_date</th>\n",
       "      <th>customer_id</th>\n",
       "      <th>loyalty_program</th>\n",
       "      <th>shop_id</th>\n",
       "      <th>price_per_one</th>\n",
       "      <th>month</th>\n",
       "      <th>revenue</th>\n",
       "    </tr>\n",
       "  </thead>\n",
       "  <tbody>\n",
       "    <tr>\n",
       "      <th>0</th>\n",
       "      <td>538280</td>\n",
       "      <td>21873</td>\n",
       "      <td>11</td>\n",
       "      <td>2016-12-10 12:50:00</td>\n",
       "      <td>18427.0</td>\n",
       "      <td>0</td>\n",
       "      <td>3</td>\n",
       "      <td>0.42</td>\n",
       "      <td>2016-12</td>\n",
       "      <td>4.62</td>\n",
       "    </tr>\n",
       "    <tr>\n",
       "      <th>6</th>\n",
       "      <td>540468</td>\n",
       "      <td>22189</td>\n",
       "      <td>0</td>\n",
       "      <td>2017-01-07 13:55:00</td>\n",
       "      <td>540468</td>\n",
       "      <td>0</td>\n",
       "      <td>0</td>\n",
       "      <td>2.31</td>\n",
       "      <td>2017-01</td>\n",
       "      <td>0.00</td>\n",
       "    </tr>\n",
       "    <tr>\n",
       "      <th>7</th>\n",
       "      <td>541424</td>\n",
       "      <td>79321</td>\n",
       "      <td>1</td>\n",
       "      <td>2017-01-17 17:57:00</td>\n",
       "      <td>541424</td>\n",
       "      <td>0</td>\n",
       "      <td>0</td>\n",
       "      <td>0.00</td>\n",
       "      <td>2017-01</td>\n",
       "      <td>0.00</td>\n",
       "    </tr>\n",
       "    <tr>\n",
       "      <th>8</th>\n",
       "      <td>538883</td>\n",
       "      <td>22891</td>\n",
       "      <td>0</td>\n",
       "      <td>2016-12-14 15:56:00</td>\n",
       "      <td>538883</td>\n",
       "      <td>0</td>\n",
       "      <td>0</td>\n",
       "      <td>3.75</td>\n",
       "      <td>2016-12</td>\n",
       "      <td>0.00</td>\n",
       "    </tr>\n",
       "    <tr>\n",
       "      <th>11</th>\n",
       "      <td>541696</td>\n",
       "      <td>22197</td>\n",
       "      <td>4</td>\n",
       "      <td>2017-01-20 18:08:00</td>\n",
       "      <td>541696</td>\n",
       "      <td>0</td>\n",
       "      <td>0</td>\n",
       "      <td>0.72</td>\n",
       "      <td>2017-01</td>\n",
       "      <td>2.88</td>\n",
       "    </tr>\n",
       "  </tbody>\n",
       "</table>\n",
       "</div>"
      ],
      "text/plain": [
       "   purchase_id item_id  quantity       purchase_date customer_id  \\\n",
       "0       538280   21873        11 2016-12-10 12:50:00     18427.0   \n",
       "6       540468   22189         0 2017-01-07 13:55:00      540468   \n",
       "7       541424   79321         1 2017-01-17 17:57:00      541424   \n",
       "8       538883   22891         0 2016-12-14 15:56:00      538883   \n",
       "11      541696   22197         4 2017-01-20 18:08:00      541696   \n",
       "\n",
       "    loyalty_program shop_id  price_per_one    month  revenue  \n",
       "0                 0       3           0.42  2016-12     4.62  \n",
       "6                 0       0           2.31  2017-01     0.00  \n",
       "7                 0       0           0.00  2017-01     0.00  \n",
       "8                 0       0           3.75  2016-12     0.00  \n",
       "11                0       0           0.72  2017-01     2.88  "
      ]
     },
     "execution_count": 1139,
     "metadata": {},
     "output_type": "execute_result"
    }
   ],
   "source": [
    "nlp_data = merged_data[merged_data['loyalty_program'] == 0]\n",
    "nlp_data.head()"
   ]
  },
  {
   "cell_type": "code",
   "execution_count": 1140,
   "id": "4b6661d6",
   "metadata": {},
   "outputs": [
    {
     "name": "stdout",
     "output_type": "stream",
     "text": [
      "       -----merged_data------\n"
     ]
    },
    {
     "data": {
      "image/png": "[encoded data removed]",
      "text/plain": [
       "<Figure size 432x288 with 1 Axes>"
      ]
     },
     "metadata": {
      "needs_background": "light"
     },
     "output_type": "display_data"
    },
    {
     "data": {
      "image/png": "[encoded data removed]",
      "text/plain": [
       "<Figure size 432x288 with 1 Axes>"
      ]
     },
     "metadata": {
      "needs_background": "light"
     },
     "output_type": "display_data"
    },
    {
     "data": {
      "image/png": "[encoded data removed]",
      "text/plain": [
       "<Figure size 1080x360 with 1 Axes>"
      ]
     },
     "metadata": {
      "needs_background": "light"
     },
     "output_type": "display_data"
    },
    {
     "data": {
      "image/png": "[encoded data removed]",
      "text/plain": [
       "<Figure size 1080x360 with 1 Axes>"
      ]
     },
     "metadata": {
      "needs_background": "light"
     },
     "output_type": "display_data"
    },
    {
     "data": {
      "image/png": "[encoded data removed]",
      "text/plain": [
       "<Figure size 1080x360 with 1 Axes>"
      ]
     },
     "metadata": {
      "needs_background": "light"
     },
     "output_type": "display_data"
    },
    {
     "data": {
      "image/png": "[encoded data removed]",
      "text/plain": [
       "<Figure size 1080x360 with 1 Axes>"
      ]
     },
     "metadata": {
      "needs_background": "light"
     },
     "output_type": "display_data"
    },
    {
     "data": {
      "image/png": "[encoded data removed]",
      "text/plain": [
       "<Figure size 1080x360 with 1 Axes>"
      ]
     },
     "metadata": {
      "needs_background": "light"
     },
     "output_type": "display_data"
    },
    {
     "data": {
      "image/png": "[encoded data removed]",
      "text/plain": [
       "<Figure size 1080x360 with 1 Axes>"
      ]
     },
     "metadata": {
      "needs_background": "light"
     },
     "output_type": "display_data"
    },
    {
     "name": "stdout",
     "output_type": "stream",
     "text": [
      "       -----lp_data------\n"
     ]
    },
    {
     "data": {
      "image/png": "[encoded data removed]",
      "text/plain": [
       "<Figure size 432x288 with 1 Axes>"
      ]
     },
     "metadata": {
      "needs_background": "light"
     },
     "output_type": "display_data"
    },
    {
     "data": {
      "image/png": "[encoded data removed]",
      "text/plain": [
       "<Figure size 432x288 with 1 Axes>"
      ]
     },
     "metadata": {
      "needs_background": "light"
     },
     "output_type": "display_data"
    },
    {
     "data": {
      "image/png": "[encoded data removed]",
      "text/plain": [
       "<Figure size 1080x360 with 1 Axes>"
      ]
     },
     "metadata": {
      "needs_background": "light"
     },
     "output_type": "display_data"
    },
    {
     "data": {
      "image/png": "[encoded data removed]",
      "text/plain": [
       "<Figure size 1080x360 with 1 Axes>"
      ]
     },
     "metadata": {
      "needs_background": "light"
     },
     "output_type": "display_data"
    },
    {
     "data": {
      "image/png": "[encoded data removed]",
      "text/plain": [
       "<Figure size 1080x360 with 1 Axes>"
      ]
     },
     "metadata": {
      "needs_background": "light"
     },
     "output_type": "display_data"
    },
    {
     "data": {
      "image/png": "[encoded data removed]",
      "text/plain": [
       "<Figure size 1080x360 with 1 Axes>"
      ]
     },
     "metadata": {
      "needs_background": "light"
     },
     "output_type": "display_data"
    },
    {
     "data": {
      "image/png": "[encoded data removed]",
      "text/plain": [
       "<Figure size 1080x360 with 1 Axes>"
      ]
     },
     "metadata": {
      "needs_background": "light"
     },
     "output_type": "display_data"
    },
    {
     "data": {
      "image/png": "[encoded data removed]",
      "text/plain": [
       "<Figure size 1080x360 with 1 Axes>"
      ]
     },
     "metadata": {
      "needs_background": "light"
     },
     "output_type": "display_data"
    },
    {
     "name": "stdout",
     "output_type": "stream",
     "text": [
      "       -----nlp_data------\n"
     ]
    },
    {
     "data": {
      "image/png": "[encoded data removed]",
      "text/plain": [
       "<Figure size 432x288 with 1 Axes>"
      ]
     },
     "metadata": {
      "needs_background": "light"
     },
     "output_type": "display_data"
    },
    {
     "data": {
      "image/png": "[encoded data removed]",
      "text/plain": [
       "<Figure size 432x288 with 1 Axes>"
      ]
     },
     "metadata": {
      "needs_background": "light"
     },
     "output_type": "display_data"
    },
    {
     "data": {
      "image/png": "[encoded data removed]",
      "text/plain": [
       "<Figure size 1080x360 with 1 Axes>"
      ]
     },
     "metadata": {
      "needs_background": "light"
     },
     "output_type": "display_data"
    },
    {
     "data": {
      "image/png": "[encoded data removed]",
      "text/plain": [
       "<Figure size 1080x360 with 1 Axes>"
      ]
     },
     "metadata": {
      "needs_background": "light"
     },
     "output_type": "display_data"
    },
    {
     "data": {
      "image/png": "[encoded data removed]",
      "text/plain": [
       "<Figure size 1080x360 with 1 Axes>"
      ]
     },
     "metadata": {
      "needs_background": "light"
     },
     "output_type": "display_data"
    },
    {
     "data": {
      "image/png": "[encoded data removed]",
      "text/plain": [
       "<Figure size 1080x360 with 1 Axes>"
      ]
     },
     "metadata": {
      "needs_background": "light"
     },
     "output_type": "display_data"
    },
    {
     "data": {
      "image/png": "[encoded data removed]",
      "text/plain": [
       "<Figure size 1080x360 with 1 Axes>"
      ]
     },
     "metadata": {
      "needs_background": "light"
     },
     "output_type": "display_data"
    },
    {
     "data": {
      "image/png": "[encoded data removed]",
      "text/plain": [
       "<Figure size 1080x360 with 1 Axes>"
      ]
     },
     "metadata": {
      "needs_background": "light"
     },
     "output_type": "display_data"
    }
   ],
   "source": [
    "datasets = ['merged_data', 'lp_data', 'nlp_data']\n",
    "\n",
    "for d in datasets:\n",
    "    print('       -----{}------'.format(d))\n",
    "    y = vars()[d].groupby('month')['purchase_id'].nunique().reset_index()\n",
    "    sns.barplot(x='month', y='purchase_id', data=y).set(title='Sales per month - number of transactions')\n",
    "    plt.show()\n",
    "    y = vars()[d].groupby('month')['revenue'].sum().reset_index()\n",
    "    sns.barplot(x='month', y='revenue', data=y).set(title='Sales per month - revenue')\n",
    "    plt.show()\n",
    "    y = vars()[d].groupby('shop_id')['purchase_id'].nunique().reset_index()\n",
    "    fig = plt.figure(figsize = (15, 5))\n",
    "    sns.barplot(x='shop_id', y='purchase_id', data=y).set(title='Sales per outlet - number of transactions')\n",
    "    plt.show()\n",
    "    y = vars()[d].groupby('shop_id')['revenue'].sum().reset_index()\n",
    "    fig = plt.figure(figsize = (15, 5))\n",
    "    sns.barplot(x='shop_id', y='revenue', data=y).set(title='Sales per outlet - revenue')\n",
    "    plt.show()\n",
    "    y = vars()[d].groupby('item_id')['purchase_id'].nunique().reset_index()\n",
    "    fig = plt.figure(figsize = (15, 5))\n",
    "    sns.barplot(x='item_id', y='purchase_id', data=y).set(title='Sales per item - number of transactions')\n",
    "    plt.show()\n",
    "    y = vars()[d].groupby('item_id')['revenue'].sum().reset_index()\n",
    "    fig = plt.figure(figsize = (15, 5))\n",
    "    sns.barplot(x='item_id', y='revenue', data=y).set(title='Sales per item - revenue')\n",
    "    plt.show()\n",
    "    y = vars()[d].groupby('item_id')['purchase_id'].nunique().sort_values(ascending=False).reset_index().head(10)\n",
    "    fig = plt.figure(figsize = (15, 5))\n",
    "    sns.barplot(x='item_id', y='purchase_id', data=y).set(title='Sales per item (top 10) - number of transactions')\n",
    "    plt.show()\n",
    "    y = vars()[d].groupby('item_id')['revenue'].sum().sort_values(ascending=False).reset_index().head(10)\n",
    "    fig = plt.figure(figsize = (15, 5))\n",
    "    sns.barplot(x='item_id', y='revenue', data=y).set(title='Sales per item (top 10) - revenue')\n",
    "    plt.show()"
   ]
  },
  {
   "cell_type": "markdown",
   "id": "417875ce",
   "metadata": {},
   "source": [
    "**Notes:**\n",
    "\n",
    "Sales per month:\n",
    " - It's looks like sales are going down! \n",
    " - The reason might be that the end of the year is high season for sales, and we need also to remember that February is a short month. \n",
    " - Still, we need to keep an eye on sales graphs, and check that this is not a worrying trend.\n",
    " - For loyalty program there is a decrease in sales from December to January, but an increase from January to February.  \n",
    "\n",
    "Sales per outlet:\n",
    " - Shop 0 is the best seller outlet. Is it an online shop? we should understand what kind of shop it, and what make it so good.\n",
    " - For loyalty program sales there is no so much difference between the outlets, The high dominance of shop 0 is for the non loyalty program sales.\n",
    "\n",
    "Sales per item:\n",
    " - No spacial insights. It's reasonble to see what are the best seller products and maybe promote them more. For product that sell less, it's important to invetigate their profitability.\n",
    " \n",
    "General note:\n",
    " - In regard to the revenue graphs, we should remember the notes above about the littles gaps we have in the revenue calculations for the loyalty program purchases."
   ]
  },
  {
   "cell_type": "markdown",
   "id": "b133dee9",
   "metadata": {},
   "source": [
    "## PART 3 - Assess the performance of the sales outlets"
   ]
  },
  {
   "cell_type": "markdown",
   "id": "7e8ed997",
   "metadata": {},
   "source": [
    "Here are the top 10 outlets in terms of revenue:"
   ]
  },
  {
   "cell_type": "code",
   "execution_count": 1141,
   "id": "92f8ed3c",
   "metadata": {},
   "outputs": [
    {
     "data": {
      "text/html": [
       "<div>\n",
       "<style scoped>\n",
       "    .dataframe tbody tr th:only-of-type {\n",
       "        vertical-align: middle;\n",
       "    }\n",
       "\n",
       "    .dataframe tbody tr th {\n",
       "        vertical-align: top;\n",
       "    }\n",
       "\n",
       "    .dataframe thead th {\n",
       "        text-align: right;\n",
       "    }\n",
       "</style>\n",
       "<table border=\"1\" class=\"dataframe\">\n",
       "  <thead>\n",
       "    <tr style=\"text-align: right;\">\n",
       "      <th></th>\n",
       "      <th>shop_id</th>\n",
       "      <th>revenue</th>\n",
       "    </tr>\n",
       "  </thead>\n",
       "  <tbody>\n",
       "    <tr>\n",
       "      <th>0</th>\n",
       "      <td>0</td>\n",
       "      <td>63192.58</td>\n",
       "    </tr>\n",
       "    <tr>\n",
       "      <th>1</th>\n",
       "      <td>20</td>\n",
       "      <td>12755.38</td>\n",
       "    </tr>\n",
       "    <tr>\n",
       "      <th>2</th>\n",
       "      <td>13</td>\n",
       "      <td>12293.18</td>\n",
       "    </tr>\n",
       "    <tr>\n",
       "      <th>3</th>\n",
       "      <td>22</td>\n",
       "      <td>12015.65</td>\n",
       "    </tr>\n",
       "    <tr>\n",
       "      <th>4</th>\n",
       "      <td>9</td>\n",
       "      <td>11971.95</td>\n",
       "    </tr>\n",
       "    <tr>\n",
       "      <th>5</th>\n",
       "      <td>15</td>\n",
       "      <td>11795.85</td>\n",
       "    </tr>\n",
       "    <tr>\n",
       "      <th>6</th>\n",
       "      <td>28</td>\n",
       "      <td>11399.23</td>\n",
       "    </tr>\n",
       "    <tr>\n",
       "      <th>7</th>\n",
       "      <td>24</td>\n",
       "      <td>11185.52</td>\n",
       "    </tr>\n",
       "    <tr>\n",
       "      <th>8</th>\n",
       "      <td>11</td>\n",
       "      <td>11173.90</td>\n",
       "    </tr>\n",
       "    <tr>\n",
       "      <th>9</th>\n",
       "      <td>29</td>\n",
       "      <td>10967.73</td>\n",
       "    </tr>\n",
       "  </tbody>\n",
       "</table>\n",
       "</div>"
      ],
      "text/plain": [
       "  shop_id   revenue\n",
       "0       0  63192.58\n",
       "1      20  12755.38\n",
       "2      13  12293.18\n",
       "3      22  12015.65\n",
       "4       9  11971.95\n",
       "5      15  11795.85\n",
       "6      28  11399.23\n",
       "7      24  11185.52\n",
       "8      11  11173.90\n",
       "9      29  10967.73"
      ]
     },
     "execution_count": 1141,
     "metadata": {},
     "output_type": "execute_result"
    }
   ],
   "source": [
    "x = merged_data.groupby('shop_id')['revenue'].sum().sort_values(ascending=False).reset_index().head(10)\n",
    "x"
   ]
  },
  {
   "cell_type": "code",
   "execution_count": 1142,
   "id": "581efa5c",
   "metadata": {},
   "outputs": [
    {
     "data": {
      "application/vnd.plotly.v1+json": {
       "config": {
        "plotlyServerURL": "https://plot.ly"
       },
       "data": [
        {
         "labels": [
          " 0",
          " 20",
          " 13",
          " 22",
          " 9",
          " 15",
          " 28",
          " 24",
          " 11",
          " 29"
         ],
         "type": "pie",
         "values": [
          63192.58,
          12755.38,
          12293.18,
          12015.65,
          11971.95,
          11795.85,
          11399.23,
          11185.52,
          11173.9,
          10967.73
         ]
        }
       ],
       "layout": {
        "template": {
         "data": {
          "bar": [
           {
            "error_x": {
             "color": "#2a3f5f"
            },
            "error_y": {
             "color": "#2a3f5f"
            },
            "marker": {
             "line": {
              "color": "#E5ECF6",
              "width": 0.5
             },
             "pattern": {
              "fillmode": "overlay",
              "size": 10,
              "solidity": 0.2
             }
            },
            "type": "bar"
           }
          ],
          "barpolar": [
           {
            "marker": {
             "line": {
              "color": "#E5ECF6",
              "width": 0.5
             },
             "pattern": {
              "fillmode": "overlay",
              "size": 10,
              "solidity": 0.2
             }
            },
            "type": "barpolar"
           }
          ],
          "carpet": [
           {
            "aaxis": {
             "endlinecolor": "#2a3f5f",
             "gridcolor": "white",
             "linecolor": "white",
             "minorgridcolor": "white",
             "startlinecolor": "#2a3f5f"
            },
            "baxis": {
             "endlinecolor": "#2a3f5f",
             "gridcolor": "white",
             "linecolor": "white",
             "minorgridcolor": "white",
             "startlinecolor": "#2a3f5f"
            },
            "type": "carpet"
           }
          ],
          "choropleth": [
           {
            "colorbar": {
             "outlinewidth": 0,
             "ticks": ""
            },
            "type": "choropleth"
           }
          ],
          "contour": [
           {
            "colorbar": {
             "outlinewidth": 0,
             "ticks": ""
            },
            "colorscale": [
             [
              0,
              "#0d0887"
             ],
             [
              0.1111111111111111,
              "#46039f"
             ],
             [
              0.2222222222222222,
              "#7201a8"
             ],
             [
              0.3333333333333333,
              "#9c179e"
             ],
             [
              0.4444444444444444,
              "#bd3786"
             ],
             [
              0.5555555555555556,
              "#d8576b"
             ],
             [
              0.6666666666666666,
              "#ed7953"
             ],
             [
              0.7777777777777778,
              "#fb9f3a"
             ],
             [
              0.8888888888888888,
              "#fdca26"
             ],
             [
              1,
              "#f0f921"
             ]
            ],
            "type": "contour"
           }
          ],
          "contourcarpet": [
           {
            "colorbar": {
             "outlinewidth": 0,
             "ticks": ""
            },
            "type": "contourcarpet"
           }
          ],
          "heatmap": [
           {
            "colorbar": {
             "outlinewidth": 0,
             "ticks": ""
            },
            "colorscale": [
             [
              0,
              "#0d0887"
             ],
             [
              0.1111111111111111,
              "#46039f"
             ],
             [
              0.2222222222222222,
              "#7201a8"
             ],
             [
              0.3333333333333333,
              "#9c179e"
             ],
             [
              0.4444444444444444,
              "#bd3786"
             ],
             [
              0.5555555555555556,
              "#d8576b"
             ],
             [
              0.6666666666666666,
              "#ed7953"
             ],
             [
              0.7777777777777778,
              "#fb9f3a"
             ],
             [
              0.8888888888888888,
              "#fdca26"
             ],
             [
              1,
              "#f0f921"
             ]
            ],
            "type": "heatmap"
           }
          ],
          "heatmapgl": [
           {
            "colorbar": {
             "outlinewidth": 0,
             "ticks": ""
            },
            "colorscale": [
             [
              0,
              "#0d0887"
             ],
             [
              0.1111111111111111,
              "#46039f"
             ],
             [
              0.2222222222222222,
              "#7201a8"
             ],
             [
              0.3333333333333333,
              "#9c179e"
             ],
             [
              0.4444444444444444,
              "#bd3786"
             ],
             [
              0.5555555555555556,
              "#d8576b"
             ],
             [
              0.6666666666666666,
              "#ed7953"
             ],
             [
              0.7777777777777778,
              "#fb9f3a"
             ],
             [
              0.8888888888888888,
              "#fdca26"
             ],
             [
              1,
              "#f0f921"
             ]
            ],
            "type": "heatmapgl"
           }
          ],
          "histogram": [
           {
            "marker": {
             "pattern": {
              "fillmode": "overlay",
              "size": 10,
              "solidity": 0.2
             }
            },
            "type": "histogram"
           }
          ],
          "histogram2d": [
           {
            "colorbar": {
             "outlinewidth": 0,
             "ticks": ""
            },
            "colorscale": [
             [
              0,
              "#0d0887"
             ],
             [
              0.1111111111111111,
              "#46039f"
             ],
             [
              0.2222222222222222,
              "#7201a8"
             ],
             [
              0.3333333333333333,
              "#9c179e"
             ],
             [
              0.4444444444444444,
              "#bd3786"
             ],
             [
              0.5555555555555556,
              "#d8576b"
             ],
             [
              0.6666666666666666,
              "#ed7953"
             ],
             [
              0.7777777777777778,
              "#fb9f3a"
             ],
             [
              0.8888888888888888,
              "#fdca26"
             ],
             [
              1,
              "#f0f921"
             ]
            ],
            "type": "histogram2d"
           }
          ],
          "histogram2dcontour": [
           {
            "colorbar": {
             "outlinewidth": 0,
             "ticks": ""
            },
            "colorscale": [
             [
              0,
              "#0d0887"
             ],
             [
              0.1111111111111111,
              "#46039f"
             ],
             [
              0.2222222222222222,
              "#7201a8"
             ],
             [
              0.3333333333333333,
              "#9c179e"
             ],
             [
              0.4444444444444444,
              "#bd3786"
             ],
             [
              0.5555555555555556,
              "#d8576b"
             ],
             [
              0.6666666666666666,
              "#ed7953"
             ],
             [
              0.7777777777777778,
              "#fb9f3a"
             ],
             [
              0.8888888888888888,
              "#fdca26"
             ],
             [
              1,
              "#f0f921"
             ]
            ],
            "type": "histogram2dcontour"
           }
          ],
          "mesh3d": [
           {
            "colorbar": {
             "outlinewidth": 0,
             "ticks": ""
            },
            "type": "mesh3d"
           }
          ],
          "parcoords": [
           {
            "line": {
             "colorbar": {
              "outlinewidth": 0,
              "ticks": ""
             }
            },
            "type": "parcoords"
           }
          ],
          "pie": [
           {
            "automargin": true,
            "type": "pie"
           }
          ],
          "scatter": [
           {
            "fillpattern": {
             "fillmode": "overlay",
             "size": 10,
             "solidity": 0.2
            },
            "type": "scatter"
           }
          ],
          "scatter3d": [
           {
            "line": {
             "colorbar": {
              "outlinewidth": 0,
              "ticks": ""
             }
            },
            "marker": {
             "colorbar": {
              "outlinewidth": 0,
              "ticks": ""
             }
            },
            "type": "scatter3d"
           }
          ],
          "scattercarpet": [
           {
            "marker": {
             "colorbar": {
              "outlinewidth": 0,
              "ticks": ""
             }
            },
            "type": "scattercarpet"
           }
          ],
          "scattergeo": [
           {
            "marker": {
             "colorbar": {
              "outlinewidth": 0,
              "ticks": ""
             }
            },
            "type": "scattergeo"
           }
          ],
          "scattergl": [
           {
            "marker": {
             "colorbar": {
              "outlinewidth": 0,
              "ticks": ""
             }
            },
            "type": "scattergl"
           }
          ],
          "scattermapbox": [
           {
            "marker": {
             "colorbar": {
              "outlinewidth": 0,
              "ticks": ""
             }
            },
            "type": "scattermapbox"
           }
          ],
          "scatterpolar": [
           {
            "marker": {
             "colorbar": {
              "outlinewidth": 0,
              "ticks": ""
             }
            },
            "type": "scatterpolar"
           }
          ],
          "scatterpolargl": [
           {
            "marker": {
             "colorbar": {
              "outlinewidth": 0,
              "ticks": ""
             }
            },
            "type": "scatterpolargl"
           }
          ],
          "scatterternary": [
           {
            "marker": {
             "colorbar": {
              "outlinewidth": 0,
              "ticks": ""
             }
            },
            "type": "scatterternary"
           }
          ],
          "surface": [
           {
            "colorbar": {
             "outlinewidth": 0,
             "ticks": ""
            },
            "colorscale": [
             [
              0,
              "#0d0887"
             ],
             [
              0.1111111111111111,
              "#46039f"
             ],
             [
              0.2222222222222222,
              "#7201a8"
             ],
             [
              0.3333333333333333,
              "#9c179e"
             ],
             [
              0.4444444444444444,
              "#bd3786"
             ],
             [
              0.5555555555555556,
              "#d8576b"
             ],
             [
              0.6666666666666666,
              "#ed7953"
             ],
             [
              0.7777777777777778,
              "#fb9f3a"
             ],
             [
              0.8888888888888888,
              "#fdca26"
             ],
             [
              1,
              "#f0f921"
             ]
            ],
            "type": "surface"
           }
          ],
          "table": [
           {
            "cells": {
             "fill": {
              "color": "#EBF0F8"
             },
             "line": {
              "color": "white"
             }
            },
            "header": {
             "fill": {
              "color": "#C8D4E3"
             },
             "line": {
              "color": "white"
             }
            },
            "type": "table"
           }
          ]
         },
         "layout": {
          "annotationdefaults": {
           "arrowcolor": "#2a3f5f",
           "arrowhead": 0,
           "arrowwidth": 1
          },
          "autotypenumbers": "strict",
          "coloraxis": {
           "colorbar": {
            "outlinewidth": 0,
            "ticks": ""
           }
          },
          "colorscale": {
           "diverging": [
            [
             0,
             "#8e0152"
            ],
            [
             0.1,
             "#c51b7d"
            ],
            [
             0.2,
             "#de77ae"
            ],
            [
             0.3,
             "#f1b6da"
            ],
            [
             0.4,
             "#fde0ef"
            ],
            [
             0.5,
             "#f7f7f7"
            ],
            [
             0.6,
             "#e6f5d0"
            ],
            [
             0.7,
             "#b8e186"
            ],
            [
             0.8,
             "#7fbc41"
            ],
            [
             0.9,
             "#4d9221"
            ],
            [
             1,
             "#276419"
            ]
           ],
           "sequential": [
            [
             0,
             "#0d0887"
            ],
            [
             0.1111111111111111,
             "#46039f"
            ],
            [
             0.2222222222222222,
             "#7201a8"
            ],
            [
             0.3333333333333333,
             "#9c179e"
            ],
            [
             0.4444444444444444,
             "#bd3786"
            ],
            [
             0.5555555555555556,
             "#d8576b"
            ],
            [
             0.6666666666666666,
             "#ed7953"
            ],
            [
             0.7777777777777778,
             "#fb9f3a"
            ],
            [
             0.8888888888888888,
             "#fdca26"
            ],
            [
             1,
             "#f0f921"
            ]
           ],
           "sequentialminus": [
            [
             0,
             "#0d0887"
            ],
            [
             0.1111111111111111,
             "#46039f"
            ],
            [
             0.2222222222222222,
             "#7201a8"
            ],
            [
             0.3333333333333333,
             "#9c179e"
            ],
            [
             0.4444444444444444,
             "#bd3786"
            ],
            [
             0.5555555555555556,
             "#d8576b"
            ],
            [
             0.6666666666666666,
             "#ed7953"
            ],
            [
             0.7777777777777778,
             "#fb9f3a"
            ],
            [
             0.8888888888888888,
             "#fdca26"
            ],
            [
             1,
             "#f0f921"
            ]
           ]
          },
          "colorway": [
           "#636efa",
           "#EF553B",
           "#00cc96",
           "#ab63fa",
           "#FFA15A",
           "#19d3f3",
           "#FF6692",
           "#B6E880",
           "#FF97FF",
           "#FECB52"
          ],
          "font": {
           "color": "#2a3f5f"
          },
          "geo": {
           "bgcolor": "white",
           "lakecolor": "white",
           "landcolor": "#E5ECF6",
           "showlakes": true,
           "showland": true,
           "subunitcolor": "white"
          },
          "hoverlabel": {
           "align": "left"
          },
          "hovermode": "closest",
          "mapbox": {
           "style": "light"
          },
          "paper_bgcolor": "white",
          "plot_bgcolor": "#E5ECF6",
          "polar": {
           "angularaxis": {
            "gridcolor": "white",
            "linecolor": "white",
            "ticks": ""
           },
           "bgcolor": "#E5ECF6",
           "radialaxis": {
            "gridcolor": "white",
            "linecolor": "white",
            "ticks": ""
           }
          },
          "scene": {
           "xaxis": {
            "backgroundcolor": "#E5ECF6",
            "gridcolor": "white",
            "gridwidth": 2,
            "linecolor": "white",
            "showbackground": true,
            "ticks": "",
            "zerolinecolor": "white"
           },
           "yaxis": {
            "backgroundcolor": "#E5ECF6",
            "gridcolor": "white",
            "gridwidth": 2,
            "linecolor": "white",
            "showbackground": true,
            "ticks": "",
            "zerolinecolor": "white"
           },
           "zaxis": {
            "backgroundcolor": "#E5ECF6",
            "gridcolor": "white",
            "gridwidth": 2,
            "linecolor": "white",
            "showbackground": true,
            "ticks": "",
            "zerolinecolor": "white"
           }
          },
          "shapedefaults": {
           "line": {
            "color": "#2a3f5f"
           }
          },
          "ternary": {
           "aaxis": {
            "gridcolor": "white",
            "linecolor": "white",
            "ticks": ""
           },
           "baxis": {
            "gridcolor": "white",
            "linecolor": "white",
            "ticks": ""
           },
           "bgcolor": "#E5ECF6",
           "caxis": {
            "gridcolor": "white",
            "linecolor": "white",
            "ticks": ""
           }
          },
          "title": {
           "x": 0.05
          },
          "xaxis": {
           "automargin": true,
           "gridcolor": "white",
           "linecolor": "white",
           "ticks": "",
           "title": {
            "standoff": 15
           },
           "zerolinecolor": "white",
           "zerolinewidth": 2
          },
          "yaxis": {
           "automargin": true,
           "gridcolor": "white",
           "linecolor": "white",
           "ticks": "",
           "title": {
            "standoff": 15
           },
           "zerolinecolor": "white",
           "zerolinewidth": 2
          }
         }
        }
       }
      },
      "text/html": [
       "<div>                            <div id=\"82318aa9-cafb-43f7-8d1e-f79a0c2fe491\" class=\"plotly-graph-div\" style=\"height:525px; width:100%;\"></div>            <script type=\"text/javascript\">                require([\"plotly\"], function(Plotly) {                    window.PLOTLYENV=window.PLOTLYENV || {};                                    if (document.getElementById(\"82318aa9-cafb-43f7-8d1e-f79a0c2fe491\")) {                    Plotly.newPlot(                        \"82318aa9-cafb-43f7-8d1e-f79a0c2fe491\",                        [{\"labels\":[\" 0\",\" 20\",\" 13\",\" 22\",\" 9\",\" 15\",\" 28\",\" 24\",\" 11\",\" 29\"],\"values\":[63192.58,12755.38,12293.18,12015.65,11971.95,11795.85,11399.23,11185.52,11173.9,10967.73],\"type\":\"pie\"}],                        {\"template\":{\"data\":{\"histogram2dcontour\":[{\"type\":\"histogram2dcontour\",\"colorbar\":{\"outlinewidth\":0,\"ticks\":\"\"},\"colorscale\":[[0.0,\"#0d0887\"],[0.1111111111111111,\"#46039f\"],[0.2222222222222222,\"#7201a8\"],[0.3333333333333333,\"#9c179e\"],[0.4444444444444444,\"#bd3786\"],[0.5555555555555556,\"#d8576b\"],[0.6666666666666666,\"#ed7953\"],[0.7777777777777778,\"#fb9f3a\"],[0.8888888888888888,\"#fdca26\"],[1.0,\"#f0f921\"]]}],\"choropleth\":[{\"type\":\"choropleth\",\"colorbar\":{\"outlinewidth\":0,\"ticks\":\"\"}}],\"histogram2d\":[{\"type\":\"histogram2d\",\"colorbar\":{\"outlinewidth\":0,\"ticks\":\"\"},\"colorscale\":[[0.0,\"#0d0887\"],[0.1111111111111111,\"#46039f\"],[0.2222222222222222,\"#7201a8\"],[0.3333333333333333,\"#9c179e\"],[0.4444444444444444,\"#bd3786\"],[0.5555555555555556,\"#d8576b\"],[0.6666666666666666,\"#ed7953\"],[0.7777777777777778,\"#fb9f3a\"],[0.8888888888888888,\"#fdca26\"],[1.0,\"#f0f921\"]]}],\"heatmap\":[{\"type\":\"heatmap\",\"colorbar\":{\"outlinewidth\":0,\"ticks\":\"\"},\"colorscale\":[[0.0,\"#0d0887\"],[0.1111111111111111,\"#46039f\"],[0.2222222222222222,\"#7201a8\"],[0.3333333333333333,\"#9c179e\"],[0.4444444444444444,\"#bd3786\"],[0.5555555555555556,\"#d8576b\"],[0.6666666666666666,\"#ed7953\"],[0.7777777777777778,\"#fb9f3a\"],[0.8888888888888888,\"#fdca26\"],[1.0,\"#f0f921\"]]}],\"heatmapgl\":[{\"type\":\"heatmapgl\",\"colorbar\":{\"outlinewidth\":0,\"ticks\":\"\"},\"colorscale\":[[0.0,\"#0d0887\"],[0.1111111111111111,\"#46039f\"],[0.2222222222222222,\"#7201a8\"],[0.3333333333333333,\"#9c179e\"],[0.4444444444444444,\"#bd3786\"],[0.5555555555555556,\"#d8576b\"],[0.6666666666666666,\"#ed7953\"],[0.7777777777777778,\"#fb9f3a\"],[0.8888888888888888,\"#fdca26\"],[1.0,\"#f0f921\"]]}],\"contourcarpet\":[{\"type\":\"contourcarpet\",\"colorbar\":{\"outlinewidth\":0,\"ticks\":\"\"}}],\"contour\":[{\"type\":\"contour\",\"colorbar\":{\"outlinewidth\":0,\"ticks\":\"\"},\"colorscale\":[[0.0,\"#0d0887\"],[0.1111111111111111,\"#46039f\"],[0.2222222222222222,\"#7201a8\"],[0.3333333333333333,\"#9c179e\"],[0.4444444444444444,\"#bd3786\"],[0.5555555555555556,\"#d8576b\"],[0.6666666666666666,\"#ed7953\"],[0.7777777777777778,\"#fb9f3a\"],[0.8888888888888888,\"#fdca26\"],[1.0,\"#f0f921\"]]}],\"surface\":[{\"type\":\"surface\",\"colorbar\":{\"outlinewidth\":0,\"ticks\":\"\"},\"colorscale\":[[0.0,\"#0d0887\"],[0.1111111111111111,\"#46039f\"],[0.2222222222222222,\"#7201a8\"],[0.3333333333333333,\"#9c179e\"],[0.4444444444444444,\"#bd3786\"],[0.5555555555555556,\"#d8576b\"],[0.6666666666666666,\"#ed7953\"],[0.7777777777777778,\"#fb9f3a\"],[0.8888888888888888,\"#fdca26\"],[1.0,\"#f0f921\"]]}],\"mesh3d\":[{\"type\":\"mesh3d\",\"colorbar\":{\"outlinewidth\":0,\"ticks\":\"\"}}],\"scatter\":[{\"fillpattern\":{\"fillmode\":\"overlay\",\"size\":10,\"solidity\":0.2},\"type\":\"scatter\"}],\"parcoords\":[{\"type\":\"parcoords\",\"line\":{\"colorbar\":{\"outlinewidth\":0,\"ticks\":\"\"}}}],\"scatterpolargl\":[{\"type\":\"scatterpolargl\",\"marker\":{\"colorbar\":{\"outlinewidth\":0,\"ticks\":\"\"}}}],\"bar\":[{\"error_x\":{\"color\":\"#2a3f5f\"},\"error_y\":{\"color\":\"#2a3f5f\"},\"marker\":{\"line\":{\"color\":\"#E5ECF6\",\"width\":0.5},\"pattern\":{\"fillmode\":\"overlay\",\"size\":10,\"solidity\":0.2}},\"type\":\"bar\"}],\"scattergeo\":[{\"type\":\"scattergeo\",\"marker\":{\"colorbar\":{\"outlinewidth\":0,\"ticks\":\"\"}}}],\"scatterpolar\":[{\"type\":\"scatterpolar\",\"marker\":{\"colorbar\":{\"outlinewidth\":0,\"ticks\":\"\"}}}],\"histogram\":[{\"marker\":{\"pattern\":{\"fillmode\":\"overlay\",\"size\":10,\"solidity\":0.2}},\"type\":\"histogram\"}],\"scattergl\":[{\"type\":\"scattergl\",\"marker\":{\"colorbar\":{\"outlinewidth\":0,\"ticks\":\"\"}}}],\"scatter3d\":[{\"type\":\"scatter3d\",\"line\":{\"colorbar\":{\"outlinewidth\":0,\"ticks\":\"\"}},\"marker\":{\"colorbar\":{\"outlinewidth\":0,\"ticks\":\"\"}}}],\"scattermapbox\":[{\"type\":\"scattermapbox\",\"marker\":{\"colorbar\":{\"outlinewidth\":0,\"ticks\":\"\"}}}],\"scatterternary\":[{\"type\":\"scatterternary\",\"marker\":{\"colorbar\":{\"outlinewidth\":0,\"ticks\":\"\"}}}],\"scattercarpet\":[{\"type\":\"scattercarpet\",\"marker\":{\"colorbar\":{\"outlinewidth\":0,\"ticks\":\"\"}}}],\"carpet\":[{\"aaxis\":{\"endlinecolor\":\"#2a3f5f\",\"gridcolor\":\"white\",\"linecolor\":\"white\",\"minorgridcolor\":\"white\",\"startlinecolor\":\"#2a3f5f\"},\"baxis\":{\"endlinecolor\":\"#2a3f5f\",\"gridcolor\":\"white\",\"linecolor\":\"white\",\"minorgridcolor\":\"white\",\"startlinecolor\":\"#2a3f5f\"},\"type\":\"carpet\"}],\"table\":[{\"cells\":{\"fill\":{\"color\":\"#EBF0F8\"},\"line\":{\"color\":\"white\"}},\"header\":{\"fill\":{\"color\":\"#C8D4E3\"},\"line\":{\"color\":\"white\"}},\"type\":\"table\"}],\"barpolar\":[{\"marker\":{\"line\":{\"color\":\"#E5ECF6\",\"width\":0.5},\"pattern\":{\"fillmode\":\"overlay\",\"size\":10,\"solidity\":0.2}},\"type\":\"barpolar\"}],\"pie\":[{\"automargin\":true,\"type\":\"pie\"}]},\"layout\":{\"autotypenumbers\":\"strict\",\"colorway\":[\"#636efa\",\"#EF553B\",\"#00cc96\",\"#ab63fa\",\"#FFA15A\",\"#19d3f3\",\"#FF6692\",\"#B6E880\",\"#FF97FF\",\"#FECB52\"],\"font\":{\"color\":\"#2a3f5f\"},\"hovermode\":\"closest\",\"hoverlabel\":{\"align\":\"left\"},\"paper_bgcolor\":\"white\",\"plot_bgcolor\":\"#E5ECF6\",\"polar\":{\"bgcolor\":\"#E5ECF6\",\"angularaxis\":{\"gridcolor\":\"white\",\"linecolor\":\"white\",\"ticks\":\"\"},\"radialaxis\":{\"gridcolor\":\"white\",\"linecolor\":\"white\",\"ticks\":\"\"}},\"ternary\":{\"bgcolor\":\"#E5ECF6\",\"aaxis\":{\"gridcolor\":\"white\",\"linecolor\":\"white\",\"ticks\":\"\"},\"baxis\":{\"gridcolor\":\"white\",\"linecolor\":\"white\",\"ticks\":\"\"},\"caxis\":{\"gridcolor\":\"white\",\"linecolor\":\"white\",\"ticks\":\"\"}},\"coloraxis\":{\"colorbar\":{\"outlinewidth\":0,\"ticks\":\"\"}},\"colorscale\":{\"sequential\":[[0.0,\"#0d0887\"],[0.1111111111111111,\"#46039f\"],[0.2222222222222222,\"#7201a8\"],[0.3333333333333333,\"#9c179e\"],[0.4444444444444444,\"#bd3786\"],[0.5555555555555556,\"#d8576b\"],[0.6666666666666666,\"#ed7953\"],[0.7777777777777778,\"#fb9f3a\"],[0.8888888888888888,\"#fdca26\"],[1.0,\"#f0f921\"]],\"sequentialminus\":[[0.0,\"#0d0887\"],[0.1111111111111111,\"#46039f\"],[0.2222222222222222,\"#7201a8\"],[0.3333333333333333,\"#9c179e\"],[0.4444444444444444,\"#bd3786\"],[0.5555555555555556,\"#d8576b\"],[0.6666666666666666,\"#ed7953\"],[0.7777777777777778,\"#fb9f3a\"],[0.8888888888888888,\"#fdca26\"],[1.0,\"#f0f921\"]],\"diverging\":[[0,\"#8e0152\"],[0.1,\"#c51b7d\"],[0.2,\"#de77ae\"],[0.3,\"#f1b6da\"],[0.4,\"#fde0ef\"],[0.5,\"#f7f7f7\"],[0.6,\"#e6f5d0\"],[0.7,\"#b8e186\"],[0.8,\"#7fbc41\"],[0.9,\"#4d9221\"],[1,\"#276419\"]]},\"xaxis\":{\"gridcolor\":\"white\",\"linecolor\":\"white\",\"ticks\":\"\",\"title\":{\"standoff\":15},\"zerolinecolor\":\"white\",\"automargin\":true,\"zerolinewidth\":2},\"yaxis\":{\"gridcolor\":\"white\",\"linecolor\":\"white\",\"ticks\":\"\",\"title\":{\"standoff\":15},\"zerolinecolor\":\"white\",\"automargin\":true,\"zerolinewidth\":2},\"scene\":{\"xaxis\":{\"backgroundcolor\":\"#E5ECF6\",\"gridcolor\":\"white\",\"linecolor\":\"white\",\"showbackground\":true,\"ticks\":\"\",\"zerolinecolor\":\"white\",\"gridwidth\":2},\"yaxis\":{\"backgroundcolor\":\"#E5ECF6\",\"gridcolor\":\"white\",\"linecolor\":\"white\",\"showbackground\":true,\"ticks\":\"\",\"zerolinecolor\":\"white\",\"gridwidth\":2},\"zaxis\":{\"backgroundcolor\":\"#E5ECF6\",\"gridcolor\":\"white\",\"linecolor\":\"white\",\"showbackground\":true,\"ticks\":\"\",\"zerolinecolor\":\"white\",\"gridwidth\":2}},\"shapedefaults\":{\"line\":{\"color\":\"#2a3f5f\"}},\"annotationdefaults\":{\"arrowcolor\":\"#2a3f5f\",\"arrowhead\":0,\"arrowwidth\":1},\"geo\":{\"bgcolor\":\"white\",\"landcolor\":\"#E5ECF6\",\"subunitcolor\":\"white\",\"showland\":true,\"showlakes\":true,\"lakecolor\":\"white\"},\"title\":{\"x\":0.05},\"mapbox\":{\"style\":\"light\"}}}},                        {\"responsive\": true}                    ).then(function(){\n",
       "                            \n",
       "var gd = document.getElementById('82318aa9-cafb-43f7-8d1e-f79a0c2fe491');\n",
       "var x = new MutationObserver(function (mutations, observer) {{\n",
       "        var display = window.getComputedStyle(gd).display;\n",
       "        if (!display || display === 'none') {{\n",
       "            console.log([gd, 'removed!']);\n",
       "            Plotly.purge(gd);\n",
       "            observer.disconnect();\n",
       "        }}\n",
       "}});\n",
       "\n",
       "// Listen for the removal of the full notebook cells\n",
       "var notebookContainer = gd.closest('#notebook-container');\n",
       "if (notebookContainer) {{\n",
       "    x.observe(notebookContainer, {childList: true});\n",
       "}}\n",
       "\n",
       "// Listen for the clearing of the current output cell\n",
       "var outputEl = gd.closest('.output');\n",
       "if (outputEl) {{\n",
       "    x.observe(outputEl, {childList: true});\n",
       "}}\n",
       "\n",
       "                        })                };                });            </script>        </div>"
      ]
     },
     "metadata": {},
     "output_type": "display_data"
    }
   ],
   "source": [
    "fig = go.Figure(data=[go.Pie(labels=x['shop_id'], values=x['revenue'])])\n",
    "fig.show() "
   ]
  },
  {
   "cell_type": "markdown",
   "id": "9edffa23",
   "metadata": {},
   "source": [
    "Let's investigate the sales seasons and best sellers items for those 10 leading outlets:"
   ]
  },
  {
   "cell_type": "code",
   "execution_count": 1143,
   "id": "c5988fdd",
   "metadata": {},
   "outputs": [
    {
     "data": {
      "text/html": [
       "<div>\n",
       "<style scoped>\n",
       "    .dataframe tbody tr th:only-of-type {\n",
       "        vertical-align: middle;\n",
       "    }\n",
       "\n",
       "    .dataframe tbody tr th {\n",
       "        vertical-align: top;\n",
       "    }\n",
       "\n",
       "    .dataframe thead th {\n",
       "        text-align: right;\n",
       "    }\n",
       "</style>\n",
       "<table border=\"1\" class=\"dataframe\">\n",
       "  <thead>\n",
       "    <tr style=\"text-align: right;\">\n",
       "      <th></th>\n",
       "      <th>purchase_id</th>\n",
       "      <th>item_id</th>\n",
       "      <th>quantity</th>\n",
       "      <th>purchase_date</th>\n",
       "      <th>customer_id</th>\n",
       "      <th>loyalty_program</th>\n",
       "      <th>shop_id</th>\n",
       "      <th>price_per_one</th>\n",
       "      <th>month</th>\n",
       "      <th>revenue</th>\n",
       "    </tr>\n",
       "  </thead>\n",
       "  <tbody>\n",
       "    <tr>\n",
       "      <th>3</th>\n",
       "      <td>543543</td>\n",
       "      <td>22271</td>\n",
       "      <td>0</td>\n",
       "      <td>2017-02-09 15:33:00</td>\n",
       "      <td>23522.0</td>\n",
       "      <td>1</td>\n",
       "      <td>28</td>\n",
       "      <td>2.55</td>\n",
       "      <td>2017-02</td>\n",
       "      <td>0.00</td>\n",
       "    </tr>\n",
       "    <tr>\n",
       "      <th>4</th>\n",
       "      <td>543812</td>\n",
       "      <td>79321</td>\n",
       "      <td>0</td>\n",
       "      <td>2017-02-13 14:40:00</td>\n",
       "      <td>23151.0</td>\n",
       "      <td>1</td>\n",
       "      <td>28</td>\n",
       "      <td>0.00</td>\n",
       "      <td>2017-02</td>\n",
       "      <td>0.00</td>\n",
       "    </tr>\n",
       "    <tr>\n",
       "      <th>5</th>\n",
       "      <td>538379</td>\n",
       "      <td>22965</td>\n",
       "      <td>0</td>\n",
       "      <td>2016-12-12 11:26:00</td>\n",
       "      <td>22805.0</td>\n",
       "      <td>1</td>\n",
       "      <td>20</td>\n",
       "      <td>1.85</td>\n",
       "      <td>2016-12</td>\n",
       "      <td>0.00</td>\n",
       "    </tr>\n",
       "    <tr>\n",
       "      <th>6</th>\n",
       "      <td>540468</td>\n",
       "      <td>22189</td>\n",
       "      <td>0</td>\n",
       "      <td>2017-01-07 13:55:00</td>\n",
       "      <td>540468</td>\n",
       "      <td>0</td>\n",
       "      <td>0</td>\n",
       "      <td>2.31</td>\n",
       "      <td>2017-01</td>\n",
       "      <td>0.00</td>\n",
       "    </tr>\n",
       "    <tr>\n",
       "      <th>7</th>\n",
       "      <td>541424</td>\n",
       "      <td>79321</td>\n",
       "      <td>1</td>\n",
       "      <td>2017-01-17 17:57:00</td>\n",
       "      <td>541424</td>\n",
       "      <td>0</td>\n",
       "      <td>0</td>\n",
       "      <td>0.00</td>\n",
       "      <td>2017-01</td>\n",
       "      <td>0.00</td>\n",
       "    </tr>\n",
       "    <tr>\n",
       "      <th>...</th>\n",
       "      <td>...</td>\n",
       "      <td>...</td>\n",
       "      <td>...</td>\n",
       "      <td>...</td>\n",
       "      <td>...</td>\n",
       "      <td>...</td>\n",
       "      <td>...</td>\n",
       "      <td>...</td>\n",
       "      <td>...</td>\n",
       "      <td>...</td>\n",
       "    </tr>\n",
       "    <tr>\n",
       "      <th>104294</th>\n",
       "      <td>538349</td>\n",
       "      <td>22625</td>\n",
       "      <td>0</td>\n",
       "      <td>2016-12-10 14:59:00</td>\n",
       "      <td>538349</td>\n",
       "      <td>0</td>\n",
       "      <td>0</td>\n",
       "      <td>0.00</td>\n",
       "      <td>2016-12</td>\n",
       "      <td>0.00</td>\n",
       "    </tr>\n",
       "    <tr>\n",
       "      <th>104295</th>\n",
       "      <td>537886</td>\n",
       "      <td>22158</td>\n",
       "      <td>7</td>\n",
       "      <td>2016-12-09 09:49:00</td>\n",
       "      <td>21339.0</td>\n",
       "      <td>0</td>\n",
       "      <td>13</td>\n",
       "      <td>0.00</td>\n",
       "      <td>2016-12</td>\n",
       "      <td>0.00</td>\n",
       "    </tr>\n",
       "    <tr>\n",
       "      <th>104296</th>\n",
       "      <td>540154</td>\n",
       "      <td>22134</td>\n",
       "      <td>3</td>\n",
       "      <td>2017-01-05 11:30:00</td>\n",
       "      <td>540154</td>\n",
       "      <td>0</td>\n",
       "      <td>0</td>\n",
       "      <td>0.42</td>\n",
       "      <td>2017-01</td>\n",
       "      <td>1.26</td>\n",
       "    </tr>\n",
       "    <tr>\n",
       "      <th>104297</th>\n",
       "      <td>538566</td>\n",
       "      <td>21826</td>\n",
       "      <td>1</td>\n",
       "      <td>2016-12-13 11:21:00</td>\n",
       "      <td>538566</td>\n",
       "      <td>0</td>\n",
       "      <td>0</td>\n",
       "      <td>1.25</td>\n",
       "      <td>2016-12</td>\n",
       "      <td>1.25</td>\n",
       "    </tr>\n",
       "    <tr>\n",
       "      <th>104300</th>\n",
       "      <td>538207</td>\n",
       "      <td>22818</td>\n",
       "      <td>11</td>\n",
       "      <td>2016-12-10 11:33:00</td>\n",
       "      <td>18427.0</td>\n",
       "      <td>0</td>\n",
       "      <td>29</td>\n",
       "      <td>0.42</td>\n",
       "      <td>2016-12</td>\n",
       "      <td>4.62</td>\n",
       "    </tr>\n",
       "  </tbody>\n",
       "</table>\n",
       "<p>51647 rows × 10 columns</p>\n",
       "</div>"
      ],
      "text/plain": [
       "       purchase_id item_id  quantity       purchase_date customer_id  \\\n",
       "3           543543   22271         0 2017-02-09 15:33:00     23522.0   \n",
       "4           543812   79321         0 2017-02-13 14:40:00     23151.0   \n",
       "5           538379   22965         0 2016-12-12 11:26:00     22805.0   \n",
       "6           540468   22189         0 2017-01-07 13:55:00      540468   \n",
       "7           541424   79321         1 2017-01-17 17:57:00      541424   \n",
       "...            ...     ...       ...                 ...         ...   \n",
       "104294      538349   22625         0 2016-12-10 14:59:00      538349   \n",
       "104295      537886   22158         7 2016-12-09 09:49:00     21339.0   \n",
       "104296      540154   22134         3 2017-01-05 11:30:00      540154   \n",
       "104297      538566   21826         1 2016-12-13 11:21:00      538566   \n",
       "104300      538207   22818        11 2016-12-10 11:33:00     18427.0   \n",
       "\n",
       "        loyalty_program shop_id  price_per_one    month  revenue  \n",
       "3                     1      28           2.55  2017-02     0.00  \n",
       "4                     1      28           0.00  2017-02     0.00  \n",
       "5                     1      20           1.85  2016-12     0.00  \n",
       "6                     0       0           2.31  2017-01     0.00  \n",
       "7                     0       0           0.00  2017-01     0.00  \n",
       "...                 ...     ...            ...      ...      ...  \n",
       "104294                0       0           0.00  2016-12     0.00  \n",
       "104295                0      13           0.00  2016-12     0.00  \n",
       "104296                0       0           0.42  2017-01     1.26  \n",
       "104297                0       0           1.25  2016-12     1.25  \n",
       "104300                0      29           0.42  2016-12     4.62  \n",
       "\n",
       "[51647 rows x 10 columns]"
      ]
     },
     "execution_count": 1143,
     "metadata": {},
     "output_type": "execute_result"
    }
   ],
   "source": [
    "y = merged_data[merged_data['shop_id'].isin(x['shop_id'])]\n",
    "y"
   ]
  },
  {
   "cell_type": "code",
   "execution_count": 1144,
   "id": "e6abca57",
   "metadata": {},
   "outputs": [
    {
     "data": {
      "image/png": "[encoded data removed]",
      "text/plain": [
       "<Figure size 432x288 with 1 Axes>"
      ]
     },
     "metadata": {
      "needs_background": "light"
     },
     "output_type": "display_data"
    },
    {
     "data": {
      "image/png": "[encoded data removed]",
      "text/plain": [
       "<Figure size 432x288 with 1 Axes>"
      ]
     },
     "metadata": {
      "needs_background": "light"
     },
     "output_type": "display_data"
    },
    {
     "data": {
      "image/png": "[encoded data removed]",
      "text/plain": [
       "<Figure size 1080x360 with 1 Axes>"
      ]
     },
     "metadata": {
      "needs_background": "light"
     },
     "output_type": "display_data"
    },
    {
     "data": {
      "image/png": "[encoded data removed]",
      "text/plain": [
       "<Figure size 1080x360 with 1 Axes>"
      ]
     },
     "metadata": {
      "needs_background": "light"
     },
     "output_type": "display_data"
    },
    {
     "data": {
      "image/png": "[encoded data removed]",
      "text/plain": [
       "<Figure size 1080x360 with 1 Axes>"
      ]
     },
     "metadata": {
      "needs_background": "light"
     },
     "output_type": "display_data"
    },
    {
     "data": {
      "image/png": "[encoded data removed]",
      "text/plain": [
       "<Figure size 1080x360 with 1 Axes>"
      ]
     },
     "metadata": {
      "needs_background": "light"
     },
     "output_type": "display_data"
    }
   ],
   "source": [
    "z = y.groupby('month')['purchase_id'].nunique().reset_index()\n",
    "sns.barplot(x='month', y='purchase_id', data=z).set(title='Sales per month - number of transactions')\n",
    "plt.show()\n",
    "z = y.groupby('month')['revenue'].sum().reset_index()\n",
    "sns.barplot(x='month', y='revenue', data=z).set(title='Sales per month - revenue')\n",
    "plt.show()\n",
    "z = y.groupby('item_id')['purchase_id'].nunique().reset_index()\n",
    "fig = plt.figure(figsize = (15, 5))\n",
    "sns.barplot(x='item_id', y='purchase_id', data=z).set(title='Sales per item - number of transactions')\n",
    "plt.show()\n",
    "z = y.groupby('item_id')['revenue'].sum().reset_index()\n",
    "fig = plt.figure(figsize = (15, 5))\n",
    "sns.barplot(x='item_id', y='revenue', data=z).set(title='Sales per item - revenue')\n",
    "plt.show()\n",
    "z = y.groupby('item_id')['purchase_id'].nunique().sort_values(ascending=False).reset_index().head(10)\n",
    "fig = plt.figure(figsize = (15, 5))\n",
    "sns.barplot(x='item_id', y='purchase_id', data=z).set(title='Sales per item (top 10) - number of transactions')\n",
    "plt.show()\n",
    "z = y.groupby('item_id')['revenue'].sum().sort_values(ascending=False).reset_index().head(10)\n",
    "fig = plt.figure(figsize = (15, 5))\n",
    "sns.barplot(x='item_id', y='revenue', data=z).set(title='Sales per item (top 10) - revenue')\n",
    "plt.show()"
   ]
  },
  {
   "cell_type": "markdown",
   "id": "1db99f50",
   "metadata": {},
   "source": [
    "No special insights."
   ]
  },
  {
   "cell_type": "markdown",
   "id": "795f7d41",
   "metadata": {},
   "source": [
    "## Part 4 - Test statistical hypotheses"
   ]
  },
  {
   "cell_type": "markdown",
   "id": "8aa10e30",
   "metadata": {},
   "source": [
    "I would like to test the next hypothesis: avarage revenue for cheaper products differs from avg revenue for more expensive products. \n",
    "\n",
    "It seems to be clear that more expensive products will have a larger revenue, as they cost more...\n",
    "But we need to keep in mind that in the end, revenue is also a function of the amount of sales, and it is possible that cheaper products are sold in such larger quantities that their average turnover is greater than the average turnover of an expensive product.\n",
    "\n",
    "To check the hypothesis we need first to split our data in to \"cheap\" and \"expensive\" products.\n",
    "First let's find out where should we place the border:"
   ]
  },
  {
   "cell_type": "code",
   "execution_count": 1145,
   "id": "ef07434f",
   "metadata": {},
   "outputs": [
    {
     "data": {
      "text/plain": [
       "count    85351.000000\n",
       "mean         1.526004\n",
       "std          1.317251\n",
       "min          0.000000\n",
       "25%          0.420000\n",
       "50%          1.250000\n",
       "75%          2.250000\n",
       "max          5.550000\n",
       "Name: price_per_one, dtype: float64"
      ]
     },
     "execution_count": 1145,
     "metadata": {},
     "output_type": "execute_result"
    }
   ],
   "source": [
    "merged_data['price_per_one'].describe()"
   ]
  },
  {
   "cell_type": "markdown",
   "id": "1131fd85",
   "metadata": {},
   "source": [
    "Let's split it this way: less than $2.1 will get \"True\" value in \"cheap\" column. else will get \"False\":"
   ]
  },
  {
   "cell_type": "code",
   "execution_count": 1146,
   "id": "eecc6904",
   "metadata": {},
   "outputs": [
    {
     "name": "stderr",
     "output_type": "stream",
     "text": [
      "C:\\Users\\user\\AppData\\Local\\Temp/ipykernel_10960/2801990051.py:1: SettingWithCopyWarning:\n",
      "\n",
      "\n",
      "A value is trying to be set on a copy of a slice from a DataFrame.\n",
      "Try using .loc[row_indexer,col_indexer] = value instead\n",
      "\n",
      "See the caveats in the documentation: https://pandas.pydata.org/pandas-docs/stable/user_guide/indexing.html#returning-a-view-versus-a-copy\n",
      "\n"
     ]
    },
    {
     "data": {
      "text/html": [
       "<div>\n",
       "<style scoped>\n",
       "    .dataframe tbody tr th:only-of-type {\n",
       "        vertical-align: middle;\n",
       "    }\n",
       "\n",
       "    .dataframe tbody tr th {\n",
       "        vertical-align: top;\n",
       "    }\n",
       "\n",
       "    .dataframe thead th {\n",
       "        text-align: right;\n",
       "    }\n",
       "</style>\n",
       "<table border=\"1\" class=\"dataframe\">\n",
       "  <thead>\n",
       "    <tr style=\"text-align: right;\">\n",
       "      <th></th>\n",
       "      <th>purchase_id</th>\n",
       "      <th>item_id</th>\n",
       "      <th>quantity</th>\n",
       "      <th>purchase_date</th>\n",
       "      <th>customer_id</th>\n",
       "      <th>loyalty_program</th>\n",
       "      <th>shop_id</th>\n",
       "      <th>price_per_one</th>\n",
       "      <th>month</th>\n",
       "      <th>revenue</th>\n",
       "      <th>cheap</th>\n",
       "    </tr>\n",
       "  </thead>\n",
       "  <tbody>\n",
       "    <tr>\n",
       "      <th>0</th>\n",
       "      <td>538280</td>\n",
       "      <td>21873</td>\n",
       "      <td>11</td>\n",
       "      <td>2016-12-10 12:50:00</td>\n",
       "      <td>18427.0</td>\n",
       "      <td>0</td>\n",
       "      <td>3</td>\n",
       "      <td>0.42</td>\n",
       "      <td>2016-12</td>\n",
       "      <td>4.62</td>\n",
       "      <td>True</td>\n",
       "    </tr>\n",
       "    <tr>\n",
       "      <th>1</th>\n",
       "      <td>538862</td>\n",
       "      <td>22195</td>\n",
       "      <td>0</td>\n",
       "      <td>2016-12-14 14:11:00</td>\n",
       "      <td>22389.0</td>\n",
       "      <td>1</td>\n",
       "      <td>2</td>\n",
       "      <td>1.65</td>\n",
       "      <td>2016-12</td>\n",
       "      <td>0.00</td>\n",
       "      <td>True</td>\n",
       "    </tr>\n",
       "    <tr>\n",
       "      <th>2</th>\n",
       "      <td>538855</td>\n",
       "      <td>21239</td>\n",
       "      <td>7</td>\n",
       "      <td>2016-12-14 13:50:00</td>\n",
       "      <td>22182.0</td>\n",
       "      <td>1</td>\n",
       "      <td>3</td>\n",
       "      <td>0.72</td>\n",
       "      <td>2016-12</td>\n",
       "      <td>5.04</td>\n",
       "      <td>True</td>\n",
       "    </tr>\n",
       "    <tr>\n",
       "      <th>3</th>\n",
       "      <td>543543</td>\n",
       "      <td>22271</td>\n",
       "      <td>0</td>\n",
       "      <td>2017-02-09 15:33:00</td>\n",
       "      <td>23522.0</td>\n",
       "      <td>1</td>\n",
       "      <td>28</td>\n",
       "      <td>2.55</td>\n",
       "      <td>2017-02</td>\n",
       "      <td>0.00</td>\n",
       "      <td>False</td>\n",
       "    </tr>\n",
       "    <tr>\n",
       "      <th>4</th>\n",
       "      <td>543812</td>\n",
       "      <td>79321</td>\n",
       "      <td>0</td>\n",
       "      <td>2017-02-13 14:40:00</td>\n",
       "      <td>23151.0</td>\n",
       "      <td>1</td>\n",
       "      <td>28</td>\n",
       "      <td>0.00</td>\n",
       "      <td>2017-02</td>\n",
       "      <td>0.00</td>\n",
       "      <td>True</td>\n",
       "    </tr>\n",
       "  </tbody>\n",
       "</table>\n",
       "</div>"
      ],
      "text/plain": [
       "  purchase_id item_id  quantity       purchase_date customer_id  \\\n",
       "0      538280   21873        11 2016-12-10 12:50:00     18427.0   \n",
       "1      538862   22195         0 2016-12-14 14:11:00     22389.0   \n",
       "2      538855   21239         7 2016-12-14 13:50:00     22182.0   \n",
       "3      543543   22271         0 2017-02-09 15:33:00     23522.0   \n",
       "4      543812   79321         0 2017-02-13 14:40:00     23151.0   \n",
       "\n",
       "   loyalty_program shop_id  price_per_one    month  revenue  cheap  \n",
       "0                0       3           0.42  2016-12     4.62   True  \n",
       "1                1       2           1.65  2016-12     0.00   True  \n",
       "2                1       3           0.72  2016-12     5.04   True  \n",
       "3                1      28           2.55  2017-02     0.00  False  \n",
       "4                1      28           0.00  2017-02     0.00   True  "
      ]
     },
     "execution_count": 1146,
     "metadata": {},
     "output_type": "execute_result"
    }
   ],
   "source": [
    "merged_data['cheap'] = np.where(merged_data['price_per_one'] < 2.1, True, False)\n",
    "merged_data.head()"
   ]
  },
  {
   "cell_type": "code",
   "execution_count": 1147,
   "id": "e889b3cc",
   "metadata": {},
   "outputs": [
    {
     "data": {
      "text/html": [
       "<div>\n",
       "<style scoped>\n",
       "    .dataframe tbody tr th:only-of-type {\n",
       "        vertical-align: middle;\n",
       "    }\n",
       "\n",
       "    .dataframe tbody tr th {\n",
       "        vertical-align: top;\n",
       "    }\n",
       "\n",
       "    .dataframe thead th {\n",
       "        text-align: right;\n",
       "    }\n",
       "</style>\n",
       "<table border=\"1\" class=\"dataframe\">\n",
       "  <thead>\n",
       "    <tr style=\"text-align: right;\">\n",
       "      <th></th>\n",
       "      <th>item_id</th>\n",
       "      <th>revenue</th>\n",
       "    </tr>\n",
       "  </thead>\n",
       "  <tbody>\n",
       "    <tr>\n",
       "      <th>0</th>\n",
       "      <td>10002</td>\n",
       "      <td>198.05</td>\n",
       "    </tr>\n",
       "    <tr>\n",
       "      <th>1</th>\n",
       "      <td>10080</td>\n",
       "      <td>0.85</td>\n",
       "    </tr>\n",
       "    <tr>\n",
       "      <th>2</th>\n",
       "      <td>10120</td>\n",
       "      <td>2.52</td>\n",
       "    </tr>\n",
       "    <tr>\n",
       "      <th>3</th>\n",
       "      <td>10123C</td>\n",
       "      <td>0.00</td>\n",
       "    </tr>\n",
       "    <tr>\n",
       "      <th>4</th>\n",
       "      <td>10124A</td>\n",
       "      <td>2.10</td>\n",
       "    </tr>\n",
       "    <tr>\n",
       "      <th>...</th>\n",
       "      <td>...</td>\n",
       "      <td>...</td>\n",
       "    </tr>\n",
       "    <tr>\n",
       "      <th>1806</th>\n",
       "      <td>DCGS0057</td>\n",
       "      <td>0.00</td>\n",
       "    </tr>\n",
       "    <tr>\n",
       "      <th>1807</th>\n",
       "      <td>DCGS0072</td>\n",
       "      <td>0.00</td>\n",
       "    </tr>\n",
       "    <tr>\n",
       "      <th>1808</th>\n",
       "      <td>DCGS0074</td>\n",
       "      <td>0.00</td>\n",
       "    </tr>\n",
       "    <tr>\n",
       "      <th>1809</th>\n",
       "      <td>M</td>\n",
       "      <td>11.97</td>\n",
       "    </tr>\n",
       "    <tr>\n",
       "      <th>1810</th>\n",
       "      <td>POST</td>\n",
       "      <td>0.00</td>\n",
       "    </tr>\n",
       "  </tbody>\n",
       "</table>\n",
       "<p>1811 rows × 2 columns</p>\n",
       "</div>"
      ],
      "text/plain": [
       "       item_id  revenue\n",
       "0        10002   198.05\n",
       "1        10080     0.85\n",
       "2        10120     2.52\n",
       "3       10123C     0.00\n",
       "4       10124A     2.10\n",
       "...        ...      ...\n",
       "1806  DCGS0057     0.00\n",
       "1807  DCGS0072     0.00\n",
       "1808  DCGS0074     0.00\n",
       "1809         M    11.97\n",
       "1810      POST     0.00\n",
       "\n",
       "[1811 rows x 2 columns]"
      ]
     },
     "execution_count": 1147,
     "metadata": {},
     "output_type": "execute_result"
    }
   ],
   "source": [
    "cheap_items_revenue = merged_data[merged_data['cheap'] == True].groupby('item_id')['revenue'].sum().reset_index()\n",
    "cheap_items_revenue"
   ]
  },
  {
   "cell_type": "code",
   "execution_count": 1148,
   "id": "de34d2fb",
   "metadata": {},
   "outputs": [
    {
     "data": {
      "text/html": [
       "<div>\n",
       "<style scoped>\n",
       "    .dataframe tbody tr th:only-of-type {\n",
       "        vertical-align: middle;\n",
       "    }\n",
       "\n",
       "    .dataframe tbody tr th {\n",
       "        vertical-align: top;\n",
       "    }\n",
       "\n",
       "    .dataframe thead th {\n",
       "        text-align: right;\n",
       "    }\n",
       "</style>\n",
       "<table border=\"1\" class=\"dataframe\">\n",
       "  <thead>\n",
       "    <tr style=\"text-align: right;\">\n",
       "      <th></th>\n",
       "      <th>item_id</th>\n",
       "      <th>revenue</th>\n",
       "    </tr>\n",
       "  </thead>\n",
       "  <tbody>\n",
       "    <tr>\n",
       "      <th>0</th>\n",
       "      <td>15044A</td>\n",
       "      <td>88.50</td>\n",
       "    </tr>\n",
       "    <tr>\n",
       "      <th>1</th>\n",
       "      <td>15044B</td>\n",
       "      <td>97.35</td>\n",
       "    </tr>\n",
       "    <tr>\n",
       "      <th>2</th>\n",
       "      <td>15044C</td>\n",
       "      <td>50.15</td>\n",
       "    </tr>\n",
       "    <tr>\n",
       "      <th>3</th>\n",
       "      <td>15044D</td>\n",
       "      <td>100.30</td>\n",
       "    </tr>\n",
       "    <tr>\n",
       "      <th>4</th>\n",
       "      <td>15056BL</td>\n",
       "      <td>935.55</td>\n",
       "    </tr>\n",
       "    <tr>\n",
       "      <th>...</th>\n",
       "      <td>...</td>\n",
       "      <td>...</td>\n",
       "    </tr>\n",
       "    <tr>\n",
       "      <th>854</th>\n",
       "      <td>DCGSSBOY</td>\n",
       "      <td>0.00</td>\n",
       "    </tr>\n",
       "    <tr>\n",
       "      <th>855</th>\n",
       "      <td>DCGSSGIRL</td>\n",
       "      <td>6.58</td>\n",
       "    </tr>\n",
       "    <tr>\n",
       "      <th>856</th>\n",
       "      <td>DOT</td>\n",
       "      <td>-5.02</td>\n",
       "    </tr>\n",
       "    <tr>\n",
       "      <th>857</th>\n",
       "      <td>S</td>\n",
       "      <td>-28.00</td>\n",
       "    </tr>\n",
       "    <tr>\n",
       "      <th>858</th>\n",
       "      <td>m</td>\n",
       "      <td>0.00</td>\n",
       "    </tr>\n",
       "  </tbody>\n",
       "</table>\n",
       "<p>859 rows × 2 columns</p>\n",
       "</div>"
      ],
      "text/plain": [
       "       item_id  revenue\n",
       "0       15044A    88.50\n",
       "1       15044B    97.35\n",
       "2       15044C    50.15\n",
       "3       15044D   100.30\n",
       "4      15056BL   935.55\n",
       "..         ...      ...\n",
       "854   DCGSSBOY     0.00\n",
       "855  DCGSSGIRL     6.58\n",
       "856        DOT    -5.02\n",
       "857          S   -28.00\n",
       "858          m     0.00\n",
       "\n",
       "[859 rows x 2 columns]"
      ]
     },
     "execution_count": 1148,
     "metadata": {},
     "output_type": "execute_result"
    }
   ],
   "source": [
    "expensive_items_revenue = merged_data[merged_data['cheap'] == False].groupby('item_id')['revenue'].sum().reset_index()\n",
    "expensive_items_revenue"
   ]
  },
  {
   "cell_type": "markdown",
   "id": "a5d2ee68",
   "metadata": {},
   "source": [
    "Here are our null and alternative hypothesis:\n",
    "\n",
    "    H0: Average revenue for cheap items and expensive items is the same\n",
    "    H1: Average revenue for cheap items and expensive items is different"
   ]
  },
  {
   "cell_type": "code",
   "execution_count": 1149,
   "id": "f93b25de",
   "metadata": {},
   "outputs": [
    {
     "data": {
      "text/plain": [
       "LeveneResult(statistic=144.6677726731406, pvalue=1.7303177753302157e-32)"
      ]
     },
     "execution_count": 1149,
     "metadata": {},
     "output_type": "execute_result"
    }
   ],
   "source": [
    "st.levene(cheap_items_revenue['revenue'], expensive_items_revenue['revenue'], center='mean')"
   ]
  },
  {
   "cell_type": "code",
   "execution_count": 1150,
   "id": "a2462a73",
   "metadata": {},
   "outputs": [
    {
     "name": "stdout",
     "output_type": "stream",
     "text": [
      "p-value:  3.0432885136718774e-11\n",
      "We reject the null hypothesis\n",
      "Cheap items revenue mean: 104.24565433462168\n",
      "Expensive items revenue mean: 206.44429569266595\n"
     ]
    }
   ],
   "source": [
    "alpha=0.05\n",
    "result1 = st.ttest_ind(cheap_items_revenue['revenue'], expensive_items_revenue['revenue'], equal_var=False)\n",
    "print('p-value: ', result1.pvalue)\n",
    "\n",
    "if (result1.pvalue < alpha):\n",
    "    print(\"We reject the null hypothesis\")\n",
    "else:\n",
    "    print(\"We can't reject the null hypothesis\")\n",
    "\n",
    "cheap_mean = cheap_items_revenue['revenue'].mean()\n",
    "expensive_mean = expensive_items_revenue['revenue'].mean()\n",
    "\n",
    "print('Cheap items revenue mean:', cheap_mean)\n",
    "print('Expensive items revenue mean:', expensive_mean)"
   ]
  },
  {
   "cell_type": "markdown",
   "id": "19997eed",
   "metadata": {},
   "source": [
    "So expensive items produce more revenue! The conclusions from it might differ - put more effort in develop those kind of items, maybe increase prices...  \n",
    "Interesting!"
   ]
  },
  {
   "cell_type": "markdown",
   "id": "369650d9",
   "metadata": {},
   "source": [
    "Let's plot also a correltion plot between the price per item, and the revenue it produced:"
   ]
  },
  {
   "cell_type": "code",
   "execution_count": 1151,
   "id": "6d7ccd54",
   "metadata": {},
   "outputs": [
    {
     "data": {
      "text/plain": [
       "<AxesSubplot:xlabel='price_per_one', ylabel='revenue'>"
      ]
     },
     "execution_count": 1151,
     "metadata": {},
     "output_type": "execute_result"
    },
    {
     "data": {
      "image/png": "[encoded data removed]",
      "text/plain": [
       "<Figure size 1080x360 with 1 Axes>"
      ]
     },
     "metadata": {
      "needs_background": "light"
     },
     "output_type": "display_data"
    }
   ],
   "source": [
    "all_items_revenue = merged_data.groupby('price_per_one')['revenue'].sum().reset_index()\n",
    "fig = plt.figure(figsize = (15, 5))\n",
    "sns.scatterplot(x='price_per_one', y='revenue', data=all_items_revenue)"
   ]
  },
  {
   "cell_type": "markdown",
   "id": "8bef5830",
   "metadata": {},
   "source": [
    "Another hypothesis I would like to test is: Does members of the loyalty program have different monthly revenue in avg?\n",
    "\n",
    "To answer this question I will want to first add the data for the loyalty program fee ($20 per month).\n",
    "As we don't know when each customer have been registrated to the program, we will follow the assumption that every month he has a purchase that have been registrated as loyalty program purchase, was a month he was a part of the program and payed the fee. \n",
    "\n",
    "Let's calculate accordingaly: "
   ]
  },
  {
   "cell_type": "code",
   "execution_count": 1152,
   "id": "ed1bbb39",
   "metadata": {},
   "outputs": [
    {
     "name": "stderr",
     "output_type": "stream",
     "text": [
      "C:\\Users\\user\\AppData\\Local\\Temp/ipykernel_10960/3370111403.py:1: SettingWithCopyWarning:\n",
      "\n",
      "\n",
      "A value is trying to be set on a copy of a slice from a DataFrame.\n",
      "Try using .loc[row_indexer,col_indexer] = value instead\n",
      "\n",
      "See the caveats in the documentation: https://pandas.pydata.org/pandas-docs/stable/user_guide/indexing.html#returning-a-view-versus-a-copy\n",
      "\n"
     ]
    },
    {
     "data": {
      "text/html": [
       "<div>\n",
       "<style scoped>\n",
       "    .dataframe tbody tr th:only-of-type {\n",
       "        vertical-align: middle;\n",
       "    }\n",
       "\n",
       "    .dataframe tbody tr th {\n",
       "        vertical-align: top;\n",
       "    }\n",
       "\n",
       "    .dataframe thead th {\n",
       "        text-align: right;\n",
       "    }\n",
       "</style>\n",
       "<table border=\"1\" class=\"dataframe\">\n",
       "  <thead>\n",
       "    <tr style=\"text-align: right;\">\n",
       "      <th></th>\n",
       "      <th>purchase_id</th>\n",
       "      <th>item_id</th>\n",
       "      <th>quantity</th>\n",
       "      <th>purchase_date</th>\n",
       "      <th>customer_id</th>\n",
       "      <th>loyalty_program</th>\n",
       "      <th>shop_id</th>\n",
       "      <th>price_per_one</th>\n",
       "      <th>month</th>\n",
       "      <th>revenue</th>\n",
       "      <th>cheap</th>\n",
       "    </tr>\n",
       "  </thead>\n",
       "  <tbody>\n",
       "    <tr>\n",
       "      <th>0</th>\n",
       "      <td>538280</td>\n",
       "      <td>21873</td>\n",
       "      <td>11</td>\n",
       "      <td>2016-12-10 12:50:00</td>\n",
       "      <td>18427.0</td>\n",
       "      <td>0</td>\n",
       "      <td>3</td>\n",
       "      <td>0.42</td>\n",
       "      <td>2016-12</td>\n",
       "      <td>4.62</td>\n",
       "      <td>True</td>\n",
       "    </tr>\n",
       "    <tr>\n",
       "      <th>1</th>\n",
       "      <td>538862</td>\n",
       "      <td>22195</td>\n",
       "      <td>0</td>\n",
       "      <td>2016-12-14 14:11:00</td>\n",
       "      <td>22389.0</td>\n",
       "      <td>1</td>\n",
       "      <td>2</td>\n",
       "      <td>1.65</td>\n",
       "      <td>2016-12</td>\n",
       "      <td>0.00</td>\n",
       "      <td>True</td>\n",
       "    </tr>\n",
       "    <tr>\n",
       "      <th>2</th>\n",
       "      <td>538855</td>\n",
       "      <td>21239</td>\n",
       "      <td>7</td>\n",
       "      <td>2016-12-14 13:50:00</td>\n",
       "      <td>22182.0</td>\n",
       "      <td>1</td>\n",
       "      <td>3</td>\n",
       "      <td>0.72</td>\n",
       "      <td>2016-12</td>\n",
       "      <td>5.04</td>\n",
       "      <td>True</td>\n",
       "    </tr>\n",
       "    <tr>\n",
       "      <th>3</th>\n",
       "      <td>543543</td>\n",
       "      <td>22271</td>\n",
       "      <td>0</td>\n",
       "      <td>2017-02-09 15:33:00</td>\n",
       "      <td>23522.0</td>\n",
       "      <td>1</td>\n",
       "      <td>28</td>\n",
       "      <td>2.55</td>\n",
       "      <td>2017-02</td>\n",
       "      <td>0.00</td>\n",
       "      <td>False</td>\n",
       "    </tr>\n",
       "    <tr>\n",
       "      <th>4</th>\n",
       "      <td>543812</td>\n",
       "      <td>79321</td>\n",
       "      <td>0</td>\n",
       "      <td>2017-02-13 14:40:00</td>\n",
       "      <td>23151.0</td>\n",
       "      <td>1</td>\n",
       "      <td>28</td>\n",
       "      <td>0.00</td>\n",
       "      <td>2017-02</td>\n",
       "      <td>0.00</td>\n",
       "      <td>True</td>\n",
       "    </tr>\n",
       "  </tbody>\n",
       "</table>\n",
       "</div>"
      ],
      "text/plain": [
       "  purchase_id item_id  quantity       purchase_date customer_id  \\\n",
       "0      538280   21873        11 2016-12-10 12:50:00     18427.0   \n",
       "1      538862   22195         0 2016-12-14 14:11:00     22389.0   \n",
       "2      538855   21239         7 2016-12-14 13:50:00     22182.0   \n",
       "3      543543   22271         0 2017-02-09 15:33:00     23522.0   \n",
       "4      543812   79321         0 2017-02-13 14:40:00     23151.0   \n",
       "\n",
       "   loyalty_program shop_id  price_per_one    month  revenue  cheap  \n",
       "0                0       3           0.42  2016-12     4.62   True  \n",
       "1                1       2           1.65  2016-12     0.00   True  \n",
       "2                1       3           0.72  2016-12     5.04   True  \n",
       "3                1      28           2.55  2017-02     0.00  False  \n",
       "4                1      28           0.00  2017-02     0.00   True  "
      ]
     },
     "execution_count": 1152,
     "metadata": {},
     "output_type": "execute_result"
    }
   ],
   "source": [
    "merged_data['month'] = merged_data['purchase_date'].dt.to_period(\"M\")\n",
    "merged_data.head()"
   ]
  },
  {
   "cell_type": "code",
   "execution_count": 1153,
   "id": "488033c2",
   "metadata": {},
   "outputs": [
    {
     "data": {
      "text/html": [
       "<div>\n",
       "<style scoped>\n",
       "    .dataframe tbody tr th:only-of-type {\n",
       "        vertical-align: middle;\n",
       "    }\n",
       "\n",
       "    .dataframe tbody tr th {\n",
       "        vertical-align: top;\n",
       "    }\n",
       "\n",
       "    .dataframe thead th {\n",
       "        text-align: right;\n",
       "    }\n",
       "</style>\n",
       "<table border=\"1\" class=\"dataframe\">\n",
       "  <thead>\n",
       "    <tr style=\"text-align: right;\">\n",
       "      <th></th>\n",
       "      <th>customer_id</th>\n",
       "      <th>month</th>\n",
       "    </tr>\n",
       "  </thead>\n",
       "  <tbody>\n",
       "    <tr>\n",
       "      <th>0</th>\n",
       "      <td>22005.0</td>\n",
       "      <td>[2017-01]</td>\n",
       "    </tr>\n",
       "    <tr>\n",
       "      <th>1</th>\n",
       "      <td>22006.0</td>\n",
       "      <td>[2016-12, 2017-01]</td>\n",
       "    </tr>\n",
       "    <tr>\n",
       "      <th>2</th>\n",
       "      <td>22011.0</td>\n",
       "      <td>[2017-02]</td>\n",
       "    </tr>\n",
       "    <tr>\n",
       "      <th>3</th>\n",
       "      <td>22018.0</td>\n",
       "      <td>[2017-02]</td>\n",
       "    </tr>\n",
       "    <tr>\n",
       "      <th>4</th>\n",
       "      <td>22028.0</td>\n",
       "      <td>[2017-02]</td>\n",
       "    </tr>\n",
       "    <tr>\n",
       "      <th>...</th>\n",
       "      <td>...</td>\n",
       "      <td>...</td>\n",
       "    </tr>\n",
       "    <tr>\n",
       "      <th>542</th>\n",
       "      <td>23938.0</td>\n",
       "      <td>[2016-12]</td>\n",
       "    </tr>\n",
       "    <tr>\n",
       "      <th>543</th>\n",
       "      <td>23939.0</td>\n",
       "      <td>[2017-01, 2016-12]</td>\n",
       "    </tr>\n",
       "    <tr>\n",
       "      <th>544</th>\n",
       "      <td>23948.0</td>\n",
       "      <td>[2016-12]</td>\n",
       "    </tr>\n",
       "    <tr>\n",
       "      <th>545</th>\n",
       "      <td>23956.0</td>\n",
       "      <td>[2017-01]</td>\n",
       "    </tr>\n",
       "    <tr>\n",
       "      <th>546</th>\n",
       "      <td>23962.0</td>\n",
       "      <td>[2017-01, 2017-02]</td>\n",
       "    </tr>\n",
       "  </tbody>\n",
       "</table>\n",
       "<p>547 rows × 2 columns</p>\n",
       "</div>"
      ],
      "text/plain": [
       "     customer_id               month\n",
       "0        22005.0           [2017-01]\n",
       "1        22006.0  [2016-12, 2017-01]\n",
       "2        22011.0           [2017-02]\n",
       "3        22018.0           [2017-02]\n",
       "4        22028.0           [2017-02]\n",
       "..           ...                 ...\n",
       "542      23938.0           [2016-12]\n",
       "543      23939.0  [2017-01, 2016-12]\n",
       "544      23948.0           [2016-12]\n",
       "545      23956.0           [2017-01]\n",
       "546      23962.0  [2017-01, 2017-02]\n",
       "\n",
       "[547 rows x 2 columns]"
      ]
     },
     "execution_count": 1153,
     "metadata": {},
     "output_type": "execute_result"
    }
   ],
   "source": [
    "x = merged_data[merged_data['loyalty_program'] == 1].groupby('customer_id')['month'].unique().reset_index()\n",
    "x"
   ]
  },
  {
   "cell_type": "code",
   "execution_count": 1154,
   "id": "a6105598",
   "metadata": {},
   "outputs": [
    {
     "data": {
      "text/html": [
       "<div>\n",
       "<style scoped>\n",
       "    .dataframe tbody tr th:only-of-type {\n",
       "        vertical-align: middle;\n",
       "    }\n",
       "\n",
       "    .dataframe tbody tr th {\n",
       "        vertical-align: top;\n",
       "    }\n",
       "\n",
       "    .dataframe thead th {\n",
       "        text-align: right;\n",
       "    }\n",
       "</style>\n",
       "<table border=\"1\" class=\"dataframe\">\n",
       "  <thead>\n",
       "    <tr style=\"text-align: right;\">\n",
       "      <th></th>\n",
       "      <th>customer_id</th>\n",
       "      <th>month</th>\n",
       "    </tr>\n",
       "  </thead>\n",
       "  <tbody>\n",
       "    <tr>\n",
       "      <th>0</th>\n",
       "      <td>22005.0</td>\n",
       "      <td>2017-01</td>\n",
       "    </tr>\n",
       "    <tr>\n",
       "      <th>1</th>\n",
       "      <td>22006.0</td>\n",
       "      <td>2016-12</td>\n",
       "    </tr>\n",
       "    <tr>\n",
       "      <th>1</th>\n",
       "      <td>22006.0</td>\n",
       "      <td>2017-01</td>\n",
       "    </tr>\n",
       "    <tr>\n",
       "      <th>2</th>\n",
       "      <td>22011.0</td>\n",
       "      <td>2017-02</td>\n",
       "    </tr>\n",
       "    <tr>\n",
       "      <th>3</th>\n",
       "      <td>22018.0</td>\n",
       "      <td>2017-02</td>\n",
       "    </tr>\n",
       "    <tr>\n",
       "      <th>...</th>\n",
       "      <td>...</td>\n",
       "      <td>...</td>\n",
       "    </tr>\n",
       "    <tr>\n",
       "      <th>543</th>\n",
       "      <td>23939.0</td>\n",
       "      <td>2016-12</td>\n",
       "    </tr>\n",
       "    <tr>\n",
       "      <th>544</th>\n",
       "      <td>23948.0</td>\n",
       "      <td>2016-12</td>\n",
       "    </tr>\n",
       "    <tr>\n",
       "      <th>545</th>\n",
       "      <td>23956.0</td>\n",
       "      <td>2017-01</td>\n",
       "    </tr>\n",
       "    <tr>\n",
       "      <th>546</th>\n",
       "      <td>23962.0</td>\n",
       "      <td>2017-01</td>\n",
       "    </tr>\n",
       "    <tr>\n",
       "      <th>546</th>\n",
       "      <td>23962.0</td>\n",
       "      <td>2017-02</td>\n",
       "    </tr>\n",
       "  </tbody>\n",
       "</table>\n",
       "<p>783 rows × 2 columns</p>\n",
       "</div>"
      ],
      "text/plain": [
       "     customer_id    month\n",
       "0        22005.0  2017-01\n",
       "1        22006.0  2016-12\n",
       "1        22006.0  2017-01\n",
       "2        22011.0  2017-02\n",
       "3        22018.0  2017-02\n",
       "..           ...      ...\n",
       "543      23939.0  2016-12\n",
       "544      23948.0  2016-12\n",
       "545      23956.0  2017-01\n",
       "546      23962.0  2017-01\n",
       "546      23962.0  2017-02\n",
       "\n",
       "[783 rows x 2 columns]"
      ]
     },
     "execution_count": 1154,
     "metadata": {},
     "output_type": "execute_result"
    }
   ],
   "source": [
    "x = x.explode('month')\n",
    "x"
   ]
  },
  {
   "cell_type": "code",
   "execution_count": 1155,
   "id": "2b241bff",
   "metadata": {},
   "outputs": [
    {
     "data": {
      "text/html": [
       "<div>\n",
       "<style scoped>\n",
       "    .dataframe tbody tr th:only-of-type {\n",
       "        vertical-align: middle;\n",
       "    }\n",
       "\n",
       "    .dataframe tbody tr th {\n",
       "        vertical-align: top;\n",
       "    }\n",
       "\n",
       "    .dataframe thead th {\n",
       "        text-align: right;\n",
       "    }\n",
       "</style>\n",
       "<table border=\"1\" class=\"dataframe\">\n",
       "  <thead>\n",
       "    <tr style=\"text-align: right;\">\n",
       "      <th></th>\n",
       "      <th>customer_id</th>\n",
       "      <th>month</th>\n",
       "      <th>revenue</th>\n",
       "    </tr>\n",
       "  </thead>\n",
       "  <tbody>\n",
       "    <tr>\n",
       "      <th>0</th>\n",
       "      <td>22005.0</td>\n",
       "      <td>2017-01</td>\n",
       "      <td>20</td>\n",
       "    </tr>\n",
       "    <tr>\n",
       "      <th>1</th>\n",
       "      <td>22006.0</td>\n",
       "      <td>2016-12</td>\n",
       "      <td>20</td>\n",
       "    </tr>\n",
       "    <tr>\n",
       "      <th>1</th>\n",
       "      <td>22006.0</td>\n",
       "      <td>2017-01</td>\n",
       "      <td>20</td>\n",
       "    </tr>\n",
       "    <tr>\n",
       "      <th>2</th>\n",
       "      <td>22011.0</td>\n",
       "      <td>2017-02</td>\n",
       "      <td>20</td>\n",
       "    </tr>\n",
       "    <tr>\n",
       "      <th>3</th>\n",
       "      <td>22018.0</td>\n",
       "      <td>2017-02</td>\n",
       "      <td>20</td>\n",
       "    </tr>\n",
       "    <tr>\n",
       "      <th>...</th>\n",
       "      <td>...</td>\n",
       "      <td>...</td>\n",
       "      <td>...</td>\n",
       "    </tr>\n",
       "    <tr>\n",
       "      <th>543</th>\n",
       "      <td>23939.0</td>\n",
       "      <td>2016-12</td>\n",
       "      <td>20</td>\n",
       "    </tr>\n",
       "    <tr>\n",
       "      <th>544</th>\n",
       "      <td>23948.0</td>\n",
       "      <td>2016-12</td>\n",
       "      <td>20</td>\n",
       "    </tr>\n",
       "    <tr>\n",
       "      <th>545</th>\n",
       "      <td>23956.0</td>\n",
       "      <td>2017-01</td>\n",
       "      <td>20</td>\n",
       "    </tr>\n",
       "    <tr>\n",
       "      <th>546</th>\n",
       "      <td>23962.0</td>\n",
       "      <td>2017-01</td>\n",
       "      <td>20</td>\n",
       "    </tr>\n",
       "    <tr>\n",
       "      <th>546</th>\n",
       "      <td>23962.0</td>\n",
       "      <td>2017-02</td>\n",
       "      <td>20</td>\n",
       "    </tr>\n",
       "  </tbody>\n",
       "</table>\n",
       "<p>783 rows × 3 columns</p>\n",
       "</div>"
      ],
      "text/plain": [
       "     customer_id    month  revenue\n",
       "0        22005.0  2017-01       20\n",
       "1        22006.0  2016-12       20\n",
       "1        22006.0  2017-01       20\n",
       "2        22011.0  2017-02       20\n",
       "3        22018.0  2017-02       20\n",
       "..           ...      ...      ...\n",
       "543      23939.0  2016-12       20\n",
       "544      23948.0  2016-12       20\n",
       "545      23956.0  2017-01       20\n",
       "546      23962.0  2017-01       20\n",
       "546      23962.0  2017-02       20\n",
       "\n",
       "[783 rows x 3 columns]"
      ]
     },
     "execution_count": 1155,
     "metadata": {},
     "output_type": "execute_result"
    }
   ],
   "source": [
    "x['revenue'] = 20\n",
    "x"
   ]
  },
  {
   "cell_type": "code",
   "execution_count": 1156,
   "id": "5d853ef5",
   "metadata": {},
   "outputs": [
    {
     "data": {
      "text/html": [
       "<div>\n",
       "<style scoped>\n",
       "    .dataframe tbody tr th:only-of-type {\n",
       "        vertical-align: middle;\n",
       "    }\n",
       "\n",
       "    .dataframe tbody tr th {\n",
       "        vertical-align: top;\n",
       "    }\n",
       "\n",
       "    .dataframe thead th {\n",
       "        text-align: right;\n",
       "    }\n",
       "</style>\n",
       "<table border=\"1\" class=\"dataframe\">\n",
       "  <thead>\n",
       "    <tr style=\"text-align: right;\">\n",
       "      <th></th>\n",
       "      <th>customer_id</th>\n",
       "      <th>month</th>\n",
       "      <th>revenue</th>\n",
       "      <th>purchase_id</th>\n",
       "      <th>item_id</th>\n",
       "      <th>quantity</th>\n",
       "      <th>purchase_date</th>\n",
       "      <th>loyalty_program</th>\n",
       "      <th>shop_id</th>\n",
       "      <th>price_per_one</th>\n",
       "    </tr>\n",
       "  </thead>\n",
       "  <tbody>\n",
       "    <tr>\n",
       "      <th>0</th>\n",
       "      <td>22005.0</td>\n",
       "      <td>2017-01</td>\n",
       "      <td>20</td>\n",
       "      <td>22005.02017-01</td>\n",
       "      <td>lp</td>\n",
       "      <td>1</td>\n",
       "      <td>2017-01</td>\n",
       "      <td>1</td>\n",
       "      <td>lp</td>\n",
       "      <td>1</td>\n",
       "    </tr>\n",
       "    <tr>\n",
       "      <th>1</th>\n",
       "      <td>22006.0</td>\n",
       "      <td>2016-12</td>\n",
       "      <td>20</td>\n",
       "      <td>22006.02016-12</td>\n",
       "      <td>lp</td>\n",
       "      <td>1</td>\n",
       "      <td>2016-12</td>\n",
       "      <td>1</td>\n",
       "      <td>lp</td>\n",
       "      <td>1</td>\n",
       "    </tr>\n",
       "    <tr>\n",
       "      <th>1</th>\n",
       "      <td>22006.0</td>\n",
       "      <td>2017-01</td>\n",
       "      <td>20</td>\n",
       "      <td>22006.02017-01</td>\n",
       "      <td>lp</td>\n",
       "      <td>1</td>\n",
       "      <td>2017-01</td>\n",
       "      <td>1</td>\n",
       "      <td>lp</td>\n",
       "      <td>1</td>\n",
       "    </tr>\n",
       "    <tr>\n",
       "      <th>2</th>\n",
       "      <td>22011.0</td>\n",
       "      <td>2017-02</td>\n",
       "      <td>20</td>\n",
       "      <td>22011.02017-02</td>\n",
       "      <td>lp</td>\n",
       "      <td>1</td>\n",
       "      <td>2017-02</td>\n",
       "      <td>1</td>\n",
       "      <td>lp</td>\n",
       "      <td>1</td>\n",
       "    </tr>\n",
       "    <tr>\n",
       "      <th>3</th>\n",
       "      <td>22018.0</td>\n",
       "      <td>2017-02</td>\n",
       "      <td>20</td>\n",
       "      <td>22018.02017-02</td>\n",
       "      <td>lp</td>\n",
       "      <td>1</td>\n",
       "      <td>2017-02</td>\n",
       "      <td>1</td>\n",
       "      <td>lp</td>\n",
       "      <td>1</td>\n",
       "    </tr>\n",
       "    <tr>\n",
       "      <th>...</th>\n",
       "      <td>...</td>\n",
       "      <td>...</td>\n",
       "      <td>...</td>\n",
       "      <td>...</td>\n",
       "      <td>...</td>\n",
       "      <td>...</td>\n",
       "      <td>...</td>\n",
       "      <td>...</td>\n",
       "      <td>...</td>\n",
       "      <td>...</td>\n",
       "    </tr>\n",
       "    <tr>\n",
       "      <th>543</th>\n",
       "      <td>23939.0</td>\n",
       "      <td>2016-12</td>\n",
       "      <td>20</td>\n",
       "      <td>23939.02016-12</td>\n",
       "      <td>lp</td>\n",
       "      <td>1</td>\n",
       "      <td>2016-12</td>\n",
       "      <td>1</td>\n",
       "      <td>lp</td>\n",
       "      <td>1</td>\n",
       "    </tr>\n",
       "    <tr>\n",
       "      <th>544</th>\n",
       "      <td>23948.0</td>\n",
       "      <td>2016-12</td>\n",
       "      <td>20</td>\n",
       "      <td>23948.02016-12</td>\n",
       "      <td>lp</td>\n",
       "      <td>1</td>\n",
       "      <td>2016-12</td>\n",
       "      <td>1</td>\n",
       "      <td>lp</td>\n",
       "      <td>1</td>\n",
       "    </tr>\n",
       "    <tr>\n",
       "      <th>545</th>\n",
       "      <td>23956.0</td>\n",
       "      <td>2017-01</td>\n",
       "      <td>20</td>\n",
       "      <td>23956.02017-01</td>\n",
       "      <td>lp</td>\n",
       "      <td>1</td>\n",
       "      <td>2017-01</td>\n",
       "      <td>1</td>\n",
       "      <td>lp</td>\n",
       "      <td>1</td>\n",
       "    </tr>\n",
       "    <tr>\n",
       "      <th>546</th>\n",
       "      <td>23962.0</td>\n",
       "      <td>2017-01</td>\n",
       "      <td>20</td>\n",
       "      <td>23962.02017-01</td>\n",
       "      <td>lp</td>\n",
       "      <td>1</td>\n",
       "      <td>2017-01</td>\n",
       "      <td>1</td>\n",
       "      <td>lp</td>\n",
       "      <td>1</td>\n",
       "    </tr>\n",
       "    <tr>\n",
       "      <th>546</th>\n",
       "      <td>23962.0</td>\n",
       "      <td>2017-02</td>\n",
       "      <td>20</td>\n",
       "      <td>23962.02017-02</td>\n",
       "      <td>lp</td>\n",
       "      <td>1</td>\n",
       "      <td>2017-02</td>\n",
       "      <td>1</td>\n",
       "      <td>lp</td>\n",
       "      <td>1</td>\n",
       "    </tr>\n",
       "  </tbody>\n",
       "</table>\n",
       "<p>783 rows × 10 columns</p>\n",
       "</div>"
      ],
      "text/plain": [
       "     customer_id    month  revenue     purchase_id item_id  quantity  \\\n",
       "0        22005.0  2017-01       20  22005.02017-01      lp         1   \n",
       "1        22006.0  2016-12       20  22006.02016-12      lp         1   \n",
       "1        22006.0  2017-01       20  22006.02017-01      lp         1   \n",
       "2        22011.0  2017-02       20  22011.02017-02      lp         1   \n",
       "3        22018.0  2017-02       20  22018.02017-02      lp         1   \n",
       "..           ...      ...      ...             ...     ...       ...   \n",
       "543      23939.0  2016-12       20  23939.02016-12      lp         1   \n",
       "544      23948.0  2016-12       20  23948.02016-12      lp         1   \n",
       "545      23956.0  2017-01       20  23956.02017-01      lp         1   \n",
       "546      23962.0  2017-01       20  23962.02017-01      lp         1   \n",
       "546      23962.0  2017-02       20  23962.02017-02      lp         1   \n",
       "\n",
       "    purchase_date  loyalty_program shop_id  price_per_one  \n",
       "0         2017-01                1      lp              1  \n",
       "1         2016-12                1      lp              1  \n",
       "1         2017-01                1      lp              1  \n",
       "2         2017-02                1      lp              1  \n",
       "3         2017-02                1      lp              1  \n",
       "..            ...              ...     ...            ...  \n",
       "543       2016-12                1      lp              1  \n",
       "544       2016-12                1      lp              1  \n",
       "545       2017-01                1      lp              1  \n",
       "546       2017-01                1      lp              1  \n",
       "546       2017-02                1      lp              1  \n",
       "\n",
       "[783 rows x 10 columns]"
      ]
     },
     "execution_count": 1156,
     "metadata": {},
     "output_type": "execute_result"
    }
   ],
   "source": [
    "cols = ['customer_id', 'month']\n",
    "x = x.assign(purchase_id=x[cols].astype(str).apply(''.join, 1))\n",
    "x['item_id'] = 'lp'\n",
    "x['quantity'] = 1\n",
    "x['purchase_date'] = x['month']\n",
    "x['loyalty_program'] = 1\n",
    "x['shop_id'] = 'lp'\n",
    "x['price_per_one'] = 1\n",
    "x"
   ]
  },
  {
   "cell_type": "code",
   "execution_count": 1157,
   "id": "86baa428",
   "metadata": {},
   "outputs": [
    {
     "data": {
      "text/html": [
       "<div>\n",
       "<style scoped>\n",
       "    .dataframe tbody tr th:only-of-type {\n",
       "        vertical-align: middle;\n",
       "    }\n",
       "\n",
       "    .dataframe tbody tr th {\n",
       "        vertical-align: top;\n",
       "    }\n",
       "\n",
       "    .dataframe thead th {\n",
       "        text-align: right;\n",
       "    }\n",
       "</style>\n",
       "<table border=\"1\" class=\"dataframe\">\n",
       "  <thead>\n",
       "    <tr style=\"text-align: right;\">\n",
       "      <th></th>\n",
       "      <th>purchase_id</th>\n",
       "      <th>item_id</th>\n",
       "      <th>quantity</th>\n",
       "      <th>purchase_date</th>\n",
       "      <th>customer_id</th>\n",
       "      <th>loyalty_program</th>\n",
       "      <th>shop_id</th>\n",
       "      <th>price_per_one</th>\n",
       "      <th>revenue</th>\n",
       "      <th>month</th>\n",
       "    </tr>\n",
       "  </thead>\n",
       "  <tbody>\n",
       "    <tr>\n",
       "      <th>0</th>\n",
       "      <td>22005.02017-01</td>\n",
       "      <td>lp</td>\n",
       "      <td>1</td>\n",
       "      <td>2017-01</td>\n",
       "      <td>22005.0</td>\n",
       "      <td>1</td>\n",
       "      <td>lp</td>\n",
       "      <td>1</td>\n",
       "      <td>20</td>\n",
       "      <td>2017-01</td>\n",
       "    </tr>\n",
       "    <tr>\n",
       "      <th>1</th>\n",
       "      <td>22006.02016-12</td>\n",
       "      <td>lp</td>\n",
       "      <td>1</td>\n",
       "      <td>2016-12</td>\n",
       "      <td>22006.0</td>\n",
       "      <td>1</td>\n",
       "      <td>lp</td>\n",
       "      <td>1</td>\n",
       "      <td>20</td>\n",
       "      <td>2016-12</td>\n",
       "    </tr>\n",
       "    <tr>\n",
       "      <th>1</th>\n",
       "      <td>22006.02017-01</td>\n",
       "      <td>lp</td>\n",
       "      <td>1</td>\n",
       "      <td>2017-01</td>\n",
       "      <td>22006.0</td>\n",
       "      <td>1</td>\n",
       "      <td>lp</td>\n",
       "      <td>1</td>\n",
       "      <td>20</td>\n",
       "      <td>2017-01</td>\n",
       "    </tr>\n",
       "    <tr>\n",
       "      <th>2</th>\n",
       "      <td>22011.02017-02</td>\n",
       "      <td>lp</td>\n",
       "      <td>1</td>\n",
       "      <td>2017-02</td>\n",
       "      <td>22011.0</td>\n",
       "      <td>1</td>\n",
       "      <td>lp</td>\n",
       "      <td>1</td>\n",
       "      <td>20</td>\n",
       "      <td>2017-02</td>\n",
       "    </tr>\n",
       "    <tr>\n",
       "      <th>3</th>\n",
       "      <td>22018.02017-02</td>\n",
       "      <td>lp</td>\n",
       "      <td>1</td>\n",
       "      <td>2017-02</td>\n",
       "      <td>22018.0</td>\n",
       "      <td>1</td>\n",
       "      <td>lp</td>\n",
       "      <td>1</td>\n",
       "      <td>20</td>\n",
       "      <td>2017-02</td>\n",
       "    </tr>\n",
       "    <tr>\n",
       "      <th>...</th>\n",
       "      <td>...</td>\n",
       "      <td>...</td>\n",
       "      <td>...</td>\n",
       "      <td>...</td>\n",
       "      <td>...</td>\n",
       "      <td>...</td>\n",
       "      <td>...</td>\n",
       "      <td>...</td>\n",
       "      <td>...</td>\n",
       "      <td>...</td>\n",
       "    </tr>\n",
       "    <tr>\n",
       "      <th>543</th>\n",
       "      <td>23939.02016-12</td>\n",
       "      <td>lp</td>\n",
       "      <td>1</td>\n",
       "      <td>2016-12</td>\n",
       "      <td>23939.0</td>\n",
       "      <td>1</td>\n",
       "      <td>lp</td>\n",
       "      <td>1</td>\n",
       "      <td>20</td>\n",
       "      <td>2016-12</td>\n",
       "    </tr>\n",
       "    <tr>\n",
       "      <th>544</th>\n",
       "      <td>23948.02016-12</td>\n",
       "      <td>lp</td>\n",
       "      <td>1</td>\n",
       "      <td>2016-12</td>\n",
       "      <td>23948.0</td>\n",
       "      <td>1</td>\n",
       "      <td>lp</td>\n",
       "      <td>1</td>\n",
       "      <td>20</td>\n",
       "      <td>2016-12</td>\n",
       "    </tr>\n",
       "    <tr>\n",
       "      <th>545</th>\n",
       "      <td>23956.02017-01</td>\n",
       "      <td>lp</td>\n",
       "      <td>1</td>\n",
       "      <td>2017-01</td>\n",
       "      <td>23956.0</td>\n",
       "      <td>1</td>\n",
       "      <td>lp</td>\n",
       "      <td>1</td>\n",
       "      <td>20</td>\n",
       "      <td>2017-01</td>\n",
       "    </tr>\n",
       "    <tr>\n",
       "      <th>546</th>\n",
       "      <td>23962.02017-01</td>\n",
       "      <td>lp</td>\n",
       "      <td>1</td>\n",
       "      <td>2017-01</td>\n",
       "      <td>23962.0</td>\n",
       "      <td>1</td>\n",
       "      <td>lp</td>\n",
       "      <td>1</td>\n",
       "      <td>20</td>\n",
       "      <td>2017-01</td>\n",
       "    </tr>\n",
       "    <tr>\n",
       "      <th>546</th>\n",
       "      <td>23962.02017-02</td>\n",
       "      <td>lp</td>\n",
       "      <td>1</td>\n",
       "      <td>2017-02</td>\n",
       "      <td>23962.0</td>\n",
       "      <td>1</td>\n",
       "      <td>lp</td>\n",
       "      <td>1</td>\n",
       "      <td>20</td>\n",
       "      <td>2017-02</td>\n",
       "    </tr>\n",
       "  </tbody>\n",
       "</table>\n",
       "<p>783 rows × 10 columns</p>\n",
       "</div>"
      ],
      "text/plain": [
       "        purchase_id item_id  quantity purchase_date  customer_id  \\\n",
       "0    22005.02017-01      lp         1       2017-01      22005.0   \n",
       "1    22006.02016-12      lp         1       2016-12      22006.0   \n",
       "1    22006.02017-01      lp         1       2017-01      22006.0   \n",
       "2    22011.02017-02      lp         1       2017-02      22011.0   \n",
       "3    22018.02017-02      lp         1       2017-02      22018.0   \n",
       "..              ...     ...       ...           ...          ...   \n",
       "543  23939.02016-12      lp         1       2016-12      23939.0   \n",
       "544  23948.02016-12      lp         1       2016-12      23948.0   \n",
       "545  23956.02017-01      lp         1       2017-01      23956.0   \n",
       "546  23962.02017-01      lp         1       2017-01      23962.0   \n",
       "546  23962.02017-02      lp         1       2017-02      23962.0   \n",
       "\n",
       "     loyalty_program shop_id  price_per_one  revenue    month  \n",
       "0                  1      lp              1       20  2017-01  \n",
       "1                  1      lp              1       20  2016-12  \n",
       "1                  1      lp              1       20  2017-01  \n",
       "2                  1      lp              1       20  2017-02  \n",
       "3                  1      lp              1       20  2017-02  \n",
       "..               ...     ...            ...      ...      ...  \n",
       "543                1      lp              1       20  2016-12  \n",
       "544                1      lp              1       20  2016-12  \n",
       "545                1      lp              1       20  2017-01  \n",
       "546                1      lp              1       20  2017-01  \n",
       "546                1      lp              1       20  2017-02  \n",
       "\n",
       "[783 rows x 10 columns]"
      ]
     },
     "execution_count": 1157,
     "metadata": {},
     "output_type": "execute_result"
    }
   ],
   "source": [
    "x = x[['purchase_id', 'item_id', 'quantity', 'purchase_date', 'customer_id', 'loyalty_program', 'shop_id', 'price_per_one', 'revenue', 'month']]\n",
    "x"
   ]
  },
  {
   "cell_type": "markdown",
   "id": "5bda5622",
   "metadata": {},
   "source": [
    "Let's add this data to our merged_data table:"
   ]
  },
  {
   "cell_type": "code",
   "execution_count": 1158,
   "id": "6d453583",
   "metadata": {},
   "outputs": [
    {
     "data": {
      "text/html": [
       "<div>\n",
       "<style scoped>\n",
       "    .dataframe tbody tr th:only-of-type {\n",
       "        vertical-align: middle;\n",
       "    }\n",
       "\n",
       "    .dataframe tbody tr th {\n",
       "        vertical-align: top;\n",
       "    }\n",
       "\n",
       "    .dataframe thead th {\n",
       "        text-align: right;\n",
       "    }\n",
       "</style>\n",
       "<table border=\"1\" class=\"dataframe\">\n",
       "  <thead>\n",
       "    <tr style=\"text-align: right;\">\n",
       "      <th></th>\n",
       "      <th>purchase_id</th>\n",
       "      <th>item_id</th>\n",
       "      <th>quantity</th>\n",
       "      <th>purchase_date</th>\n",
       "      <th>customer_id</th>\n",
       "      <th>loyalty_program</th>\n",
       "      <th>shop_id</th>\n",
       "      <th>price_per_one</th>\n",
       "      <th>month</th>\n",
       "      <th>revenue</th>\n",
       "      <th>cheap</th>\n",
       "    </tr>\n",
       "  </thead>\n",
       "  <tbody>\n",
       "    <tr>\n",
       "      <th>0</th>\n",
       "      <td>538280</td>\n",
       "      <td>21873</td>\n",
       "      <td>11</td>\n",
       "      <td>2016-12-10 12:50:00</td>\n",
       "      <td>18427.0</td>\n",
       "      <td>0</td>\n",
       "      <td>3</td>\n",
       "      <td>0.42</td>\n",
       "      <td>2016-12</td>\n",
       "      <td>4.62</td>\n",
       "      <td>True</td>\n",
       "    </tr>\n",
       "    <tr>\n",
       "      <th>1</th>\n",
       "      <td>538862</td>\n",
       "      <td>22195</td>\n",
       "      <td>0</td>\n",
       "      <td>2016-12-14 14:11:00</td>\n",
       "      <td>22389.0</td>\n",
       "      <td>1</td>\n",
       "      <td>2</td>\n",
       "      <td>1.65</td>\n",
       "      <td>2016-12</td>\n",
       "      <td>0.00</td>\n",
       "      <td>True</td>\n",
       "    </tr>\n",
       "    <tr>\n",
       "      <th>2</th>\n",
       "      <td>538855</td>\n",
       "      <td>21239</td>\n",
       "      <td>7</td>\n",
       "      <td>2016-12-14 13:50:00</td>\n",
       "      <td>22182.0</td>\n",
       "      <td>1</td>\n",
       "      <td>3</td>\n",
       "      <td>0.72</td>\n",
       "      <td>2016-12</td>\n",
       "      <td>5.04</td>\n",
       "      <td>True</td>\n",
       "    </tr>\n",
       "    <tr>\n",
       "      <th>3</th>\n",
       "      <td>543543</td>\n",
       "      <td>22271</td>\n",
       "      <td>0</td>\n",
       "      <td>2017-02-09 15:33:00</td>\n",
       "      <td>23522.0</td>\n",
       "      <td>1</td>\n",
       "      <td>28</td>\n",
       "      <td>2.55</td>\n",
       "      <td>2017-02</td>\n",
       "      <td>0.00</td>\n",
       "      <td>False</td>\n",
       "    </tr>\n",
       "    <tr>\n",
       "      <th>4</th>\n",
       "      <td>543812</td>\n",
       "      <td>79321</td>\n",
       "      <td>0</td>\n",
       "      <td>2017-02-13 14:40:00</td>\n",
       "      <td>23151.0</td>\n",
       "      <td>1</td>\n",
       "      <td>28</td>\n",
       "      <td>0.00</td>\n",
       "      <td>2017-02</td>\n",
       "      <td>0.00</td>\n",
       "      <td>True</td>\n",
       "    </tr>\n",
       "    <tr>\n",
       "      <th>...</th>\n",
       "      <td>...</td>\n",
       "      <td>...</td>\n",
       "      <td>...</td>\n",
       "      <td>...</td>\n",
       "      <td>...</td>\n",
       "      <td>...</td>\n",
       "      <td>...</td>\n",
       "      <td>...</td>\n",
       "      <td>...</td>\n",
       "      <td>...</td>\n",
       "      <td>...</td>\n",
       "    </tr>\n",
       "    <tr>\n",
       "      <th>543</th>\n",
       "      <td>23939.02016-12</td>\n",
       "      <td>lp</td>\n",
       "      <td>1</td>\n",
       "      <td>2016-12</td>\n",
       "      <td>23939.0</td>\n",
       "      <td>1</td>\n",
       "      <td>lp</td>\n",
       "      <td>1.00</td>\n",
       "      <td>2016-12</td>\n",
       "      <td>20.00</td>\n",
       "      <td>NaN</td>\n",
       "    </tr>\n",
       "    <tr>\n",
       "      <th>544</th>\n",
       "      <td>23948.02016-12</td>\n",
       "      <td>lp</td>\n",
       "      <td>1</td>\n",
       "      <td>2016-12</td>\n",
       "      <td>23948.0</td>\n",
       "      <td>1</td>\n",
       "      <td>lp</td>\n",
       "      <td>1.00</td>\n",
       "      <td>2016-12</td>\n",
       "      <td>20.00</td>\n",
       "      <td>NaN</td>\n",
       "    </tr>\n",
       "    <tr>\n",
       "      <th>545</th>\n",
       "      <td>23956.02017-01</td>\n",
       "      <td>lp</td>\n",
       "      <td>1</td>\n",
       "      <td>2017-01</td>\n",
       "      <td>23956.0</td>\n",
       "      <td>1</td>\n",
       "      <td>lp</td>\n",
       "      <td>1.00</td>\n",
       "      <td>2017-01</td>\n",
       "      <td>20.00</td>\n",
       "      <td>NaN</td>\n",
       "    </tr>\n",
       "    <tr>\n",
       "      <th>546</th>\n",
       "      <td>23962.02017-01</td>\n",
       "      <td>lp</td>\n",
       "      <td>1</td>\n",
       "      <td>2017-01</td>\n",
       "      <td>23962.0</td>\n",
       "      <td>1</td>\n",
       "      <td>lp</td>\n",
       "      <td>1.00</td>\n",
       "      <td>2017-01</td>\n",
       "      <td>20.00</td>\n",
       "      <td>NaN</td>\n",
       "    </tr>\n",
       "    <tr>\n",
       "      <th>546</th>\n",
       "      <td>23962.02017-02</td>\n",
       "      <td>lp</td>\n",
       "      <td>1</td>\n",
       "      <td>2017-02</td>\n",
       "      <td>23962.0</td>\n",
       "      <td>1</td>\n",
       "      <td>lp</td>\n",
       "      <td>1.00</td>\n",
       "      <td>2017-02</td>\n",
       "      <td>20.00</td>\n",
       "      <td>NaN</td>\n",
       "    </tr>\n",
       "  </tbody>\n",
       "</table>\n",
       "<p>86134 rows × 11 columns</p>\n",
       "</div>"
      ],
      "text/plain": [
       "        purchase_id item_id  quantity        purchase_date customer_id  \\\n",
       "0            538280   21873        11  2016-12-10 12:50:00     18427.0   \n",
       "1            538862   22195         0  2016-12-14 14:11:00     22389.0   \n",
       "2            538855   21239         7  2016-12-14 13:50:00     22182.0   \n",
       "3            543543   22271         0  2017-02-09 15:33:00     23522.0   \n",
       "4            543812   79321         0  2017-02-13 14:40:00     23151.0   \n",
       "..              ...     ...       ...                  ...         ...   \n",
       "543  23939.02016-12      lp         1              2016-12     23939.0   \n",
       "544  23948.02016-12      lp         1              2016-12     23948.0   \n",
       "545  23956.02017-01      lp         1              2017-01     23956.0   \n",
       "546  23962.02017-01      lp         1              2017-01     23962.0   \n",
       "546  23962.02017-02      lp         1              2017-02     23962.0   \n",
       "\n",
       "     loyalty_program shop_id  price_per_one    month  revenue  cheap  \n",
       "0                  0       3           0.42  2016-12     4.62   True  \n",
       "1                  1       2           1.65  2016-12     0.00   True  \n",
       "2                  1       3           0.72  2016-12     5.04   True  \n",
       "3                  1      28           2.55  2017-02     0.00  False  \n",
       "4                  1      28           0.00  2017-02     0.00   True  \n",
       "..               ...     ...            ...      ...      ...    ...  \n",
       "543                1      lp           1.00  2016-12    20.00    NaN  \n",
       "544                1      lp           1.00  2016-12    20.00    NaN  \n",
       "545                1      lp           1.00  2017-01    20.00    NaN  \n",
       "546                1      lp           1.00  2017-01    20.00    NaN  \n",
       "546                1      lp           1.00  2017-02    20.00    NaN  \n",
       "\n",
       "[86134 rows x 11 columns]"
      ]
     },
     "execution_count": 1158,
     "metadata": {},
     "output_type": "execute_result"
    }
   ],
   "source": [
    "merged_data = merged_data.append(x)\n",
    "merged_data"
   ]
  },
  {
   "cell_type": "markdown",
   "id": "026283ed",
   "metadata": {},
   "source": [
    "Now let's create the relevent tables for chacking our question above: "
   ]
  },
  {
   "cell_type": "code",
   "execution_count": 1159,
   "id": "a2333993",
   "metadata": {},
   "outputs": [
    {
     "data": {
      "text/html": [
       "<div>\n",
       "<style scoped>\n",
       "    .dataframe tbody tr th:only-of-type {\n",
       "        vertical-align: middle;\n",
       "    }\n",
       "\n",
       "    .dataframe tbody tr th {\n",
       "        vertical-align: top;\n",
       "    }\n",
       "\n",
       "    .dataframe thead th {\n",
       "        text-align: right;\n",
       "    }\n",
       "</style>\n",
       "<table border=\"1\" class=\"dataframe\">\n",
       "  <thead>\n",
       "    <tr style=\"text-align: right;\">\n",
       "      <th></th>\n",
       "      <th>customer_id</th>\n",
       "      <th>month</th>\n",
       "      <th>revenue</th>\n",
       "    </tr>\n",
       "  </thead>\n",
       "  <tbody>\n",
       "    <tr>\n",
       "      <th>0</th>\n",
       "      <td>22005.0</td>\n",
       "      <td>2017-01</td>\n",
       "      <td>119.29</td>\n",
       "    </tr>\n",
       "    <tr>\n",
       "      <th>1</th>\n",
       "      <td>22006.0</td>\n",
       "      <td>2016-12</td>\n",
       "      <td>232.44</td>\n",
       "    </tr>\n",
       "    <tr>\n",
       "      <th>2</th>\n",
       "      <td>22006.0</td>\n",
       "      <td>2017-01</td>\n",
       "      <td>284.68</td>\n",
       "    </tr>\n",
       "    <tr>\n",
       "      <th>3</th>\n",
       "      <td>22011.0</td>\n",
       "      <td>2017-02</td>\n",
       "      <td>73.84</td>\n",
       "    </tr>\n",
       "    <tr>\n",
       "      <th>4</th>\n",
       "      <td>22018.0</td>\n",
       "      <td>2017-02</td>\n",
       "      <td>24.16</td>\n",
       "    </tr>\n",
       "    <tr>\n",
       "      <th>...</th>\n",
       "      <td>...</td>\n",
       "      <td>...</td>\n",
       "      <td>...</td>\n",
       "    </tr>\n",
       "    <tr>\n",
       "      <th>778</th>\n",
       "      <td>23939.0</td>\n",
       "      <td>2017-01</td>\n",
       "      <td>162.99</td>\n",
       "    </tr>\n",
       "    <tr>\n",
       "      <th>779</th>\n",
       "      <td>23948.0</td>\n",
       "      <td>2016-12</td>\n",
       "      <td>49.50</td>\n",
       "    </tr>\n",
       "    <tr>\n",
       "      <th>780</th>\n",
       "      <td>23956.0</td>\n",
       "      <td>2017-01</td>\n",
       "      <td>20.00</td>\n",
       "    </tr>\n",
       "    <tr>\n",
       "      <th>781</th>\n",
       "      <td>23962.0</td>\n",
       "      <td>2017-01</td>\n",
       "      <td>41.52</td>\n",
       "    </tr>\n",
       "    <tr>\n",
       "      <th>782</th>\n",
       "      <td>23962.0</td>\n",
       "      <td>2017-02</td>\n",
       "      <td>44.99</td>\n",
       "    </tr>\n",
       "  </tbody>\n",
       "</table>\n",
       "<p>783 rows × 3 columns</p>\n",
       "</div>"
      ],
      "text/plain": [
       "     customer_id    month  revenue\n",
       "0        22005.0  2017-01   119.29\n",
       "1        22006.0  2016-12   232.44\n",
       "2        22006.0  2017-01   284.68\n",
       "3        22011.0  2017-02    73.84\n",
       "4        22018.0  2017-02    24.16\n",
       "..           ...      ...      ...\n",
       "778      23939.0  2017-01   162.99\n",
       "779      23948.0  2016-12    49.50\n",
       "780      23956.0  2017-01    20.00\n",
       "781      23962.0  2017-01    41.52\n",
       "782      23962.0  2017-02    44.99\n",
       "\n",
       "[783 rows x 3 columns]"
      ]
     },
     "execution_count": 1159,
     "metadata": {},
     "output_type": "execute_result"
    }
   ],
   "source": [
    "lp_users_monthly_revenue = merged_data[merged_data['loyalty_program'] == 1].groupby(['customer_id', 'month'])['revenue'].sum().reset_index()\n",
    "lp_users_monthly_revenue"
   ]
  },
  {
   "cell_type": "code",
   "execution_count": 1160,
   "id": "186d1ae9",
   "metadata": {},
   "outputs": [
    {
     "data": {
      "text/html": [
       "<div>\n",
       "<style scoped>\n",
       "    .dataframe tbody tr th:only-of-type {\n",
       "        vertical-align: middle;\n",
       "    }\n",
       "\n",
       "    .dataframe tbody tr th {\n",
       "        vertical-align: top;\n",
       "    }\n",
       "\n",
       "    .dataframe thead th {\n",
       "        text-align: right;\n",
       "    }\n",
       "</style>\n",
       "<table border=\"1\" class=\"dataframe\">\n",
       "  <thead>\n",
       "    <tr style=\"text-align: right;\">\n",
       "      <th></th>\n",
       "      <th>customer_id</th>\n",
       "      <th>month</th>\n",
       "      <th>revenue</th>\n",
       "    </tr>\n",
       "  </thead>\n",
       "  <tbody>\n",
       "    <tr>\n",
       "      <th>0</th>\n",
       "      <td>18026.0</td>\n",
       "      <td>2016-12</td>\n",
       "      <td>338.93</td>\n",
       "    </tr>\n",
       "    <tr>\n",
       "      <th>1</th>\n",
       "      <td>18026.0</td>\n",
       "      <td>2017-01</td>\n",
       "      <td>218.51</td>\n",
       "    </tr>\n",
       "    <tr>\n",
       "      <th>2</th>\n",
       "      <td>18027.0</td>\n",
       "      <td>2016-12</td>\n",
       "      <td>0.00</td>\n",
       "    </tr>\n",
       "    <tr>\n",
       "      <th>3</th>\n",
       "      <td>18027.0</td>\n",
       "      <td>2017-01</td>\n",
       "      <td>0.00</td>\n",
       "    </tr>\n",
       "    <tr>\n",
       "      <th>4</th>\n",
       "      <td>18029.0</td>\n",
       "      <td>2017-02</td>\n",
       "      <td>177.80</td>\n",
       "    </tr>\n",
       "    <tr>\n",
       "      <th>...</th>\n",
       "      <td>...</td>\n",
       "      <td>...</td>\n",
       "      <td>...</td>\n",
       "    </tr>\n",
       "    <tr>\n",
       "      <th>2065</th>\n",
       "      <td>C544581</td>\n",
       "      <td>2017-02</td>\n",
       "      <td>-5.60</td>\n",
       "    </tr>\n",
       "    <tr>\n",
       "      <th>2066</th>\n",
       "      <td>C544583</td>\n",
       "      <td>2017-02</td>\n",
       "      <td>-5.60</td>\n",
       "    </tr>\n",
       "    <tr>\n",
       "      <th>2067</th>\n",
       "      <td>C544587</td>\n",
       "      <td>2017-02</td>\n",
       "      <td>-2.00</td>\n",
       "    </tr>\n",
       "    <tr>\n",
       "      <th>2068</th>\n",
       "      <td>C544589</td>\n",
       "      <td>2017-02</td>\n",
       "      <td>-2.00</td>\n",
       "    </tr>\n",
       "    <tr>\n",
       "      <th>2069</th>\n",
       "      <td>C544671</td>\n",
       "      <td>2017-02</td>\n",
       "      <td>-5.60</td>\n",
       "    </tr>\n",
       "  </tbody>\n",
       "</table>\n",
       "<p>2070 rows × 3 columns</p>\n",
       "</div>"
      ],
      "text/plain": [
       "     customer_id    month  revenue\n",
       "0        18026.0  2016-12   338.93\n",
       "1        18026.0  2017-01   218.51\n",
       "2        18027.0  2016-12     0.00\n",
       "3        18027.0  2017-01     0.00\n",
       "4        18029.0  2017-02   177.80\n",
       "...          ...      ...      ...\n",
       "2065     C544581  2017-02    -5.60\n",
       "2066     C544583  2017-02    -5.60\n",
       "2067     C544587  2017-02    -2.00\n",
       "2068     C544589  2017-02    -2.00\n",
       "2069     C544671  2017-02    -5.60\n",
       "\n",
       "[2070 rows x 3 columns]"
      ]
     },
     "execution_count": 1160,
     "metadata": {},
     "output_type": "execute_result"
    }
   ],
   "source": [
    "nlp_users_monthly_revenue = merged_data[merged_data['loyalty_program'] == 0].groupby(['customer_id', 'month'])['revenue'].sum().reset_index()\n",
    "nlp_users_monthly_revenue"
   ]
  },
  {
   "cell_type": "markdown",
   "id": "dbc1d86e",
   "metadata": {},
   "source": [
    "Here are our null and alternative hypothesis:\n",
    "\n",
    "    H0: Average monthly revenue for the loyalty program users and non loyalty program users is the same\n",
    "    H1: Average monthly revenue for the loyalty program users and non loyalty program users is different"
   ]
  },
  {
   "cell_type": "code",
   "execution_count": 1161,
   "id": "99f75768",
   "metadata": {},
   "outputs": [
    {
     "data": {
      "text/plain": [
       "LeveneResult(statistic=31.691250740205632, pvalue=1.9832526349404145e-08)"
      ]
     },
     "execution_count": 1161,
     "metadata": {},
     "output_type": "execute_result"
    }
   ],
   "source": [
    "st.levene(lp_users_monthly_revenue['revenue'], nlp_users_monthly_revenue['revenue'], center='mean')"
   ]
  },
  {
   "cell_type": "code",
   "execution_count": 1162,
   "id": "2d622bcf",
   "metadata": {},
   "outputs": [
    {
     "name": "stdout",
     "output_type": "stream",
     "text": [
      "p-value:  0.20342106200334167\n",
      "We can't reject the null hypothesis\n",
      "Loyalty program users monthly revenue mean: 139.8116475095784\n",
      "Non loyalty program users monthly revenue mean: 131.55169565217375\n"
     ]
    }
   ],
   "source": [
    "alpha=0.05\n",
    "result1 = st.ttest_ind(lp_users_monthly_revenue['revenue'], nlp_users_monthly_revenue['revenue'], equal_var=False)\n",
    "print('p-value: ', result1.pvalue)\n",
    "\n",
    "if (result1.pvalue < alpha):\n",
    "    print(\"We reject the null hypothesis\")\n",
    "else:\n",
    "    print(\"We can't reject the null hypothesis\")\n",
    "\n",
    "lp_mean = lp_users_monthly_revenue['revenue'].mean()\n",
    "nlp_mean = nlp_users_monthly_revenue['revenue'].mean()\n",
    "\n",
    "print('Loyalty program users monthly revenue mean:', lp_mean)\n",
    "print('Non loyalty program users monthly revenue mean:', nlp_mean)"
   ]
  },
  {
   "cell_type": "markdown",
   "id": "e7c3e1a4",
   "metadata": {},
   "source": [
    "So we can't say that monthly revenue for the loyalty program users and non loyalty program users is different, and remember that the real revenue for the loyalty program purchases is even lower than the data we have (as we don't have the discounts info).\n",
    "\n",
    "It's worth while to put an effort in attracting users to the loyalty program? Maybe not. Or maybe we should put much more effort in thinking how to make our loyalty program much more profitable. "
   ]
  },
  {
   "cell_type": "markdown",
   "id": "6c5a2be4",
   "metadata": {},
   "source": [
    "## Summary and conclusions:"
   ]
  },
  {
   "cell_type": "markdown",
   "id": "cef4366b",
   "metadata": {},
   "source": [
    "In this project we have analysed the sales of the building-material retailer Home World.\n",
    "We have preprocessed our data:\n",
    " - Filled in missing values.\n",
    " - Removed duplicates.\n",
    " - Made needed datatypes changes.  \n",
    " - Merged all the relevant data from our 2 given datasets.\n",
    " - Calculated and added revenue data.\n",
    " \n",
    "We have carried out an exploratory data analysis:\n",
    " - Studied the parameters: 'price_per_one' and 'quantity'. \n",
    " - Removed outliers.\n",
    " - ploted graphs of sales per month, per outlet, per item - for the whole data, and for loyalty program Vs non loyalty program purchases.\n",
    " - additional study for the sales in leading outlets.\n",
    "\n",
    "We have tested 2 statistical hypotheses: \n",
    "1. Average revenue for cheap items and expensive items is different - We have confirmed it. Expensive items brings in more revenue. \n",
    "2. Average monthly revenue for the loyalty program users and non loyalty program users is different - We couldn't confirm this hypothesis.\n",
    "\n",
    "**In my opinion, we can draw the following conclusions and recommendations from our research:**\n",
    " - The end of the year is a good season for sales. Nevertheless, we need to alert managers that our sales are going down, and look in to it more carefully.\n",
    " - Shop 0 is the best seller outlet. We should understand what kind of shop it, and what make it so good. We should also figure out why it's have much more relevance to non loyalty program sales. We should invest more in this shop.\n",
    " - Loyalty program seems to work not so well. There is no better revenue for loyalty program customers, even if we take in consideration their fee. We must understand how can we make this program more profitable, or maybe cancel it.\n",
    " - Expensive items bring in more revenue. We should invest in developing high level, expensive items.\n",
    "<br>Maybe we should increase prices in general."
   ]
  },
  {
   "cell_type": "markdown",
   "id": "a1aa26f5",
   "metadata": {},
   "source": [
    "Link to presentation: https://drive.google.com/file/d/1iqcISk_rBIfW9OMeKGbSX_okAeQmn9eq/view?usp=sharing"
   ]
  },
  {
   "cell_type": "markdown",
   "id": "f53c3c56",
   "metadata": {},
   "source": [
    "Link to dashboard: https://public.tableau.com/app/profile/elik.goldberg/viz/Retailprojectdashboard/Dashboard1?publish=yes"
   ]
  },
  {
   "cell_type": "markdown",
   "id": "c4d8eb79",
   "metadata": {},
   "source": [
    "Sources I have used while working: \n",
    "1. https://stackoverflow.com/questions/51778480/remove-certain-string-from-entire-column-in-pandas-dataframe\n",
    "<br>For the code of dropping the \"shop\" string from the values at the 'Shop_id' column\n",
    "\n",
    "\n",
    "2. https://pandas.pydata.org/docs/reference/api/pandas.core.groupby.DataFrameGroupBy.aggregate.html\n",
    "<br>Refreshing my memory about how to groupby 2 columns\n",
    "\n",
    "\n",
    "3. https://www.statology.org/seaborn-title/\n",
    "<br>For adding title to my barplots\n",
    "\n",
    "\n",
    "4. https://www.codegrepper.com/code-examples/python/new+line+in+jupyter+notebook+markdown\n",
    "<br>To get a new line in markdown cells\n",
    "\n",
    "\n",
    "5. https://www.dataquest.io/blog/tutorial-time-series-analysis-with-pandas/\n",
    "<br>To create the diagrams of sells per date\n",
    "\n",
    "\n",
    "6. https://realpython.com/pandas-merge-join-and-concat/\n",
    "<br>To merge the data"
   ]
  }
 ],
 "metadata": {
  "kernelspec": {
   "display_name": "Python 3 (ipykernel)",
   "language": "python",
   "name": "python3"
  },
  "language_info": {
   "codemirror_mode": {
    "name": "ipython",
    "version": 3
   },
   "file_extension": ".py",
   "mimetype": "text/x-python",
   "name": "python",
   "nbconvert_exporter": "python",
   "pygments_lexer": "ipython3",
   "version": "3.9.7"
  },
  "toc": {
   "base_numbering": 1,
   "nav_menu": {},
   "number_sections": true,
   "sideBar": true,
   "skip_h1_title": true,
   "title_cell": "Table of Contents",
   "title_sidebar": "Contents",
   "toc_cell": false,
   "toc_position": {},
   "toc_section_display": true,
   "toc_window_display": false
  }
 },
 "nbformat": 4,
 "nbformat_minor": 5
}
